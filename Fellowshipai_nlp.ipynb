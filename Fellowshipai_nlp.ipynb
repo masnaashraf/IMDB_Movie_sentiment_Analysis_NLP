{
 "cells": [
  {
   "cell_type": "markdown",
   "id": "bcd2a3fa",
   "metadata": {},
   "source": [
    "# Fellowship.ai Internship"
   ]
  },
  {
   "cell_type": "markdown",
   "id": "258b193d",
   "metadata": {},
   "source": [
    "\n",
    "**Candidate Name : MASNA**\n",
    "\n",
    "**NLP Challenge:**\n",
    "\n",
    "IMDB Dataset of 50K Movie Reviews to perform Sentiment analysis\n",
    "About Dataset\n",
    "IMDB dataset having 50K movie reviews for natural language processing or Text analytics.\n",
    "\n",
    "This is a dataset for binary sentiment classification containing substantially more data than previous benchmark datasets. We provide a set of 25,000 highly polar movie reviews for training and 25,000 for testing. So, predict the number of positive and negative reviews using either classification or deep learning algorithms."
   ]
  },
  {
   "cell_type": "code",
   "execution_count": 89,
   "id": "afa66ee6",
   "metadata": {},
   "outputs": [],
   "source": [
    "# Importing Libraries\n",
    "\n",
    "import numpy as np \n",
    "import pandas as pd\n",
    "import matplotlib.pyplot as plt\n",
    "import seaborn as sns"
   ]
  },
  {
   "cell_type": "code",
   "execution_count": 90,
   "id": "798d009b",
   "metadata": {},
   "outputs": [],
   "source": [
    "# Loading Dataset\n",
    "\n",
    "df = pd.read_csv(\"IMDB Dataset.csv\")"
   ]
  },
  {
   "cell_type": "code",
   "execution_count": 91,
   "id": "2d835bf8",
   "metadata": {},
   "outputs": [
    {
     "data": {
      "text/html": [
       "<div>\n",
       "<style scoped>\n",
       "    .dataframe tbody tr th:only-of-type {\n",
       "        vertical-align: middle;\n",
       "    }\n",
       "\n",
       "    .dataframe tbody tr th {\n",
       "        vertical-align: top;\n",
       "    }\n",
       "\n",
       "    .dataframe thead th {\n",
       "        text-align: right;\n",
       "    }\n",
       "</style>\n",
       "<table border=\"1\" class=\"dataframe\">\n",
       "  <thead>\n",
       "    <tr style=\"text-align: right;\">\n",
       "      <th></th>\n",
       "      <th>review</th>\n",
       "      <th>sentiment</th>\n",
       "    </tr>\n",
       "  </thead>\n",
       "  <tbody>\n",
       "    <tr>\n",
       "      <th>0</th>\n",
       "      <td>One of the other reviewers has mentioned that ...</td>\n",
       "      <td>positive</td>\n",
       "    </tr>\n",
       "    <tr>\n",
       "      <th>1</th>\n",
       "      <td>A wonderful little production. &lt;br /&gt;&lt;br /&gt;The...</td>\n",
       "      <td>positive</td>\n",
       "    </tr>\n",
       "    <tr>\n",
       "      <th>2</th>\n",
       "      <td>I thought this was a wonderful way to spend ti...</td>\n",
       "      <td>positive</td>\n",
       "    </tr>\n",
       "    <tr>\n",
       "      <th>3</th>\n",
       "      <td>Basically there's a family where a little boy ...</td>\n",
       "      <td>negative</td>\n",
       "    </tr>\n",
       "    <tr>\n",
       "      <th>4</th>\n",
       "      <td>Petter Mattei's \"Love in the Time of Money\" is...</td>\n",
       "      <td>positive</td>\n",
       "    </tr>\n",
       "  </tbody>\n",
       "</table>\n",
       "</div>"
      ],
      "text/plain": [
       "                                              review sentiment\n",
       "0  One of the other reviewers has mentioned that ...  positive\n",
       "1  A wonderful little production. <br /><br />The...  positive\n",
       "2  I thought this was a wonderful way to spend ti...  positive\n",
       "3  Basically there's a family where a little boy ...  negative\n",
       "4  Petter Mattei's \"Love in the Time of Money\" is...  positive"
      ]
     },
     "execution_count": 91,
     "metadata": {},
     "output_type": "execute_result"
    }
   ],
   "source": [
    "# Printing Top 5 Rows\n",
    "\n",
    "df.head()"
   ]
  },
  {
   "cell_type": "code",
   "execution_count": 92,
   "id": "cc59e12f",
   "metadata": {},
   "outputs": [
    {
     "data": {
      "text/html": [
       "<div>\n",
       "<style scoped>\n",
       "    .dataframe tbody tr th:only-of-type {\n",
       "        vertical-align: middle;\n",
       "    }\n",
       "\n",
       "    .dataframe tbody tr th {\n",
       "        vertical-align: top;\n",
       "    }\n",
       "\n",
       "    .dataframe thead th {\n",
       "        text-align: right;\n",
       "    }\n",
       "</style>\n",
       "<table border=\"1\" class=\"dataframe\">\n",
       "  <thead>\n",
       "    <tr style=\"text-align: right;\">\n",
       "      <th></th>\n",
       "      <th>review</th>\n",
       "      <th>sentiment</th>\n",
       "    </tr>\n",
       "  </thead>\n",
       "  <tbody>\n",
       "    <tr>\n",
       "      <th>41617</th>\n",
       "      <td>When taken as a whole for its ideas and dissec...</td>\n",
       "      <td>positive</td>\n",
       "    </tr>\n",
       "    <tr>\n",
       "      <th>14531</th>\n",
       "      <td>Alicianne (Laurel Barnett) becomes a live in b...</td>\n",
       "      <td>negative</td>\n",
       "    </tr>\n",
       "    <tr>\n",
       "      <th>18910</th>\n",
       "      <td>with very little screen time and money, Dan Ka...</td>\n",
       "      <td>positive</td>\n",
       "    </tr>\n",
       "    <tr>\n",
       "      <th>27745</th>\n",
       "      <td>I gave this movie a 10 because it needed to be...</td>\n",
       "      <td>positive</td>\n",
       "    </tr>\n",
       "    <tr>\n",
       "      <th>25203</th>\n",
       "      <td>A truly excellent look at the world and the re...</td>\n",
       "      <td>positive</td>\n",
       "    </tr>\n",
       "    <tr>\n",
       "      <th>23700</th>\n",
       "      <td>Semper Fi! I saw \"The D.I.\" in 1957. Two-and-a...</td>\n",
       "      <td>positive</td>\n",
       "    </tr>\n",
       "    <tr>\n",
       "      <th>12863</th>\n",
       "      <td>Army private Gene Kelly, who's also a talented...</td>\n",
       "      <td>negative</td>\n",
       "    </tr>\n",
       "    <tr>\n",
       "      <th>19350</th>\n",
       "      <td>This film is about the encounters of 7 couples...</td>\n",
       "      <td>negative</td>\n",
       "    </tr>\n",
       "    <tr>\n",
       "      <th>13648</th>\n",
       "      <td>first, someone mentioned here that because thi...</td>\n",
       "      <td>positive</td>\n",
       "    </tr>\n",
       "    <tr>\n",
       "      <th>18727</th>\n",
       "      <td>It's easy to forget, once later series had dev...</td>\n",
       "      <td>positive</td>\n",
       "    </tr>\n",
       "  </tbody>\n",
       "</table>\n",
       "</div>"
      ],
      "text/plain": [
       "                                                  review sentiment\n",
       "41617  When taken as a whole for its ideas and dissec...  positive\n",
       "14531  Alicianne (Laurel Barnett) becomes a live in b...  negative\n",
       "18910  with very little screen time and money, Dan Ka...  positive\n",
       "27745  I gave this movie a 10 because it needed to be...  positive\n",
       "25203  A truly excellent look at the world and the re...  positive\n",
       "23700  Semper Fi! I saw \"The D.I.\" in 1957. Two-and-a...  positive\n",
       "12863  Army private Gene Kelly, who's also a talented...  negative\n",
       "19350  This film is about the encounters of 7 couples...  negative\n",
       "13648  first, someone mentioned here that because thi...  positive\n",
       "18727  It's easy to forget, once later series had dev...  positive"
      ]
     },
     "execution_count": 92,
     "metadata": {},
     "output_type": "execute_result"
    }
   ],
   "source": [
    "# Printing Random 10 Rows\n",
    "\n",
    "df.sample(10)"
   ]
  },
  {
   "cell_type": "code",
   "execution_count": 93,
   "id": "c2223346",
   "metadata": {},
   "outputs": [
    {
     "data": {
      "text/plain": [
       "(50000, 2)"
      ]
     },
     "execution_count": 93,
     "metadata": {},
     "output_type": "execute_result"
    }
   ],
   "source": [
    "df.shape"
   ]
  },
  {
   "cell_type": "code",
   "execution_count": 94,
   "id": "903237c4",
   "metadata": {},
   "outputs": [
    {
     "name": "stdout",
     "output_type": "stream",
     "text": [
      "<class 'pandas.core.frame.DataFrame'>\n",
      "RangeIndex: 50000 entries, 0 to 49999\n",
      "Data columns (total 2 columns):\n",
      " #   Column     Non-Null Count  Dtype \n",
      "---  ------     --------------  ----- \n",
      " 0   review     50000 non-null  object\n",
      " 1   sentiment  50000 non-null  object\n",
      "dtypes: object(2)\n",
      "memory usage: 781.4+ KB\n"
     ]
    }
   ],
   "source": [
    "# Printing Dataset Information\n",
    "\n",
    "df.info()"
   ]
  },
  {
   "cell_type": "code",
   "execution_count": 95,
   "id": "22fe98e5",
   "metadata": {},
   "outputs": [
    {
     "data": {
      "text/plain": [
       "review       0\n",
       "sentiment    0\n",
       "dtype: int64"
      ]
     },
     "execution_count": 95,
     "metadata": {},
     "output_type": "execute_result"
    }
   ],
   "source": [
    "# Printing Null Values\n",
    "\n",
    "df.isnull().sum()"
   ]
  },
  {
   "cell_type": "code",
   "execution_count": 96,
   "id": "7ea25482",
   "metadata": {},
   "outputs": [
    {
     "data": {
      "text/plain": [
       "418"
      ]
     },
     "execution_count": 96,
     "metadata": {},
     "output_type": "execute_result"
    }
   ],
   "source": [
    "# Printing Duplicated Values\n",
    "\n",
    "df.duplicated().sum()"
   ]
  },
  {
   "cell_type": "code",
   "execution_count": 97,
   "id": "99022733",
   "metadata": {},
   "outputs": [],
   "source": [
    "# Removing Duplicated Values\n",
    "\n",
    "df.drop_duplicates(inplace=True)"
   ]
  },
  {
   "cell_type": "code",
   "execution_count": 98,
   "id": "f69a3eb6",
   "metadata": {},
   "outputs": [
    {
     "data": {
      "text/plain": [
       "0"
      ]
     },
     "execution_count": 98,
     "metadata": {},
     "output_type": "execute_result"
    }
   ],
   "source": [
    "# Printing Duplicated Values After Removing Duplicated\n",
    "\n",
    "df.duplicated().sum()"
   ]
  },
  {
   "cell_type": "code",
   "execution_count": 99,
   "id": "d42e0fc5",
   "metadata": {},
   "outputs": [
    {
     "data": {
      "text/plain": [
       "\"One of the other reviewers has mentioned that after watching just 1 Oz episode you'll be hooked. They are right, as this is exactly what happened with me.<br /><br />The first thing that struck me about Oz was its brutality and unflinching scenes of violence, which set in right from the word GO. Trust me, this is not a show for the faint hearted or timid. This show pulls no punches with regards to drugs, sex or violence. Its is hardcore, in the classic use of the word.<br /><br />It is called OZ as that is the nickname given to the Oswald Maximum Security State Penitentary. It focuses mainly on Emerald City, an experimental section of the prison where all the cells have glass fronts and face inwards, so privacy is not high on the agenda. Em City is home to many..Aryans, Muslims, gangstas, Latinos, Christians, Italians, Irish and more....so scuffles, death stares, dodgy dealings and shady agreements are never far away.<br /><br />I would say the main appeal of the show is due to the fact that it goes where other shows wouldn't dare. Forget pretty pictures painted for mainstream audiences, forget charm, forget romance...OZ doesn't mess around. The first episode I ever saw struck me as so nasty it was surreal, I couldn't say I was ready for it, but as I watched more, I developed a taste for Oz, and got accustomed to the high levels of graphic violence. Not just violence, but injustice (crooked guards who'll be sold out for a nickel, inmates who'll kill on order and get away with it, well mannered, middle class inmates being turned into prison bitches due to their lack of street skills or prison experience) Watching Oz, you may become comfortable with what is uncomfortable viewing....thats if you can get in touch with your darker side.\""
      ]
     },
     "execution_count": 99,
     "metadata": {},
     "output_type": "execute_result"
    }
   ],
   "source": [
    "# Printing First review column\n",
    "\n",
    "df.review[0]"
   ]
  },
  {
   "cell_type": "code",
   "execution_count": 100,
   "id": "4e55989c",
   "metadata": {},
   "outputs": [
    {
     "data": {
      "text/plain": [
       "positive    24884\n",
       "negative    24698\n",
       "Name: sentiment, dtype: int64"
      ]
     },
     "execution_count": 100,
     "metadata": {},
     "output_type": "execute_result"
    }
   ],
   "source": [
    "df['sentiment'].value_counts()"
   ]
  },
  {
   "cell_type": "code",
   "execution_count": 101,
   "id": "46d1f618",
   "metadata": {},
   "outputs": [
    {
     "data": {
      "image/png": "[encoded data removed]",
      "text/plain": [
       "<Figure size 640x480 with 1 Axes>"
      ]
     },
     "metadata": {},
     "output_type": "display_data"
    }
   ],
   "source": [
    "# Visualize the Pie Chart of Sentiment Column\n",
    "\n",
    "df.sentiment.value_counts().plot(kind='pie', autopct='%1.1f%%', title='Pie Chart of Sentiment Column', legend=True)\n",
    "plt.show()"
   ]
  },
  {
   "cell_type": "markdown",
   "id": "1cd3e1d2",
   "metadata": {},
   "source": [
    "**Text Cleaning**\n",
    "\n",
    "Removing Html tags\n",
    "\n",
    "Converting every thing to lowercase\n",
    "\n",
    "Removing special characters\n",
    "\n",
    "Removing Stop words\n",
    "\n",
    "Lemmatization"
   ]
  },
  {
   "cell_type": "code",
   "execution_count": 102,
   "id": "246c7d64",
   "metadata": {},
   "outputs": [],
   "source": [
    "# In sentiment column converting positive to 1 and negative to 0\n",
    "\n",
    "df.sentiment = df.sentiment.replace({'positive':1, 'negative':0})"
   ]
  },
  {
   "cell_type": "markdown",
   "id": "87377fda",
   "metadata": {},
   "source": [
    "**Removing Html tag**"
   ]
  },
  {
   "cell_type": "code",
   "execution_count": 103,
   "id": "d76a1326",
   "metadata": {},
   "outputs": [
    {
     "data": {
      "text/plain": [
       "\"One of the other reviewers has mentioned that after watching just 1 Oz episode you'll be hooked. They are right, as this is exactly what happened with me.<br /><br />The first thing that struck me about Oz was its brutality and unflinching scenes of violence, which set in right from the word GO. Trust me, this is not a show for the faint hearted or timid. This show pulls no punches with regards to drugs, sex or violence. Its is hardcore, in the classic use of the word.<br /><br />It is called OZ as that is the nickname given to the Oswald Maximum Security State Penitentary. It focuses mainly on Emerald City, an experimental section of the prison where all the cells have glass fronts and face inwards, so privacy is not high on the agenda. Em City is home to many..Aryans, Muslims, gangstas, Latinos, Christians, Italians, Irish and more....so scuffles, death stares, dodgy dealings and shady agreements are never far away.<br /><br />I would say the main appeal of the show is due to the fact that it goes where other shows wouldn't dare. Forget pretty pictures painted for mainstream audiences, forget charm, forget romance...OZ doesn't mess around. The first episode I ever saw struck me as so nasty it was surreal, I couldn't say I was ready for it, but as I watched more, I developed a taste for Oz, and got accustomed to the high levels of graphic violence. Not just violence, but injustice (crooked guards who'll be sold out for a nickel, inmates who'll kill on order and get away with it, well mannered, middle class inmates being turned into prison bitches due to their lack of street skills or prison experience) Watching Oz, you may become comfortable with what is uncomfortable viewing....thats if you can get in touch with your darker side.\""
      ]
     },
     "execution_count": 103,
     "metadata": {},
     "output_type": "execute_result"
    }
   ],
   "source": [
    "# In Review column first row before removing html tag\n",
    "\n",
    "df.review[0]"
   ]
  },
  {
   "cell_type": "code",
   "execution_count": 104,
   "id": "2a15d1e9",
   "metadata": {},
   "outputs": [
    {
     "data": {
      "text/plain": [
       "\"One of the other reviewers has mentioned that after watching just 1 Oz episode you'll be hooked. They are right, as this is exactly what happened with me.The first thing that struck me about Oz was its brutality and unflinching scenes of violence, which set in right from the word GO. Trust me, this is not a show for the faint hearted or timid. This show pulls no punches with regards to drugs, sex or violence. Its is hardcore, in the classic use of the word.It is called OZ as that is the nickname given to the Oswald Maximum Security State Penitentary. It focuses mainly on Emerald City, an experimental section of the prison where all the cells have glass fronts and face inwards, so privacy is not high on the agenda. Em City is home to many..Aryans, Muslims, gangstas, Latinos, Christians, Italians, Irish and more....so scuffles, death stares, dodgy dealings and shady agreements are never far away.I would say the main appeal of the show is due to the fact that it goes where other shows wouldn't dare. Forget pretty pictures painted for mainstream audiences, forget charm, forget romance...OZ doesn't mess around. The first episode I ever saw struck me as so nasty it was surreal, I couldn't say I was ready for it, but as I watched more, I developed a taste for Oz, and got accustomed to the high levels of graphic violence. Not just violence, but injustice (crooked guards who'll be sold out for a nickel, inmates who'll kill on order and get away with it, well mannered, middle class inmates being turned into prison bitches due to their lack of street skills or prison experience) Watching Oz, you may become comfortable with what is uncomfortable viewing....thats if you can get in touch with your darker side.\""
      ]
     },
     "execution_count": 104,
     "metadata": {},
     "output_type": "execute_result"
    }
   ],
   "source": [
    "# removing html tag in First ROW \n",
    "\n",
    "import re\n",
    "clean = re.compile('<.*?>')\n",
    "\n",
    "# In Review column first row after removing html tag\n",
    "\n",
    "re.sub(clean, '',  df.iloc[0].review)"
   ]
  },
  {
   "cell_type": "code",
   "execution_count": 105,
   "id": "ccba09ea",
   "metadata": {},
   "outputs": [],
   "source": [
    "\n",
    "# Function to clean html tags\n",
    "\n",
    "def clean_html(text):\n",
    "    clean = re.compile('<.*?>')\n",
    "    return re.sub(clean, '', text)"
   ]
  },
  {
   "cell_type": "code",
   "execution_count": 106,
   "id": "3f7cbd2e",
   "metadata": {},
   "outputs": [],
   "source": [
    "# Appling Removing html tags function\n",
    "\n",
    "df.review = df.review.apply(clean_html)"
   ]
  },
  {
   "cell_type": "markdown",
   "id": "620d14ad",
   "metadata": {},
   "source": [
    "**Converting every thing to lowercase**"
   ]
  },
  {
   "cell_type": "code",
   "execution_count": 107,
   "id": "47f19a9c",
   "metadata": {},
   "outputs": [],
   "source": [
    "# converting everything to lower\n",
    "\n",
    "def convert_lower(text):\n",
    "    return text.lower()\n"
   ]
  },
  {
   "cell_type": "code",
   "execution_count": 108,
   "id": "194f6f69",
   "metadata": {},
   "outputs": [],
   "source": [
    "# Appling convert_lower function\n",
    "\n",
    "df.review = df.review.apply(convert_lower)"
   ]
  },
  {
   "cell_type": "code",
   "execution_count": 109,
   "id": "4a64065b",
   "metadata": {},
   "outputs": [
    {
     "data": {
      "text/plain": [
       "\"one of the other reviewers has mentioned that after watching just 1 oz episode you'll be hooked. they are right, as this is exactly what happened with me.the first thing that struck me about oz was its brutality and unflinching scenes of violence, which set in right from the word go. trust me, this is not a show for the faint hearted or timid. this show pulls no punches with regards to drugs, sex or violence. its is hardcore, in the classic use of the word.it is called oz as that is the nickname given to the oswald maximum security state penitentary. it focuses mainly on emerald city, an experimental section of the prison where all the cells have glass fronts and face inwards, so privacy is not high on the agenda. em city is home to many..aryans, muslims, gangstas, latinos, christians, italians, irish and more....so scuffles, death stares, dodgy dealings and shady agreements are never far away.i would say the main appeal of the show is due to the fact that it goes where other shows wouldn't dare. forget pretty pictures painted for mainstream audiences, forget charm, forget romance...oz doesn't mess around. the first episode i ever saw struck me as so nasty it was surreal, i couldn't say i was ready for it, but as i watched more, i developed a taste for oz, and got accustomed to the high levels of graphic violence. not just violence, but injustice (crooked guards who'll be sold out for a nickel, inmates who'll kill on order and get away with it, well mannered, middle class inmates being turned into prison bitches due to their lack of street skills or prison experience) watching oz, you may become comfortable with what is uncomfortable viewing....thats if you can get in touch with your darker side.\""
      ]
     },
     "execution_count": 109,
     "metadata": {},
     "output_type": "execute_result"
    }
   ],
   "source": [
    "df.review[0]"
   ]
  },
  {
   "cell_type": "markdown",
   "id": "8f337498",
   "metadata": {},
   "source": [
    "**Removing special characters**"
   ]
  },
  {
   "cell_type": "code",
   "execution_count": 110,
   "id": "af166269",
   "metadata": {},
   "outputs": [],
   "source": [
    "# function to remove special characters\n",
    "\n",
    "def remove_special_chars(text):\n",
    "    clean = re.compile('[^a-zA-Z ]')\n",
    "    return re.sub(clean, '', text)"
   ]
  },
  {
   "cell_type": "code",
   "execution_count": 111,
   "id": "8f9a6f19",
   "metadata": {},
   "outputs": [],
   "source": [
    "# Appling remove_special_chars function\n",
    "\n",
    "df.review = df.review.apply(remove_special_chars)"
   ]
  },
  {
   "cell_type": "code",
   "execution_count": 112,
   "id": "89f6eaa7",
   "metadata": {},
   "outputs": [
    {
     "data": {
      "text/plain": [
       "'one of the other reviewers has mentioned that after watching just  oz episode youll be hooked they are right as this is exactly what happened with methe first thing that struck me about oz was its brutality and unflinching scenes of violence which set in right from the word go trust me this is not a show for the faint hearted or timid this show pulls no punches with regards to drugs sex or violence its is hardcore in the classic use of the wordit is called oz as that is the nickname given to the oswald maximum security state penitentary it focuses mainly on emerald city an experimental section of the prison where all the cells have glass fronts and face inwards so privacy is not high on the agenda em city is home to manyaryans muslims gangstas latinos christians italians irish and moreso scuffles death stares dodgy dealings and shady agreements are never far awayi would say the main appeal of the show is due to the fact that it goes where other shows wouldnt dare forget pretty pictures painted for mainstream audiences forget charm forget romanceoz doesnt mess around the first episode i ever saw struck me as so nasty it was surreal i couldnt say i was ready for it but as i watched more i developed a taste for oz and got accustomed to the high levels of graphic violence not just violence but injustice crooked guards wholl be sold out for a nickel inmates wholl kill on order and get away with it well mannered middle class inmates being turned into prison bitches due to their lack of street skills or prison experience watching oz you may become comfortable with what is uncomfortable viewingthats if you can get in touch with your darker side'"
      ]
     },
     "execution_count": 112,
     "metadata": {},
     "output_type": "execute_result"
    }
   ],
   "source": [
    "df.review[0]"
   ]
  },
  {
   "cell_type": "code",
   "execution_count": 113,
   "id": "ec648cbf",
   "metadata": {},
   "outputs": [
    {
     "name": "stderr",
     "output_type": "stream",
     "text": [
      "[nltk_data] Downloading package stopwords to\n",
      "[nltk_data]     C:\\Users\\ideapad\\AppData\\Roaming\\nltk_data...\n",
      "[nltk_data]   Package stopwords is already up-to-date!\n"
     ]
    },
    {
     "data": {
      "text/plain": [
       "True"
      ]
     },
     "execution_count": 113,
     "metadata": {},
     "output_type": "execute_result"
    }
   ],
   "source": [
    "import nltk\n",
    "nltk.download('stopwords')"
   ]
  },
  {
   "cell_type": "markdown",
   "id": "de17e792",
   "metadata": {},
   "source": [
    "**Removing Stop words**"
   ]
  },
  {
   "cell_type": "code",
   "execution_count": 114,
   "id": "71fd5abe",
   "metadata": {},
   "outputs": [
    {
     "data": {
      "text/plain": [
       "['i',\n",
       " 'me',\n",
       " 'my',\n",
       " 'myself',\n",
       " 'we',\n",
       " 'our',\n",
       " 'ours',\n",
       " 'ourselves',\n",
       " 'you',\n",
       " \"you're\",\n",
       " \"you've\",\n",
       " \"you'll\",\n",
       " \"you'd\",\n",
       " 'your',\n",
       " 'yours',\n",
       " 'yourself',\n",
       " 'yourselves',\n",
       " 'he',\n",
       " 'him',\n",
       " 'his',\n",
       " 'himself',\n",
       " 'she',\n",
       " \"she's\",\n",
       " 'her',\n",
       " 'hers',\n",
       " 'herself',\n",
       " 'it',\n",
       " \"it's\",\n",
       " 'its',\n",
       " 'itself',\n",
       " 'they',\n",
       " 'them',\n",
       " 'their',\n",
       " 'theirs',\n",
       " 'themselves',\n",
       " 'what',\n",
       " 'which',\n",
       " 'who',\n",
       " 'whom',\n",
       " 'this',\n",
       " 'that',\n",
       " \"that'll\",\n",
       " 'these',\n",
       " 'those',\n",
       " 'am',\n",
       " 'is',\n",
       " 'are',\n",
       " 'was',\n",
       " 'were',\n",
       " 'be',\n",
       " 'been',\n",
       " 'being',\n",
       " 'have',\n",
       " 'has',\n",
       " 'had',\n",
       " 'having',\n",
       " 'do',\n",
       " 'does',\n",
       " 'did',\n",
       " 'doing',\n",
       " 'a',\n",
       " 'an',\n",
       " 'the',\n",
       " 'and',\n",
       " 'but',\n",
       " 'if',\n",
       " 'or',\n",
       " 'because',\n",
       " 'as',\n",
       " 'until',\n",
       " 'while',\n",
       " 'of',\n",
       " 'at',\n",
       " 'by',\n",
       " 'for',\n",
       " 'with',\n",
       " 'about',\n",
       " 'against',\n",
       " 'between',\n",
       " 'into',\n",
       " 'through',\n",
       " 'during',\n",
       " 'before',\n",
       " 'after',\n",
       " 'above',\n",
       " 'below',\n",
       " 'to',\n",
       " 'from',\n",
       " 'up',\n",
       " 'down',\n",
       " 'in',\n",
       " 'out',\n",
       " 'on',\n",
       " 'off',\n",
       " 'over',\n",
       " 'under',\n",
       " 'again',\n",
       " 'further',\n",
       " 'then',\n",
       " 'once',\n",
       " 'here',\n",
       " 'there',\n",
       " 'when',\n",
       " 'where',\n",
       " 'why',\n",
       " 'how',\n",
       " 'all',\n",
       " 'any',\n",
       " 'both',\n",
       " 'each',\n",
       " 'few',\n",
       " 'more',\n",
       " 'most',\n",
       " 'other',\n",
       " 'some',\n",
       " 'such',\n",
       " 'no',\n",
       " 'nor',\n",
       " 'not',\n",
       " 'only',\n",
       " 'own',\n",
       " 'same',\n",
       " 'so',\n",
       " 'than',\n",
       " 'too',\n",
       " 'very',\n",
       " 's',\n",
       " 't',\n",
       " 'can',\n",
       " 'will',\n",
       " 'just',\n",
       " 'don',\n",
       " \"don't\",\n",
       " 'should',\n",
       " \"should've\",\n",
       " 'now',\n",
       " 'd',\n",
       " 'll',\n",
       " 'm',\n",
       " 'o',\n",
       " 're',\n",
       " 've',\n",
       " 'y',\n",
       " 'ain',\n",
       " 'aren',\n",
       " \"aren't\",\n",
       " 'couldn',\n",
       " \"couldn't\",\n",
       " 'didn',\n",
       " \"didn't\",\n",
       " 'doesn',\n",
       " \"doesn't\",\n",
       " 'hadn',\n",
       " \"hadn't\",\n",
       " 'hasn',\n",
       " \"hasn't\",\n",
       " 'haven',\n",
       " \"haven't\",\n",
       " 'isn',\n",
       " \"isn't\",\n",
       " 'ma',\n",
       " 'mightn',\n",
       " \"mightn't\",\n",
       " 'mustn',\n",
       " \"mustn't\",\n",
       " 'needn',\n",
       " \"needn't\",\n",
       " 'shan',\n",
       " \"shan't\",\n",
       " 'shouldn',\n",
       " \"shouldn't\",\n",
       " 'wasn',\n",
       " \"wasn't\",\n",
       " 'weren',\n",
       " \"weren't\",\n",
       " 'won',\n",
       " \"won't\",\n",
       " 'wouldn',\n",
       " \"wouldn't\"]"
      ]
     },
     "execution_count": 114,
     "metadata": {},
     "output_type": "execute_result"
    }
   ],
   "source": [
    "import nltk\n",
    "from nltk.corpus import stopwords\n",
    "stopwords.words('english')"
   ]
  },
  {
   "cell_type": "code",
   "execution_count": 115,
   "id": "5ec34f87",
   "metadata": {},
   "outputs": [],
   "source": [
    "# Removing Stopwords from Review Column\n",
    "\n",
    "sw_list = stopwords.words('english')\n",
    "\n",
    "df.review = df.review.apply(lambda x: [item for item in x.split() if item not in sw_list]).apply(lambda x:\" \".join(x))"
   ]
  },
  {
   "cell_type": "code",
   "execution_count": 116,
   "id": "1e9849ab",
   "metadata": {},
   "outputs": [
    {
     "data": {
      "text/plain": [
       "'one reviewers mentioned watching oz episode youll hooked right exactly happened methe first thing struck oz brutality unflinching scenes violence set right word go trust show faint hearted timid show pulls punches regards drugs sex violence hardcore classic use wordit called oz nickname given oswald maximum security state penitentary focuses mainly emerald city experimental section prison cells glass fronts face inwards privacy high agenda em city home manyaryans muslims gangstas latinos christians italians irish moreso scuffles death stares dodgy dealings shady agreements never far awayi would say main appeal show due fact goes shows wouldnt dare forget pretty pictures painted mainstream audiences forget charm forget romanceoz doesnt mess around first episode ever saw struck nasty surreal couldnt say ready watched developed taste oz got accustomed high levels graphic violence violence injustice crooked guards wholl sold nickel inmates wholl kill order get away well mannered middle class inmates turned prison bitches due lack street skills prison experience watching oz may become comfortable uncomfortable viewingthats get touch darker side'"
      ]
     },
     "execution_count": 116,
     "metadata": {},
     "output_type": "execute_result"
    }
   ],
   "source": [
    "# In Review column first row after removing Stopwords\n",
    "\n",
    "df.review[0]"
   ]
  },
  {
   "cell_type": "markdown",
   "id": "33f87d40",
   "metadata": {},
   "source": [
    "**Applying Lemmatization**"
   ]
  },
  {
   "cell_type": "code",
   "execution_count": 117,
   "id": "c0bfaa6c",
   "metadata": {},
   "outputs": [
    {
     "name": "stderr",
     "output_type": "stream",
     "text": [
      "[nltk_data] Downloading package wordnet to\n",
      "[nltk_data]     C:\\Users\\ideapad\\AppData\\Roaming\\nltk_data...\n",
      "[nltk_data]   Package wordnet is already up-to-date!\n",
      "[nltk_data] Downloading package omw-1.4 to\n",
      "[nltk_data]     C:\\Users\\ideapad\\AppData\\Roaming\\nltk_data...\n",
      "[nltk_data]   Package omw-1.4 is already up-to-date!\n",
      "[nltk_data] Downloading package punkt to\n",
      "[nltk_data]     C:\\Users\\ideapad\\AppData\\Roaming\\nltk_data...\n",
      "[nltk_data]   Package punkt is already up-to-date!\n"
     ]
    },
    {
     "data": {
      "text/plain": [
       "True"
      ]
     },
     "execution_count": 117,
     "metadata": {},
     "output_type": "execute_result"
    }
   ],
   "source": [
    "nltk.download('wordnet')\n",
    "nltk.download('omw-1.4')\n",
    "nltk.download('punkt')"
   ]
  },
  {
   "cell_type": "code",
   "execution_count": 118,
   "id": "9bff8961",
   "metadata": {},
   "outputs": [],
   "source": [
    "import nltk\n",
    "from nltk.stem import WordNetLemmatizer"
   ]
  },
  {
   "cell_type": "code",
   "execution_count": 125,
   "id": "e3856fdc",
   "metadata": {},
   "outputs": [],
   "source": [
    "# Function for Lemmatization\n",
    "\n",
    "def lemmatize_text(text):\n",
    "    lemmatizer = WordNetLemmatizer()\n",
    "    tokens = nltk.word_tokenize(text)\n",
    "    lemmatized_text = \" \".join([lemmatizer.lemmatize(token) for token in tokens])\n",
    "    return lemmatized_text"
   ]
  },
  {
   "cell_type": "code",
   "execution_count": 126,
   "id": "7516128c",
   "metadata": {},
   "outputs": [
    {
     "data": {
      "text/plain": [
       "'one reviewer mentioned watching oz episode youll hooked right exactly happened methe first thing struck oz brutality unflinching scene violence set right word go trust show faint hearted timid show pull punch regard drug sex violence hardcore classic use wordit called oz nickname given oswald maximum security state penitentary focus mainly emerald city experimental section prison cell glass front face inwards privacy high agenda em city home manyaryans muslim gangsta latino christian italian irish moreso scuffle death stare dodgy dealing shady agreement never far awayi would say main appeal show due fact go show wouldnt dare forget pretty picture painted mainstream audience forget charm forget romanceoz doesnt mess around first episode ever saw struck nasty surreal couldnt say ready watched developed taste oz got accustomed high level graphic violence violence injustice crooked guard wholl sold nickel inmate wholl kill order get away well mannered middle class inmate turned prison bitch due lack street skill prison experience watching oz may become comfortable uncomfortable viewingthats get touch darker side'"
      ]
     },
     "execution_count": 126,
     "metadata": {},
     "output_type": "execute_result"
    }
   ],
   "source": [
    "# In Review column first row before applying Lemmatization Function\n",
    "\n",
    "df.review[0]"
   ]
  },
  {
   "cell_type": "code",
   "execution_count": 127,
   "id": "c150cec9",
   "metadata": {},
   "outputs": [],
   "source": [
    "# Applying Lemmatization Function\n",
    "\n",
    "df.review = df.review.apply(lemmatize_text)"
   ]
  },
  {
   "cell_type": "code",
   "execution_count": 128,
   "id": "b7a60ce5",
   "metadata": {},
   "outputs": [
    {
     "data": {
      "text/plain": [
       "'one reviewer mentioned watching oz episode youll hooked right exactly happened methe first thing struck oz brutality unflinching scene violence set right word go trust show faint hearted timid show pull punch regard drug sex violence hardcore classic use wordit called oz nickname given oswald maximum security state penitentary focus mainly emerald city experimental section prison cell glass front face inwards privacy high agenda em city home manyaryans muslim gangsta latino christian italian irish moreso scuffle death stare dodgy dealing shady agreement never far awayi would say main appeal show due fact go show wouldnt dare forget pretty picture painted mainstream audience forget charm forget romanceoz doesnt mess around first episode ever saw struck nasty surreal couldnt say ready watched developed taste oz got accustomed high level graphic violence violence injustice crooked guard wholl sold nickel inmate wholl kill order get away well mannered middle class inmate turned prison bitch due lack street skill prison experience watching oz may become comfortable uncomfortable viewingthats get touch darker side'"
      ]
     },
     "execution_count": 128,
     "metadata": {},
     "output_type": "execute_result"
    }
   ],
   "source": [
    "# In Review column first row after applying Lemmatization Function\n",
    "\n",
    "df.review[0]"
   ]
  },
  {
   "cell_type": "code",
   "execution_count": 129,
   "id": "1a988585",
   "metadata": {},
   "outputs": [],
   "source": [
    "df['clean_text'] = df.review"
   ]
  },
  {
   "cell_type": "markdown",
   "id": "19fa87a7",
   "metadata": {},
   "source": [
    "**Model Building**\n",
    "\n",
    "In summary, the steps involved in building a machine learning model include data preparation, splitting the data into training, validation, and test sets, choosing an appropriate model, training the model on the training data, evaluating the model on the validation and test sets, fine-tuning the model based on the evaluation results, and finally deploying the model for making predictions on new data."
   ]
  },
  {
   "cell_type": "code",
   "execution_count": 130,
   "id": "eb0ddecd",
   "metadata": {},
   "outputs": [],
   "source": [
    "X = df.clean_text"
   ]
  },
  {
   "cell_type": "code",
   "execution_count": 131,
   "id": "e9353e56",
   "metadata": {},
   "outputs": [
    {
     "data": {
      "text/plain": [
       "0        one reviewer mentioned watching oz episode you...\n",
       "1        wonderful little production filming technique ...\n",
       "2        thought wonderful way spend time hot summer we...\n",
       "3        basically there family little boy jake think t...\n",
       "4        petter matteis love time money visually stunni...\n",
       "                               ...                        \n",
       "49995    thought movie right good job wasnt creative or...\n",
       "49996    bad plot bad dialogue bad acting idiotic direc...\n",
       "49997    catholic taught parochial elementary school nu...\n",
       "49998    im going disagree previous comment side maltin...\n",
       "49999    one expects star trek movie high art fan expec...\n",
       "Name: clean_text, Length: 49582, dtype: object"
      ]
     },
     "execution_count": 131,
     "metadata": {},
     "output_type": "execute_result"
    }
   ],
   "source": [
    "X"
   ]
  },
  {
   "cell_type": "code",
   "execution_count": 132,
   "id": "6876584a",
   "metadata": {},
   "outputs": [],
   "source": [
    "y = df.sentiment"
   ]
  },
  {
   "cell_type": "code",
   "execution_count": 133,
   "id": "8893d6fe",
   "metadata": {},
   "outputs": [
    {
     "data": {
      "text/plain": [
       "0        1\n",
       "1        1\n",
       "2        1\n",
       "3        0\n",
       "4        1\n",
       "        ..\n",
       "49995    1\n",
       "49996    0\n",
       "49997    0\n",
       "49998    0\n",
       "49999    0\n",
       "Name: sentiment, Length: 49582, dtype: int64"
      ]
     },
     "execution_count": 133,
     "metadata": {},
     "output_type": "execute_result"
    }
   ],
   "source": [
    "y"
   ]
  },
  {
   "cell_type": "markdown",
   "id": "c5e741e4",
   "metadata": {},
   "source": [
    "**Train Test Split**\n",
    "\n",
    "Train-test split is a technique used in machine learning to evaluate the performance of a model on new, unseen data. It involves splitting the available data into two subsets - a training set and a test set. The model is trained on the training set and its performance is evaluated on the test set. This allows the model to learn patterns from the training data and be evaluated on how well it can generalize to new data. The goal of train-test split is to ensure that the model is not overfitting the training data and can perform well on new data. Typically, around 70-80% of the data is used for training, and the remaining 20-30% is used for testing. Cross-validation is another technique that can be used in combination with train-test split to further evaluate the model's performance.\n",
    "\n"
   ]
  },
  {
   "cell_type": "code",
   "execution_count": 134,
   "id": "afa2e898",
   "metadata": {},
   "outputs": [],
   "source": [
    "from sklearn.model_selection import train_test_split\n",
    "\n",
    "X_train_bow, X_test_bow, y_train_bow, y_test_bow = train_test_split(X, y, test_size=0.2, random_state=42)"
   ]
  },
  {
   "cell_type": "markdown",
   "id": "36142eea",
   "metadata": {},
   "source": [
    "**Bag of Word Representation**\n",
    "\n",
    "We call vectorization the general process of turning a collection of text documents into numerical feature vectors. This specific strategy (tokenization, counting and normalization) is called the Bag of Words or \"Bag of n-grams\" representation. Documents are described by word occurrences while completely ignoring the relative position information of the words in the document.\n",
    "\n",
    "We will use CountVectorizer **to convert text into a matrix of token count.**\n",
    "\n",
    "Bag of Words: https://machinelearningmastery.com/gentle-introduction-bag-words-model/\n",
    "\n",
    "Code Example: https://machinelearningmastery.com/prepare-text-data-machine-learning-scikit-learn/\n",
    "\n",
    "**We are going to perform below mentioned steps to understand the entire process:**\n",
    "a. Converting text to numerical vectors with the help of CountVectorizer\n",
    "b. Understand fit and transform\n",
    "c. Looking at vocabulary_\n",
    "d. Converting sparse matrix to dense matrix using toarray()\n",
    "e. Understanding n_gram\n",
    "\n",
    "**Advantages**\n",
    "It is simple to understand and implement like OneHotEncoding.\n",
    "We have a fixed length encoding for any sequence of arbitrary length.\n",
    "Documents with same words/vocabulary will have similar representation. So if two documents have a similar vocabulary, they’ll be closer to each other in the vector space and vice versa.\n",
    "**Disadvantages**\n",
    "The size of vector increases with the size of the vocabulary. Thus, sparsity continues to be a problem. One way to control it is by limiting the vocabulary to n number of the most frequent words.\n",
    "It does not capture the similarity between different words that mean the same thing. i.e. Semantic Meaning is not captured.\n",
    "a. \"walk\", \"walked\", and \"walking\". BoW vectors of all three tokens will be equally apart.\n",
    "b. \"search\" and \"explore\" are synonyms. BoW won't capture the semantic similarity of these words.\n",
    "\n",
    "This representation does not have any way to handle out of vocabulary (OOV) words (i.e., new words that were not seen in the corpus that was used to build the vectorizer).\n",
    "As the name indicates, it is a “bag” of words. Word order information is lost in this representation. One way to control it is by using n-grams.\n",
    "It suffers from **curse of high dimensionality.**"
   ]
  },
  {
   "cell_type": "code",
   "execution_count": 135,
   "id": "46692706",
   "metadata": {},
   "outputs": [],
   "source": [
    "from sklearn.feature_extraction.text import CountVectorizer"
   ]
  },
  {
   "cell_type": "code",
   "execution_count": 136,
   "id": "91d9db52",
   "metadata": {},
   "outputs": [],
   "source": [
    "vocab = CountVectorizer()"
   ]
  },
  {
   "cell_type": "code",
   "execution_count": 137,
   "id": "59216ef9",
   "metadata": {},
   "outputs": [],
   "source": [
    "X_train_bow = vocab.fit_transform(X_train_bow)"
   ]
  },
  {
   "cell_type": "code",
   "execution_count": 138,
   "id": "e7cda844",
   "metadata": {},
   "outputs": [],
   "source": [
    "X_test_bow = vocab.transform(X_test_bow)"
   ]
  },
  {
   "cell_type": "code",
   "execution_count": 139,
   "id": "dc4c4432",
   "metadata": {},
   "outputs": [
    {
     "data": {
      "text/plain": [
       "<39665x175730 sparse matrix of type '<class 'numpy.int64'>'\n",
       "\twith 3834096 stored elements in Compressed Sparse Row format>"
      ]
     },
     "execution_count": 139,
     "metadata": {},
     "output_type": "execute_result"
    }
   ],
   "source": [
    "X_train_bow"
   ]
  },
  {
   "cell_type": "code",
   "execution_count": 140,
   "id": "59c30177",
   "metadata": {},
   "outputs": [
    {
     "data": {
      "text/plain": [
       "<9917x175730 sparse matrix of type '<class 'numpy.int64'>'\n",
       "\twith 928119 stored elements in Compressed Sparse Row format>"
      ]
     },
     "execution_count": 140,
     "metadata": {},
     "output_type": "execute_result"
    }
   ],
   "source": [
    "X_test_bow"
   ]
  },
  {
   "cell_type": "code",
   "execution_count": 141,
   "id": "d540b9bb",
   "metadata": {},
   "outputs": [
    {
     "data": {
      "text/plain": [
       "{'really': 125331,\n",
       " 'liked': 88528,\n",
       " 'movie': 100985,\n",
       " 'emporers': 47127,\n",
       " 'new': 104767,\n",
       " 'groove': 65264,\n",
       " 'watching': 168207,\n",
       " 'like': 88505,\n",
       " 'coming': 29527,\n",
       " 'home': 71897,\n",
       " 'seeing': 135463,\n",
       " 'wife': 170819,\n",
       " 'relation': 126792,\n",
       " 'llama': 89485,\n",
       " 'seriously': 136995,\n",
       " 'bad': 11206,\n",
       " 'club': 28253,\n",
       " 'dread': 43477,\n",
       " 'super': 149487,\n",
       " 'trooper': 159873,\n",
       " 'supposed': 149909,\n",
       " 'write': 173180,\n",
       " 'line': 88790,\n",
       " 'dont': 42488,\n",
       " 'even': 49692,\n",
       " 'know': 84300,\n",
       " 'else': 46623,\n",
       " 'say': 133042,\n",
       " 'laughed': 86406,\n",
       " 'couple': 32713,\n",
       " 'time': 156315,\n",
       " 'drinking': 43742,\n",
       " 'least': 86941,\n",
       " 'funny': 59763,\n",
       " 'drunk': 44007,\n",
       " 'maybe': 94844,\n",
       " 'regular': 126554,\n",
       " 'cartoon': 23174,\n",
       " 'people': 114859,\n",
       " 'arent': 8046,\n",
       " 'either': 46136,\n",
       " 'way': 168496,\n",
       " 'stick': 146532,\n",
       " 'want': 167554,\n",
       " 'llamathemed': 89486,\n",
       " 'right': 129209,\n",
       " 'decided': 36928,\n",
       " 'watch': 168113,\n",
       " 'noted': 106764,\n",
       " 'scariest': 133336,\n",
       " 'ever': 49788,\n",
       " 'thats': 153732,\n",
       " 'expected': 51002,\n",
       " 'unfortunately': 162710,\n",
       " 'found': 58178,\n",
       " 'didnt': 39489,\n",
       " 'single': 140304,\n",
       " 'scary': 133368,\n",
       " 'moment': 99359,\n",
       " 'im': 75029,\n",
       " 'kind': 83732,\n",
       " 'person': 115565,\n",
       " 'jump': 81872,\n",
       " 'easily': 45191,\n",
       " 'nothing': 106809,\n",
       " 'terrible': 153192,\n",
       " 'clichs': 27853,\n",
       " 'every': 49963,\n",
       " 'jumpmoment': 81886,\n",
       " 'incredibly': 76103,\n",
       " 'obvious': 108021,\n",
       " 'pro': 121075,\n",
       " 'would': 172960,\n",
       " 'music': 102682,\n",
       " 'odd': 108240,\n",
       " 'scene': 133475,\n",
       " 'actually': 1708,\n",
       " 'shot': 138910,\n",
       " 'well': 169177,\n",
       " 'last': 86088,\n",
       " 'open': 110149,\n",
       " 'door': 42580,\n",
       " 'see': 135423,\n",
       " 'tun': 160362,\n",
       " 'reflection': 126339,\n",
       " 'swing': 150754,\n",
       " 'back': 10964,\n",
       " 'ghost': 61989,\n",
       " 'shoulder': 139003,\n",
       " 'overall': 111758,\n",
       " 'added': 1814,\n",
       " 'jhorror': 80912,\n",
       " 'genre': 61502,\n",
       " 'allaround': 4053,\n",
       " 'lacked': 85293,\n",
       " 'creativity': 33515,\n",
       " 'scare': 133281,\n",
       " 'hard': 67686,\n",
       " 'going': 63242,\n",
       " 'lady': 85388,\n",
       " 'shanghai': 137835,\n",
       " 'film': 54725,\n",
       " 'could': 32481,\n",
       " 'without': 171657,\n",
       " 'studio': 148064,\n",
       " 'interference': 77861,\n",
       " 'orson': 110828,\n",
       " 'welles': 169306,\n",
       " 'prime': 120887,\n",
       " 'interest': 77748,\n",
       " 'point': 118192,\n",
       " 'raise': 124236,\n",
       " 'money': 99512,\n",
       " 'theater': 153808,\n",
       " 'indeed': 76152,\n",
       " 'funding': 59655,\n",
       " 'project': 121595,\n",
       " 'drove': 43883,\n",
       " 'seek': 135495,\n",
       " 'acting': 1124,\n",
       " 'job': 81074,\n",
       " 'made': 91870,\n",
       " 'soon': 143248,\n",
       " 'exwife': 51694,\n",
       " 'rita': 129535,\n",
       " 'hayworth': 68477,\n",
       " 'harry': 67991,\n",
       " 'cohn': 28733,\n",
       " 'fearful': 53670,\n",
       " 'ritas': 129541,\n",
       " 'image': 75033,\n",
       " 'held': 69205,\n",
       " 'release': 126863,\n",
       " 'one': 109454,\n",
       " 'yearthe': 174233,\n",
       " 'plot': 117790,\n",
       " 'concern': 30371,\n",
       " 'irish': 78551,\n",
       " 'sailor': 131998,\n",
       " 'michael': 97141,\n",
       " 'ohara': 108852,\n",
       " 'fall': 52400,\n",
       " 'love': 90595,\n",
       " 'stunning': 148204,\n",
       " 'short': 138806,\n",
       " 'blond': 16617,\n",
       " 'hair': 66562,\n",
       " 'husband': 73978,\n",
       " 'known': 84369,\n",
       " 'criminal': 33877,\n",
       " 'attorney': 9739,\n",
       " 'arthur': 8604,\n",
       " 'bannister': 12055,\n",
       " 'everett': 49836,\n",
       " 'sloane': 141460,\n",
       " 'crippled': 33940,\n",
       " 'inside': 77184,\n",
       " 'hire': 71110,\n",
       " 'work': 172375,\n",
       " 'yacht': 173792,\n",
       " 'drawn': 43454,\n",
       " 'deeper': 37139,\n",
       " 'web': 168866,\n",
       " 'murder': 102478,\n",
       " 'deceitthe': 36866,\n",
       " 'move': 100931,\n",
       " 'snail': 142005,\n",
       " 'pace': 112565,\n",
       " 'though': 155438,\n",
       " 'agree': 3128,\n",
       " 'poster': 119379,\n",
       " 'today': 157163,\n",
       " 'criticized': 34029,\n",
       " 'taking': 151467,\n",
       " 'build': 20406,\n",
       " 'still': 146599,\n",
       " 'drag': 43222,\n",
       " 'fun': 59603,\n",
       " 'house': 73042,\n",
       " 'fantastic': 52813,\n",
       " 'wanted': 167560,\n",
       " 'believe': 14111,\n",
       " 'cut': 34956,\n",
       " 'shame': 137775,\n",
       " 'photography': 116265,\n",
       " 'throughout': 155900,\n",
       " 'atmospheric': 9495,\n",
       " 'bold': 17324,\n",
       " 'stylishwelles': 148421,\n",
       " 'excellent': 50397,\n",
       " 'actor': 1452,\n",
       " 'handsome': 67266,\n",
       " 'youth': 174830,\n",
       " 'charismatic': 25208,\n",
       " 'possessing': 119256,\n",
       " 'magnificent': 92204,\n",
       " 'voice': 166758,\n",
       " 'technique': 152439,\n",
       " 'many': 93399,\n",
       " 'almost': 4520,\n",
       " 'doesnt': 41961,\n",
       " 'trust': 160104,\n",
       " 'take': 151410,\n",
       " 'develop': 38889,\n",
       " 'character': 24869,\n",
       " 'instead': 77368,\n",
       " 'relies': 126977,\n",
       " 'external': 51523,\n",
       " 'accent': 647,\n",
       " 'fake': 52338,\n",
       " 'nose': 106644,\n",
       " 'tomorrow': 157575,\n",
       " 'forever': 57671,\n",
       " 'director': 40260,\n",
       " 'get': 61843,\n",
       " 'deeply': 37149,\n",
       " 'felt': 54014,\n",
       " 'performance': 115188,\n",
       " 'contrast': 31431,\n",
       " 'compulsion': 30230,\n",
       " 'show': 139051,\n",
       " 'master': 94286,\n",
       " 'pure': 122903,\n",
       " 'technical': 152416,\n",
       " 'phone': 116180,\n",
       " 'quadruple': 123224,\n",
       " 'duty': 44713,\n",
       " 'star': 145678,\n",
       " 'cowriter': 33005,\n",
       " 'narrator': 103599,\n",
       " 'sporting': 144932,\n",
       " 'completely': 30058,\n",
       " 'unnecessary': 163230,\n",
       " 'looking': 90107,\n",
       " 'intense': 77630,\n",
       " 'fast': 53232,\n",
       " 'characterization': 24955,\n",
       " 'nevertheless': 104747,\n",
       " 'always': 4909,\n",
       " 'compellingthe': 29953,\n",
       " 'supporting': 149892,\n",
       " 'player': 117518,\n",
       " 'including': 75950,\n",
       " 'sloan': 141459,\n",
       " 'glenn': 62759,\n",
       " 'anders': 5728,\n",
       " 'gorgeous': 63965,\n",
       " 'softvoiced': 142620,\n",
       " 'singing': 140291,\n",
       " 'dubbed': 44101,\n",
       " 'anita': 6175,\n",
       " 'elli': 46551,\n",
       " 'usual': 164460,\n",
       " 'complete': 30044,\n",
       " 'goddess': 63061,\n",
       " 'great': 64720,\n",
       " 'screen': 134518,\n",
       " 'presence': 120475,\n",
       " 'sad': 131760,\n",
       " 'life': 88126,\n",
       " 'vibrant': 165692,\n",
       " 'beautyany': 13272,\n",
       " 'directed': 40158,\n",
       " 'worth': 172902,\n",
       " 'exception': 50449,\n",
       " 'leaf': 86866,\n",
       " 'viewer': 166003,\n",
       " 'frustrated': 59347,\n",
       " 'ambersons': 5108,\n",
       " 'within': 171635,\n",
       " 'system': 151136,\n",
       " 'artist': 8653,\n",
       " 'given': 62586,\n",
       " 'freer': 58768,\n",
       " 'reign': 126632,\n",
       " 'wasnt': 167980,\n",
       " 'strange': 147499,\n",
       " 'dichotomy': 39376,\n",
       " 'needed': 104216,\n",
       " 'freedom': 58710,\n",
       " 'evidenced': 50108,\n",
       " 'later': 86175,\n",
       " 'structure': 147936,\n",
       " 'ala': 3582,\n",
       " 'couldnt': 32494,\n",
       " 'scifi': 134200,\n",
       " 'adventure': 2212,\n",
       " 'best': 14745,\n",
       " 'mean': 95437,\n",
       " 'worst': 172860,\n",
       " 'statement': 146007,\n",
       " 'comical': 29480,\n",
       " 'bizarre': 15962,\n",
       " 'pink': 116831,\n",
       " 'tinting': 156869,\n",
       " 'unusual': 163801,\n",
       " 'special': 144094,\n",
       " 'effect': 45714,\n",
       " 'make': 92443,\n",
       " 'favorite': 53542,\n",
       " 'late': 86136,\n",
       " 'space': 143794,\n",
       " 'explorer': 51324,\n",
       " 'planet': 117322,\n",
       " 'mar': 93455,\n",
       " 'fight': 54575,\n",
       " 'giant': 62096,\n",
       " 'amoebalike': 5406,\n",
       " 'monster': 99760,\n",
       " 'creature': 33532,\n",
       " 'pretty': 120693,\n",
       " 'coolthe': 31758,\n",
       " 'cast': 23421,\n",
       " 'includes': 75945,\n",
       " 'le': 86796,\n",
       " 'tremayne': 159404,\n",
       " 'naura': 103852,\n",
       " 'hayden': 68438,\n",
       " 'gerald': 61706,\n",
       " 'mohr': 99251,\n",
       " 'jack': 79943,\n",
       " 'kruschen': 84940,\n",
       " 'comfy': 29475,\n",
       " 'enjoy': 47883,\n",
       " 'feel': 53833,\n",
       " 'nod': 105648,\n",
       " 'adding': 1852,\n",
       " 'list': 89094,\n",
       " 'cult': 34620,\n",
       " 'classic': 27467,\n",
       " 'miss': 98618,\n",
       " 'around': 8379,\n",
       " 'animator': 6140,\n",
       " 'bluth': 16956,\n",
       " 'output': 111552,\n",
       " 'company': 29861,\n",
       " 'disney': 41116,\n",
       " 'churning': 26803,\n",
       " 'defected': 37229,\n",
       " 'mouse': 100867,\n",
       " 'form': 57848,\n",
       " 'first': 55957,\n",
       " 'production': 121347,\n",
       " 'secret': 135305,\n",
       " 'nimh': 105403,\n",
       " 'brilliant': 19382,\n",
       " 'feature': 53732,\n",
       " 'hold': 71636,\n",
       " 'day': 36154,\n",
       " 'followed': 57210,\n",
       " 'american': 5233,\n",
       " 'tail': 151351,\n",
       " 'land': 85699,\n",
       " 'involvement': 78439,\n",
       " 'steven': 146473,\n",
       " 'spielberg': 144411,\n",
       " 'commercially': 29686,\n",
       " 'successful': 148855,\n",
       " 'although': 4836,\n",
       " 'none': 105974,\n",
       " 'two': 160954,\n",
       " 'dark': 35772,\n",
       " 'adult': 2140,\n",
       " 'appeal': 7483,\n",
       " 'charming': 25275,\n",
       " 'enjoyable': 47886,\n",
       " 'child': 25982,\n",
       " 'grownup': 65417,\n",
       " 'long': 89897,\n",
       " 'major': 92425,\n",
       " 'misfire': 98482,\n",
       " 'dog': 42009,\n",
       " 'go': 62954,\n",
       " 'heaven': 68934,\n",
       " 'critic': 34004,\n",
       " 'especially': 49158,\n",
       " 'harsh': 68002,\n",
       " 'matter': 94630,\n",
       " 'werent': 169715,\n",
       " 'helped': 69346,\n",
       " 'fact': 52056,\n",
       " 'opened': 110153,\n",
       " 'alongside': 4640,\n",
       " 'little': 89237,\n",
       " 'mermaidconsidering': 96646,\n",
       " 'friendlysounding': 59010,\n",
       " 'title': 156973,\n",
       " 'expect': 50969,\n",
       " 'pleasant': 117646,\n",
       " 'family': 52534,\n",
       " 'fare': 52962,\n",
       " 'provides': 122099,\n",
       " 'surprisingly': 150183,\n",
       " 'story': 147095,\n",
       " 'involving': 78446,\n",
       " 'gambling': 60448,\n",
       " 'deceit': 36862,\n",
       " 'crime': 33812,\n",
       " 'mistreatment': 98825,\n",
       " 'problem': 121116,\n",
       " 'animated': 6101,\n",
       " 'per': 115015,\n",
       " 'call': 21692,\n",
       " 'question': 123521,\n",
       " 'whether': 170220,\n",
       " 'hand': 67128,\n",
       " 'find': 55657,\n",
       " 'much': 101973,\n",
       " 'identity': 74576,\n",
       " 'crisisset': 33954,\n",
       " 'dreary': 43623,\n",
       " 'junkyard': 81974,\n",
       " 'orleans': 110780,\n",
       " 'start': 145876,\n",
       " 'charlie': 25239,\n",
       " 'barkin': 12285,\n",
       " 'roughandtumble': 130865,\n",
       " 'german': 61738,\n",
       " 'shepherd': 138265,\n",
       " 'run': 131344,\n",
       " 'car': 22538,\n",
       " 'courtesy': 32830,\n",
       " 'former': 57893,\n",
       " 'casino': 23364,\n",
       " 'partner': 113733,\n",
       " 'nasty': 103666,\n",
       " 'cigarpuffing': 26863,\n",
       " 'pitbull': 117000,\n",
       " 'carface': 22832,\n",
       " 'albeit': 3658,\n",
       " 'default': 37203,\n",
       " 'whippet': 170330,\n",
       " 'angel': 5910,\n",
       " 'annabelle': 6218,\n",
       " 'tell': 152802,\n",
       " 'unlike': 163110,\n",
       " 'usually': 164467,\n",
       " 'loyal': 90971,\n",
       " 'represents': 127619,\n",
       " 'confused': 30708,\n",
       " 'nature': 103791,\n",
       " 'since': 140196,\n",
       " 'aside': 8923,\n",
       " 'presented': 120503,\n",
       " 'anything': 7067,\n",
       " 'butupon': 21200,\n",
       " 'realizing': 125320,\n",
       " 'he': 68532,\n",
       " 'murdered': 102490,\n",
       " 'steal': 146189,\n",
       " 'earth': 45113,\n",
       " 'reluctant': 127039,\n",
       " 'help': 69343,\n",
       " 'dachshund': 35208,\n",
       " 'pal': 112876,\n",
       " 'itchy': 79253,\n",
       " 'rescue': 127778,\n",
       " 'carfaces': 22833,\n",
       " 'prize': 121061,\n",
       " 'annemarie': 6238,\n",
       " 'human': 73561,\n",
       " 'girl': 62368,\n",
       " 'talk': 151589,\n",
       " 'animal': 6064,\n",
       " 'order': 110521,\n",
       " 'predict': 120094,\n",
       " 'win': 171151,\n",
       " 'rat': 124717,\n",
       " 'race': 123866,\n",
       " 'claim': 27327,\n",
       " 'cutie': 35009,\n",
       " 'reality': 125256,\n",
       " 'using': 164410,\n",
       " 'skill': 140848,\n",
       " 'fortune': 58074,\n",
       " 'elaborate': 46260,\n",
       " 'bring': 19461,\n",
       " 'refuse': 126420,\n",
       " 'admit': 2033,\n",
       " 'grow': 65402,\n",
       " 'annemariethe': 6240,\n",
       " 'concept': 30338,\n",
       " 'isnt': 78913,\n",
       " 'problematic': 121120,\n",
       " 'execution': 50670,\n",
       " 'flamboyant': 56270,\n",
       " 'musical': 102685,\n",
       " 'alligator': 4212,\n",
       " 'appears': 7546,\n",
       " 'threequarters': 155694,\n",
       " 'vocal': 166725,\n",
       " 'pipe': 116915,\n",
       " 'ken': 82962,\n",
       " 'page': 112712,\n",
       " 'emerge': 46900,\n",
       " 'likable': 88491,\n",
       " 'frankly': 58534,\n",
       " 'caring': 22871,\n",
       " 'also': 4747,\n",
       " 'applies': 7623,\n",
       " 'trying': 160180,\n",
       " 'antihero': 6711,\n",
       " 'script': 134724,\n",
       " 'composed': 30167,\n",
       " 'ten': 152915,\n",
       " 'writer': 173191,\n",
       " 'succeeds': 148828,\n",
       " 'rendering': 127300,\n",
       " 'unlovable': 163147,\n",
       " 'audience': 9832,\n",
       " 'empathy': 47076,\n",
       " 'worse': 172776,\n",
       " 'redemption': 126074,\n",
       " 'end': 47278,\n",
       " 'come': 29232,\n",
       " 'across': 1069,\n",
       " 'convincing': 31619,\n",
       " 'damaging': 35405,\n",
       " 'disappointingly': 40595,\n",
       " 'uncharismatic': 161910,\n",
       " 'burt': 20871,\n",
       " 'reynolds': 128785,\n",
       " 'besides': 14722,\n",
       " 'lack': 85287,\n",
       " 'endearing': 47330,\n",
       " 'lead': 86804,\n",
       " 'slowlypaced': 141579,\n",
       " 'place': 117120,\n",
       " 'habit': 66323,\n",
       " 'throwing': 155977,\n",
       " 'extra': 51553,\n",
       " 'serve': 137081,\n",
       " 'purpose': 122960,\n",
       " 'pad': 112666,\n",
       " 'running': 131383,\n",
       " 'aforementioned': 2516,\n",
       " 'resides': 127870,\n",
       " 'danky': 35666,\n",
       " 'sewer': 137337,\n",
       " 'infested': 76633,\n",
       " 'native': 103738,\n",
       " 'seems': 135534,\n",
       " 'thrown': 155980,\n",
       " 'nowhere': 107267,\n",
       " 'try': 160166,\n",
       " 'generosity': 61394,\n",
       " 'feeding': 53830,\n",
       " 'pack': 112627,\n",
       " 'pastelcolored': 113964,\n",
       " 'pup': 122840,\n",
       " 'pizza': 117102,\n",
       " 'whole': 170545,\n",
       " 'screenplay': 134598,\n",
       " 'rough': 130861,\n",
       " 'draft': 43212,\n",
       " 'bit': 15862,\n",
       " 'polish': 118494,\n",
       " 'tighter': 156234,\n",
       " 'impactful': 75331,\n",
       " 'storymatters': 147248,\n",
       " 'lackluster': 85307,\n",
       " 'number': 107515,\n",
       " 'strouse': 147927,\n",
       " 'tj': 157046,\n",
       " 'kuenster': 85002,\n",
       " 'annemaries': 6239,\n",
       " 'song': 143091,\n",
       " 'gator': 60988,\n",
       " 'ballad': 11735,\n",
       " 'good': 63475,\n",
       " 'latter': 86319,\n",
       " 'particular': 113692,\n",
       " 'benefit': 14377,\n",
       " 'mellifluous': 96080,\n",
       " 'uneven': 162551,\n",
       " 'mentioned': 96444,\n",
       " 'stiff': 146558,\n",
       " 'lifeless': 88246,\n",
       " 'detracts': 38843,\n",
       " 'already': 4698,\n",
       " 'unlikeable': 163111,\n",
       " 'fiery': 54532,\n",
       " 'confession': 30609,\n",
       " 'true': 160003,\n",
       " 'intention': 77662,\n",
       " 'toward': 158444,\n",
       " 'dom': 42251,\n",
       " 'deluise': 37703,\n",
       " 'better': 14912,\n",
       " 'role': 130123,\n",
       " 'notably': 106705,\n",
       " 'tiger': 156216,\n",
       " 'jeremy': 80697,\n",
       " 'awesome': 10569,\n",
       " 'small': 141695,\n",
       " 'part': 113615,\n",
       " 'contribution': 31450,\n",
       " 'unremarkable': 163475,\n",
       " 'similarly': 140049,\n",
       " 'wasted': 168040,\n",
       " 'loni': 90060,\n",
       " 'anderson': 5732,\n",
       " 'collie': 29005,\n",
       " 'sired': 140431,\n",
       " 'litter': 89230,\n",
       " 'melba': 96032,\n",
       " 'moore': 100026,\n",
       " 'charles': 25227,\n",
       " 'nelson': 104443,\n",
       " 'reilly': 126645,\n",
       " 'judith': 81780,\n",
       " 'barsi': 12416,\n",
       " 'probably': 121095,\n",
       " 'truly': 160073,\n",
       " 'memorable': 96193,\n",
       " 'partially': 113664,\n",
       " 'sole': 142722,\n",
       " 'legitimately': 87272,\n",
       " 'depressing': 38177,\n",
       " 'joyless': 81640,\n",
       " 'showbarsi': 139064,\n",
       " 'real': 125169,\n",
       " 'positive': 119219,\n",
       " 'animation': 6111,\n",
       " 'technically': 152419,\n",
       " 'imaginative': 75095,\n",
       " 'visuals': 166609,\n",
       " 'bluths': 16957,\n",
       " 'team': 152310,\n",
       " 'standard': 145570,\n",
       " 'particularly': 113701,\n",
       " 'frightening': 59125,\n",
       " 'nightmare': 105273,\n",
       " 'ending': 47401,\n",
       " 'underworld': 162405,\n",
       " 'ruled': 131277,\n",
       " 'gargantuan': 60812,\n",
       " 'satanic': 132734,\n",
       " 'caninedemon': 22205,\n",
       " 'triumph': 159766,\n",
       " 'storytellingon': 147321,\n",
       " 'however': 73198,\n",
       " 'can': 22056,\n",
       " 'not': 106701,\n",
       " 'recommend': 125870,\n",
       " 'entertainment': 48330,\n",
       " 'recognize': 125838,\n",
       " 'fan': 52644,\n",
       " 'climax': 27925,\n",
       " 'admittingly': 2046,\n",
       " 'provide': 122090,\n",
       " 'energy': 47693,\n",
       " 'moving': 101753,\n",
       " 'conclusion': 30425,\n",
       " 'package': 112628,\n",
       " 'league': 86871,\n",
       " 'effort': 45862,\n",
       " 'buff': 20325,\n",
       " 'marvel': 94048,\n",
       " 'lush': 91369,\n",
       " 'artistry': 8674,\n",
       " 'leave': 87010,\n",
       " 'taste': 152049,\n",
       " 'mouth': 100889,\n",
       " 'perv': 115736,\n",
       " 'lesbian': 87565,\n",
       " 'stuffthe': 148159,\n",
       " 'red': 126037,\n",
       " 'wig': 170883,\n",
       " 'lip': 89004,\n",
       " 'silicone': 139918,\n",
       " 'shes': 138332,\n",
       " 'lame': 85590,\n",
       " 'insecure': 77159,\n",
       " 'surferguy': 150054,\n",
       " 'dressing': 43674,\n",
       " 'slutty': 141673,\n",
       " 'weird': 169086,\n",
       " 'definitely': 37326,\n",
       " 'unfashionable': 162613,\n",
       " 'explain': 51204,\n",
       " 'pa': 112547,\n",
       " 'man': 92830,\n",
       " 'oh': 108845,\n",
       " 'poor': 118773,\n",
       " 'dumb': 44394,\n",
       " 'forgot': 57803,\n",
       " 'invention': 78295,\n",
       " 'lousy': 90563,\n",
       " 'actress': 1631,\n",
       " 'plus': 118044,\n",
       " 'waif': 167219,\n",
       " 'look': 90073,\n",
       " 'outthis': 111677,\n",
       " 'melrose': 96130,\n",
       " 'playssurprise': 117607,\n",
       " 'blondshe': 16637,\n",
       " 'think': 154938,\n",
       " 'guy': 66096,\n",
       " 'ewww': 50235,\n",
       " 'guess': 65634,\n",
       " 'sort': 143434,\n",
       " 'psycho': 122384,\n",
       " 'toy': 158542,\n",
       " 'maker': 92476,\n",
       " 'named': 103386,\n",
       " 'joe': 81204,\n",
       " 'petto': 115885,\n",
       " 'living': 89425,\n",
       " 'evil': 50129,\n",
       " 'kill': 83508,\n",
       " 'luck': 91079,\n",
       " 'simply': 140147,\n",
       " 'mutant': 102897,\n",
       " 'robot': 129834,\n",
       " 'son': 143062,\n",
       " 'pino': 116864,\n",
       " 'used': 164328,\n",
       " 'liveeasily': 89321,\n",
       " 'hopefully': 72328,\n",
       " 'presumably': 120618,\n",
       " 'semi': 136186,\n",
       " 'series': 136900,\n",
       " 'previous': 120756,\n",
       " 'soft': 142578,\n",
       " 'core': 31995,\n",
       " 'porn': 119012,\n",
       " 'sex': 137346,\n",
       " 'nudity': 107449,\n",
       " 'low': 90841,\n",
       " 'rent': 127358,\n",
       " 'hybrid': 74103,\n",
       " 'halloween': 66928,\n",
       " 'iii': 74804,\n",
       " 'puppet': 122850,\n",
       " 'doll': 42198,\n",
       " 'supposedly': 149911,\n",
       " 'started': 145889,\n",
       " 'sixth': 140674,\n",
       " 'chapter': 24847,\n",
       " 'abandoned': 96,\n",
       " 'never': 104718,\n",
       " 'completed': 30046,\n",
       " 'hope': 72314,\n",
       " 'stay': 146144,\n",
       " 'oddly': 108263,\n",
       " 'lit': 89170,\n",
       " 'men': 96273,\n",
       " 'woman': 171904,\n",
       " 'beating': 13143,\n",
       " 'crap': 33194,\n",
       " 'boxer': 18460,\n",
       " 'gay': 61060,\n",
       " 'filmafter': 54740,\n",
       " 'badly': 11331,\n",
       " 'bruised': 19948,\n",
       " 'beat': 13127,\n",
       " 'hell': 69235,\n",
       " 'methis': 96961,\n",
       " 'meant': 95538,\n",
       " 'gawk': 61053,\n",
       " 'horror': 72546,\n",
       " 'wonder': 172039,\n",
       " 'lot': 90416,\n",
       " 'airplane': 3426,\n",
       " 'crash': 33318,\n",
       " 'train': 158769,\n",
       " 'wreckif': 173113,\n",
       " 'mediocre': 95744,\n",
       " 'ita': 79106,\n",
       " 'warning': 167761,\n",
       " 'please': 117658,\n",
       " 'eat': 45287,\n",
       " 'beforehand': 13621,\n",
       " 'might': 97439,\n",
       " 'puke': 122630,\n",
       " 'sam': 132219,\n",
       " 'thomas': 155357,\n",
       " 'cavanagh': 23914,\n",
       " 'gray': 64665,\n",
       " 'heather': 68918,\n",
       " 'graham': 64356,\n",
       " 'devoted': 39051,\n",
       " 'sibling': 139526,\n",
       " 'share': 137905,\n",
       " 'apartment': 7287,\n",
       " 'thing': 154781,\n",
       " 'ballroom': 11795,\n",
       " 'dancing': 35543,\n",
       " 'surprise': 150118,\n",
       " 'attractive': 9754,\n",
       " 'bridget': 19291,\n",
       " 'moynahan': 101790,\n",
       " 'historically': 71195,\n",
       " 'heterosexual': 70150,\n",
       " 'feelingsgray': 53866,\n",
       " 'prof': 121419,\n",
       " 'blandest': 16271,\n",
       " 'seen': 135549,\n",
       " 'dull': 44327,\n",
       " 'predictable': 120100,\n",
       " 'unfunny': 162756,\n",
       " 'poorly': 118797,\n",
       " 'acted': 1090,\n",
       " 'written': 173317,\n",
       " 'everything': 50024,\n",
       " 'cheesy': 25640,\n",
       " 'romantic': 130412,\n",
       " 'comedy': 29287,\n",
       " 'twist': 160891,\n",
       " 'sue': 149044,\n",
       " 'kramer': 84786,\n",
       " 'tried': 159588,\n",
       " 'half': 66657,\n",
       " 'cute': 34968,\n",
       " 'stuff': 148117,\n",
       " 'second': 135210,\n",
       " 'serious': 136985,\n",
       " 'actual': 1700,\n",
       " 'acceptance': 700,\n",
       " 'failed': 52194,\n",
       " 'miserably': 98453,\n",
       " 'largely': 85961,\n",
       " 'able': 247,\n",
       " 'took': 157754,\n",
       " 'awkward': 10675,\n",
       " 'tone': 157598,\n",
       " 'got': 64070,\n",
       " 'handled': 67207,\n",
       " 'emotion': 47003,\n",
       " 'phonyi': 116220,\n",
       " 'enjoyed': 47932,\n",
       " 'relationship': 126796,\n",
       " 'authentic': 10092,\n",
       " 'brother': 19794,\n",
       " 'sister': 140478,\n",
       " 'weak': 168745,\n",
       " 'appear': 7504,\n",
       " 'close': 28076,\n",
       " 'natural': 103766,\n",
       " 'tom': 157492,\n",
       " 'unnatural': 163217,\n",
       " 'married': 93891,\n",
       " 'knowing': 84335,\n",
       " 'week': 168935,\n",
       " 'excitement': 50513,\n",
       " 'talked': 151599,\n",
       " 'getting': 61901,\n",
       " 'vega': 165171,\n",
       " 'manner': 93197,\n",
       " 'asking': 8961,\n",
       " 'waiter': 167252,\n",
       " 'involved': 78411,\n",
       " 'unmotivated': 163196,\n",
       " 'charactersthe': 25101,\n",
       " 'mostly': 100571,\n",
       " 'surprising': 150180,\n",
       " 'decent': 36885,\n",
       " 'gave': 61039,\n",
       " 'costars': 32340,\n",
       " 'dud': 44188,\n",
       " 'ringed': 129381,\n",
       " 'false': 52441,\n",
       " 'level': 87797,\n",
       " 'seemed': 135516,\n",
       " 'reading': 125119,\n",
       " 'wooden': 172161,\n",
       " 'showed': 139098,\n",
       " 'nearly': 104069,\n",
       " 'chemistry': 25698,\n",
       " 'non': 105828,\n",
       " 'existent': 50833,\n",
       " 'damaged': 35401,\n",
       " 'phony': 116217,\n",
       " 'rely': 127043,\n",
       " 'molly': 99338,\n",
       " 'shannon': 137860,\n",
       " 'annoying': 6309,\n",
       " 'sissy': 140473,\n",
       " 'spacek': 143828,\n",
       " 'finally': 55628,\n",
       " 'alan': 3606,\n",
       " 'cumming': 34709,\n",
       " 'embarrassing': 46821,\n",
       " 'rating': 124776,\n",
       " 'awful': 10598,\n",
       " 'full': 59511,\n",
       " 'cliche': 27831,\n",
       " 'perplexing': 115504,\n",
       " 'atrotious': 9562,\n",
       " 'wrote': 173442,\n",
       " 'larry': 86021,\n",
       " 'flint': 56721,\n",
       " 'moon': 99983,\n",
       " 'garbage': 60712,\n",
       " 'top': 157907,\n",
       " 'alltime': 4393,\n",
       " 'realize': 125308,\n",
       " 'enough': 48038,\n",
       " 'let': 87715,\n",
       " 'alone': 4566,\n",
       " 'sequel': 136710,\n",
       " 'amazing': 5057,\n",
       " 'piece': 116575,\n",
       " 'trash': 159099,\n",
       " 'shown': 139169,\n",
       " 'released': 126870,\n",
       " 'example': 50301,\n",
       " 'fine': 55678,\n",
       " 'storytelling': 147314,\n",
       " 'superb': 149495,\n",
       " 'inspiring': 77317,\n",
       " 'overly': 112061,\n",
       " 'manipulative': 93123,\n",
       " 'tad': 151282,\n",
       " 'considering': 31018,\n",
       " 'hollywood': 71754,\n",
       " 'restraint': 128135,\n",
       " 'explosion': 51328,\n",
       " 'opportunity': 110348,\n",
       " 'suspenseful': 150363,\n",
       " 'action': 1257,\n",
       " 'thus': 156093,\n",
       " 'focus': 57071,\n",
       " 'extraordinary': 51579,\n",
       " 'ordinary': 110552,\n",
       " 'done': 42360,\n",
       " 'thoroughly': 155410,\n",
       " 'incoherent': 75964,\n",
       " 'rambling': 124327,\n",
       " 'oneand': 109466,\n",
       " 'damned': 35452,\n",
       " 'modern': 99151,\n",
       " 'ridiculous': 129093,\n",
       " 'period': 115366,\n",
       " 'st': 145325,\n",
       " 'century': 24262,\n",
       " 'style': 148367,\n",
       " 'predominate': 120150,\n",
       " 'yawn': 173979,\n",
       " 'manufactured': 93368,\n",
       " 'belaboured': 13981,\n",
       " 'joke': 81323,\n",
       " 'secondary': 135214,\n",
       " 'juvenile': 82108,\n",
       " 'normally': 106554,\n",
       " 'sweep': 150648,\n",
       " 'parodying': 113568,\n",
       " 'original': 110671,\n",
       " 'de': 36394,\n",
       " 'ville': 166267,\n",
       " 'sunset': 149459,\n",
       " 'boulevard': 18314,\n",
       " 'pointless': 118246,\n",
       " 'basic': 12545,\n",
       " 'instinct': 77426,\n",
       " 'characterisation': 24938,\n",
       " 'acceptable': 689,\n",
       " 'scratch': 134456,\n",
       " 'african': 2544,\n",
       " 'created': 33465,\n",
       " 'rhythm': 128875,\n",
       " 'jawbone': 80417,\n",
       " 'virgin': 166443,\n",
       " 'islander': 78854,\n",
       " 'welded': 169162,\n",
       " 'oil': 108942,\n",
       " 'drum': 43988,\n",
       " 'ear': 45016,\n",
       " 'pleasing': 117702,\n",
       " 'steel': 146232,\n",
       " 'band': 11909,\n",
       " 'urban': 164183,\n",
       " 'dj': 41658,\n",
       " 'itch': 79241,\n",
       " 'pursuit': 123009,\n",
       " 'method': 96962,\n",
       " 'creative': 33503,\n",
       " 'expression': 51392,\n",
       " 'wholly': 170582,\n",
       " 'unnarrated': 163214,\n",
       " 'documentary': 41836,\n",
       " 'heart': 68770,\n",
       " 'hiphoprap': 71056,\n",
       " 'movement': 100953,\n",
       " 'explore': 51319,\n",
       " 'genesis': 61408,\n",
       " 'turntablism': 160558,\n",
       " 'art': 8555,\n",
       " 'scratching': 134466,\n",
       " 'vinyl': 166351,\n",
       " 'ultimate': 161492,\n",
       " 'djmc': 41673,\n",
       " 'contempo': 31226,\n",
       " 'reveals': 128470,\n",
       " 'intelligent': 77596,\n",
       " 'articulate': 8619,\n",
       " 'scratcher': 134460,\n",
       " 'startlingly': 145933,\n",
       " 'unique': 162986,\n",
       " ...}"
      ]
     },
     "execution_count": 141,
     "metadata": {},
     "output_type": "execute_result"
    }
   ],
   "source": [
    "# We can look at unique words by using 'vocabulary_'\n",
    "\n",
    "vocab.vocabulary_"
   ]
  },
  {
   "cell_type": "code",
   "execution_count": 142,
   "id": "a45407d8",
   "metadata": {},
   "outputs": [
    {
     "name": "stdout",
     "output_type": "stream",
     "text": [
      "Total unique words: 175730\n",
      "Type of train features: <class 'scipy.sparse._csr.csr_matrix'>\n",
      "Type of train features: <class 'scipy.sparse._csr.csr_matrix'>\n",
      "Shape of input data: (39665, 175730)\n",
      "Shape of input data: (9917, 175730)\n"
     ]
    }
   ],
   "source": [
    "print(\"Total unique words:\", len(vocab.vocabulary_))\n",
    "\n",
    "print(\"Type of train features:\", type(X_train_bow))\n",
    "\n",
    "print(\"Type of train features:\", type(X_test_bow))\n",
    "\n",
    "print(\"Shape of input data:\", X_train_bow.shape)\n",
    "\n",
    "print(\"Shape of input data:\", X_test_bow.shape)"
   ]
  },
  {
   "cell_type": "code",
   "execution_count": 143,
   "id": "2a76d029",
   "metadata": {},
   "outputs": [
    {
     "name": "stdout",
     "output_type": "stream",
     "text": [
      "<class 'scipy.sparse._csr.csr_matrix'>\n",
      "48 Bytes\n"
     ]
    }
   ],
   "source": [
    "from sys import getsizeof\n",
    "\n",
    "print(type(X_train_bow))\n",
    "print(getsizeof(X_train_bow), \"Bytes\")"
   ]
  },
  {
   "cell_type": "markdown",
   "id": "fdda3232",
   "metadata": {},
   "source": [
    "**Logistic Regression**\n",
    "\n",
    "\n",
    "Logistic Regression is a statistical model used for binary classification tasks where the goal is to predict the probability of an event occurring. It works by fitting a logistic function to the input data, which maps the input to a probability value between 0 and 1. The logistic function is then used to make predictions by applying a threshold to the probability value, classifying the input as either one of the two possible classes. Logistic Regression is widely used in various fields such as finance, healthcare, and marketing, and can be implemented using various optimization techniques such as gradient descent."
   ]
  },
  {
   "cell_type": "code",
   "execution_count": 51,
   "id": "dbf548f7",
   "metadata": {},
   "outputs": [
    {
     "name": "stderr",
     "output_type": "stream",
     "text": [
      "C:\\Users\\ideapad\\anaconda3\\lib\\site-packages\\sklearn\\linear_model\\_logistic.py:458: ConvergenceWarning: lbfgs failed to converge (status=1):\n",
      "STOP: TOTAL NO. of ITERATIONS REACHED LIMIT.\n",
      "\n",
      "Increase the number of iterations (max_iter) or scale the data as shown in:\n",
      "    https://scikit-learn.org/stable/modules/preprocessing.html\n",
      "Please also refer to the documentation for alternative solver options:\n",
      "    https://scikit-learn.org/stable/modules/linear_model.html#logistic-regression\n",
      "  n_iter_i = _check_optimize_result(\n"
     ]
    },
    {
     "data": {
      "text/html": [
       "<style>#sk-container-id-1 {color: black;background-color: white;}#sk-container-id-1 pre{padding: 0;}#sk-container-id-1 div.sk-toggleable {background-color: white;}#sk-container-id-1 label.sk-toggleable__label {cursor: pointer;display: block;width: 100%;margin-bottom: 0;padding: 0.3em;box-sizing: border-box;text-align: center;}#sk-container-id-1 label.sk-toggleable__label-arrow:before {content: \"▸\";float: left;margin-right: 0.25em;color: #696969;}#sk-container-id-1 label.sk-toggleable__label-arrow:hover:before {color: black;}#sk-container-id-1 div.sk-estimator:hover label.sk-toggleable__label-arrow:before {color: black;}#sk-container-id-1 div.sk-toggleable__content {max-height: 0;max-width: 0;overflow: hidden;text-align: left;background-color: #f0f8ff;}#sk-container-id-1 div.sk-toggleable__content pre {margin: 0.2em;color: black;border-radius: 0.25em;background-color: #f0f8ff;}#sk-container-id-1 input.sk-toggleable__control:checked~div.sk-toggleable__content {max-height: 200px;max-width: 100%;overflow: auto;}#sk-container-id-1 input.sk-toggleable__control:checked~label.sk-toggleable__label-arrow:before {content: \"▾\";}#sk-container-id-1 div.sk-estimator input.sk-toggleable__control:checked~label.sk-toggleable__label {background-color: #d4ebff;}#sk-container-id-1 div.sk-label input.sk-toggleable__control:checked~label.sk-toggleable__label {background-color: #d4ebff;}#sk-container-id-1 input.sk-hidden--visually {border: 0;clip: rect(1px 1px 1px 1px);clip: rect(1px, 1px, 1px, 1px);height: 1px;margin: -1px;overflow: hidden;padding: 0;position: absolute;width: 1px;}#sk-container-id-1 div.sk-estimator {font-family: monospace;background-color: #f0f8ff;border: 1px dotted black;border-radius: 0.25em;box-sizing: border-box;margin-bottom: 0.5em;}#sk-container-id-1 div.sk-estimator:hover {background-color: #d4ebff;}#sk-container-id-1 div.sk-parallel-item::after {content: \"\";width: 100%;border-bottom: 1px solid gray;flex-grow: 1;}#sk-container-id-1 div.sk-label:hover label.sk-toggleable__label {background-color: #d4ebff;}#sk-container-id-1 div.sk-serial::before {content: \"\";position: absolute;border-left: 1px solid gray;box-sizing: border-box;top: 0;bottom: 0;left: 50%;z-index: 0;}#sk-container-id-1 div.sk-serial {display: flex;flex-direction: column;align-items: center;background-color: white;padding-right: 0.2em;padding-left: 0.2em;position: relative;}#sk-container-id-1 div.sk-item {position: relative;z-index: 1;}#sk-container-id-1 div.sk-parallel {display: flex;align-items: stretch;justify-content: center;background-color: white;position: relative;}#sk-container-id-1 div.sk-item::before, #sk-container-id-1 div.sk-parallel-item::before {content: \"\";position: absolute;border-left: 1px solid gray;box-sizing: border-box;top: 0;bottom: 0;left: 50%;z-index: -1;}#sk-container-id-1 div.sk-parallel-item {display: flex;flex-direction: column;z-index: 1;position: relative;background-color: white;}#sk-container-id-1 div.sk-parallel-item:first-child::after {align-self: flex-end;width: 50%;}#sk-container-id-1 div.sk-parallel-item:last-child::after {align-self: flex-start;width: 50%;}#sk-container-id-1 div.sk-parallel-item:only-child::after {width: 0;}#sk-container-id-1 div.sk-dashed-wrapped {border: 1px dashed gray;margin: 0 0.4em 0.5em 0.4em;box-sizing: border-box;padding-bottom: 0.4em;background-color: white;}#sk-container-id-1 div.sk-label label {font-family: monospace;font-weight: bold;display: inline-block;line-height: 1.2em;}#sk-container-id-1 div.sk-label-container {text-align: center;}#sk-container-id-1 div.sk-container {/* jupyter's `normalize.less` sets `[hidden] { display: none; }` but bootstrap.min.css set `[hidden] { display: none !important; }` so we also need the `!important` here to be able to override the default hidden behavior on the sphinx rendered scikit-learn.org. See: https://github.com/scikit-learn/scikit-learn/issues/21755 */display: inline-block !important;position: relative;}#sk-container-id-1 div.sk-text-repr-fallback {display: none;}</style><div id=\"sk-container-id-1\" class=\"sk-top-container\"><div class=\"sk-text-repr-fallback\"><pre>LogisticRegression()</pre><b>In a Jupyter environment, please rerun this cell to show the HTML representation or trust the notebook. <br />On GitHub, the HTML representation is unable to render, please try loading this page with nbviewer.org.</b></div><div class=\"sk-container\" hidden><div class=\"sk-item\"><div class=\"sk-estimator sk-toggleable\"><input class=\"sk-toggleable__control sk-hidden--visually\" id=\"sk-estimator-id-1\" type=\"checkbox\" checked><label for=\"sk-estimator-id-1\" class=\"sk-toggleable__label sk-toggleable__label-arrow\">LogisticRegression</label><div class=\"sk-toggleable__content\"><pre>LogisticRegression()</pre></div></div></div></div></div>"
      ],
      "text/plain": [
       "LogisticRegression()"
      ]
     },
     "execution_count": 51,
     "metadata": {},
     "output_type": "execute_result"
    }
   ],
   "source": [
    "from sklearn.linear_model import LogisticRegression\n",
    "classifier = LogisticRegression()\n",
    "classifier.fit(X_train_bow, y_train_bow)"
   ]
  },
  {
   "cell_type": "code",
   "execution_count": 58,
   "id": "a2297a3f",
   "metadata": {},
   "outputs": [],
   "source": [
    "y_test_pred = classifier.predict(X_test_bow)"
   ]
  },
  {
   "cell_type": "markdown",
   "id": "d303d0d4",
   "metadata": {},
   "source": [
    "**accuracy_score**\n",
    "\n",
    "is a function used to evaluate the performance of a classification model by computing the proportion of correct predictions made by the model over the total number of predictions. It is a simple and commonly used metric for evaluating the performance of a model.\n",
    "\n",
    "**classification_report**\n",
    "\n",
    "is a function used to generate a summary report of the classification performance of a model. It includes various metrics such as precision, recall, and F1-score for each class, as well as the overall accuracy of the model. It is a useful tool for gaining insight into the strengths and weaknesses of a model's classification performance, and can be used to compare the performance of different models."
   ]
  },
  {
   "cell_type": "code",
   "execution_count": 59,
   "id": "15e030a8",
   "metadata": {},
   "outputs": [
    {
     "name": "stdout",
     "output_type": "stream",
     "text": [
      "0.8481395583341736\n",
      "              precision    recall  f1-score   support\n",
      "\n",
      "           0       0.85      0.84      0.85      4939\n",
      "           1       0.85      0.85      0.85      4978\n",
      "\n",
      "    accuracy                           0.85      9917\n",
      "   macro avg       0.85      0.85      0.85      9917\n",
      "weighted avg       0.85      0.85      0.85      9917\n",
      "\n"
     ]
    }
   ],
   "source": [
    "from sklearn.metrics import accuracy_score, classification_report\n",
    "\n",
    "print(accuracy_score(y_test_bow, y_test_pred))\n",
    "\n",
    "print(classification_report(y_test_bow, y_test_pred))"
   ]
  },
  {
   "cell_type": "markdown",
   "id": "7bf31985",
   "metadata": {},
   "source": [
    "**Decision Tree Classifier**\n",
    "\n",
    "\n",
    "DecisionTreeClassifier is a machine learning algorithm used for classification tasks. It works by constructing a decision tree that recursively splits the input data based on the most important features until the data can be classified into distinct classes. The splitting criteria is determined by maximizing the information gain or minimizing the impurity of the resulting splits. The resulting decision tree can be used to make predictions for new input data by traversing the tree from the root to a leaf node corresponding to the predicted class. DecisionTreeClassifier is widely used in various fields such as finance, healthcare, and marketing, and can be used for both binary and multi-class classification tasks. However, it is prone to overfitting and may require regularization techniques such as pruning to improve generalization performance."
   ]
  },
  {
   "cell_type": "code",
   "execution_count": 60,
   "id": "c6f80d13",
   "metadata": {},
   "outputs": [
    {
     "data": {
      "text/html": [
       "<style>#sk-container-id-4 {color: black;background-color: white;}#sk-container-id-4 pre{padding: 0;}#sk-container-id-4 div.sk-toggleable {background-color: white;}#sk-container-id-4 label.sk-toggleable__label {cursor: pointer;display: block;width: 100%;margin-bottom: 0;padding: 0.3em;box-sizing: border-box;text-align: center;}#sk-container-id-4 label.sk-toggleable__label-arrow:before {content: \"▸\";float: left;margin-right: 0.25em;color: #696969;}#sk-container-id-4 label.sk-toggleable__label-arrow:hover:before {color: black;}#sk-container-id-4 div.sk-estimator:hover label.sk-toggleable__label-arrow:before {color: black;}#sk-container-id-4 div.sk-toggleable__content {max-height: 0;max-width: 0;overflow: hidden;text-align: left;background-color: #f0f8ff;}#sk-container-id-4 div.sk-toggleable__content pre {margin: 0.2em;color: black;border-radius: 0.25em;background-color: #f0f8ff;}#sk-container-id-4 input.sk-toggleable__control:checked~div.sk-toggleable__content {max-height: 200px;max-width: 100%;overflow: auto;}#sk-container-id-4 input.sk-toggleable__control:checked~label.sk-toggleable__label-arrow:before {content: \"▾\";}#sk-container-id-4 div.sk-estimator input.sk-toggleable__control:checked~label.sk-toggleable__label {background-color: #d4ebff;}#sk-container-id-4 div.sk-label input.sk-toggleable__control:checked~label.sk-toggleable__label {background-color: #d4ebff;}#sk-container-id-4 input.sk-hidden--visually {border: 0;clip: rect(1px 1px 1px 1px);clip: rect(1px, 1px, 1px, 1px);height: 1px;margin: -1px;overflow: hidden;padding: 0;position: absolute;width: 1px;}#sk-container-id-4 div.sk-estimator {font-family: monospace;background-color: #f0f8ff;border: 1px dotted black;border-radius: 0.25em;box-sizing: border-box;margin-bottom: 0.5em;}#sk-container-id-4 div.sk-estimator:hover {background-color: #d4ebff;}#sk-container-id-4 div.sk-parallel-item::after {content: \"\";width: 100%;border-bottom: 1px solid gray;flex-grow: 1;}#sk-container-id-4 div.sk-label:hover label.sk-toggleable__label {background-color: #d4ebff;}#sk-container-id-4 div.sk-serial::before {content: \"\";position: absolute;border-left: 1px solid gray;box-sizing: border-box;top: 0;bottom: 0;left: 50%;z-index: 0;}#sk-container-id-4 div.sk-serial {display: flex;flex-direction: column;align-items: center;background-color: white;padding-right: 0.2em;padding-left: 0.2em;position: relative;}#sk-container-id-4 div.sk-item {position: relative;z-index: 1;}#sk-container-id-4 div.sk-parallel {display: flex;align-items: stretch;justify-content: center;background-color: white;position: relative;}#sk-container-id-4 div.sk-item::before, #sk-container-id-4 div.sk-parallel-item::before {content: \"\";position: absolute;border-left: 1px solid gray;box-sizing: border-box;top: 0;bottom: 0;left: 50%;z-index: -1;}#sk-container-id-4 div.sk-parallel-item {display: flex;flex-direction: column;z-index: 1;position: relative;background-color: white;}#sk-container-id-4 div.sk-parallel-item:first-child::after {align-self: flex-end;width: 50%;}#sk-container-id-4 div.sk-parallel-item:last-child::after {align-self: flex-start;width: 50%;}#sk-container-id-4 div.sk-parallel-item:only-child::after {width: 0;}#sk-container-id-4 div.sk-dashed-wrapped {border: 1px dashed gray;margin: 0 0.4em 0.5em 0.4em;box-sizing: border-box;padding-bottom: 0.4em;background-color: white;}#sk-container-id-4 div.sk-label label {font-family: monospace;font-weight: bold;display: inline-block;line-height: 1.2em;}#sk-container-id-4 div.sk-label-container {text-align: center;}#sk-container-id-4 div.sk-container {/* jupyter's `normalize.less` sets `[hidden] { display: none; }` but bootstrap.min.css set `[hidden] { display: none !important; }` so we also need the `!important` here to be able to override the default hidden behavior on the sphinx rendered scikit-learn.org. See: https://github.com/scikit-learn/scikit-learn/issues/21755 */display: inline-block !important;position: relative;}#sk-container-id-4 div.sk-text-repr-fallback {display: none;}</style><div id=\"sk-container-id-4\" class=\"sk-top-container\"><div class=\"sk-text-repr-fallback\"><pre>DecisionTreeClassifier()</pre><b>In a Jupyter environment, please rerun this cell to show the HTML representation or trust the notebook. <br />On GitHub, the HTML representation is unable to render, please try loading this page with nbviewer.org.</b></div><div class=\"sk-container\" hidden><div class=\"sk-item\"><div class=\"sk-estimator sk-toggleable\"><input class=\"sk-toggleable__control sk-hidden--visually\" id=\"sk-estimator-id-4\" type=\"checkbox\" checked><label for=\"sk-estimator-id-4\" class=\"sk-toggleable__label sk-toggleable__label-arrow\">DecisionTreeClassifier</label><div class=\"sk-toggleable__content\"><pre>DecisionTreeClassifier()</pre></div></div></div></div></div>"
      ],
      "text/plain": [
       "DecisionTreeClassifier()"
      ]
     },
     "execution_count": 60,
     "metadata": {},
     "output_type": "execute_result"
    }
   ],
   "source": [
    "from sklearn.tree import DecisionTreeClassifier\n",
    "classifier = DecisionTreeClassifier()\n",
    "classifier.fit(X_train_bow, y_train_bow)"
   ]
  },
  {
   "cell_type": "code",
   "execution_count": 61,
   "id": "373c2c3a",
   "metadata": {},
   "outputs": [],
   "source": [
    "y_test_pred = classifier.predict(X_test_bow)"
   ]
  },
  {
   "cell_type": "code",
   "execution_count": 62,
   "id": "7fb36934",
   "metadata": {},
   "outputs": [
    {
     "name": "stdout",
     "output_type": "stream",
     "text": [
      "0.7113038217202783\n",
      "              precision    recall  f1-score   support\n",
      "\n",
      "           0       0.71      0.71      0.71      4939\n",
      "           1       0.71      0.71      0.71      4978\n",
      "\n",
      "    accuracy                           0.71      9917\n",
      "   macro avg       0.71      0.71      0.71      9917\n",
      "weighted avg       0.71      0.71      0.71      9917\n",
      "\n"
     ]
    }
   ],
   "source": [
    "from sklearn.metrics import accuracy_score, classification_report\n",
    "\n",
    "print(accuracy_score(y_test_bow, y_test_pred))\n",
    "\n",
    "print(classification_report(y_test_bow, y_test_pred))"
   ]
  },
  {
   "cell_type": "markdown",
   "id": "2a9cb282",
   "metadata": {},
   "source": [
    "**Random Forest Classifier**\n",
    "\n",
    "\n",
    "RandomForestClassifier is a machine learning algorithm used for classification tasks. It works by constructing a large number of decision trees (known as an ensemble) and aggregating the results of each tree to make a final prediction. Each tree in the ensemble is trained on a randomly selected subset of the input data and a randomly selected subset of the features, which helps to reduce overfitting and improve generalization performance. The final prediction is determined by a majority vote of the individual tree predictions. RandomForestClassifier is widely used in various fields such as finance, healthcare, and marketing, and is known for its high accuracy and robustness to noisy data. However, it may require more computational resources than other classification algorithms due to its large ensemble of decision trees."
   ]
  },
  {
   "cell_type": "code",
   "execution_count": 63,
   "id": "88ad2698",
   "metadata": {},
   "outputs": [
    {
     "data": {
      "text/html": [
       "<style>#sk-container-id-5 {color: black;background-color: white;}#sk-container-id-5 pre{padding: 0;}#sk-container-id-5 div.sk-toggleable {background-color: white;}#sk-container-id-5 label.sk-toggleable__label {cursor: pointer;display: block;width: 100%;margin-bottom: 0;padding: 0.3em;box-sizing: border-box;text-align: center;}#sk-container-id-5 label.sk-toggleable__label-arrow:before {content: \"▸\";float: left;margin-right: 0.25em;color: #696969;}#sk-container-id-5 label.sk-toggleable__label-arrow:hover:before {color: black;}#sk-container-id-5 div.sk-estimator:hover label.sk-toggleable__label-arrow:before {color: black;}#sk-container-id-5 div.sk-toggleable__content {max-height: 0;max-width: 0;overflow: hidden;text-align: left;background-color: #f0f8ff;}#sk-container-id-5 div.sk-toggleable__content pre {margin: 0.2em;color: black;border-radius: 0.25em;background-color: #f0f8ff;}#sk-container-id-5 input.sk-toggleable__control:checked~div.sk-toggleable__content {max-height: 200px;max-width: 100%;overflow: auto;}#sk-container-id-5 input.sk-toggleable__control:checked~label.sk-toggleable__label-arrow:before {content: \"▾\";}#sk-container-id-5 div.sk-estimator input.sk-toggleable__control:checked~label.sk-toggleable__label {background-color: #d4ebff;}#sk-container-id-5 div.sk-label input.sk-toggleable__control:checked~label.sk-toggleable__label {background-color: #d4ebff;}#sk-container-id-5 input.sk-hidden--visually {border: 0;clip: rect(1px 1px 1px 1px);clip: rect(1px, 1px, 1px, 1px);height: 1px;margin: -1px;overflow: hidden;padding: 0;position: absolute;width: 1px;}#sk-container-id-5 div.sk-estimator {font-family: monospace;background-color: #f0f8ff;border: 1px dotted black;border-radius: 0.25em;box-sizing: border-box;margin-bottom: 0.5em;}#sk-container-id-5 div.sk-estimator:hover {background-color: #d4ebff;}#sk-container-id-5 div.sk-parallel-item::after {content: \"\";width: 100%;border-bottom: 1px solid gray;flex-grow: 1;}#sk-container-id-5 div.sk-label:hover label.sk-toggleable__label {background-color: #d4ebff;}#sk-container-id-5 div.sk-serial::before {content: \"\";position: absolute;border-left: 1px solid gray;box-sizing: border-box;top: 0;bottom: 0;left: 50%;z-index: 0;}#sk-container-id-5 div.sk-serial {display: flex;flex-direction: column;align-items: center;background-color: white;padding-right: 0.2em;padding-left: 0.2em;position: relative;}#sk-container-id-5 div.sk-item {position: relative;z-index: 1;}#sk-container-id-5 div.sk-parallel {display: flex;align-items: stretch;justify-content: center;background-color: white;position: relative;}#sk-container-id-5 div.sk-item::before, #sk-container-id-5 div.sk-parallel-item::before {content: \"\";position: absolute;border-left: 1px solid gray;box-sizing: border-box;top: 0;bottom: 0;left: 50%;z-index: -1;}#sk-container-id-5 div.sk-parallel-item {display: flex;flex-direction: column;z-index: 1;position: relative;background-color: white;}#sk-container-id-5 div.sk-parallel-item:first-child::after {align-self: flex-end;width: 50%;}#sk-container-id-5 div.sk-parallel-item:last-child::after {align-self: flex-start;width: 50%;}#sk-container-id-5 div.sk-parallel-item:only-child::after {width: 0;}#sk-container-id-5 div.sk-dashed-wrapped {border: 1px dashed gray;margin: 0 0.4em 0.5em 0.4em;box-sizing: border-box;padding-bottom: 0.4em;background-color: white;}#sk-container-id-5 div.sk-label label {font-family: monospace;font-weight: bold;display: inline-block;line-height: 1.2em;}#sk-container-id-5 div.sk-label-container {text-align: center;}#sk-container-id-5 div.sk-container {/* jupyter's `normalize.less` sets `[hidden] { display: none; }` but bootstrap.min.css set `[hidden] { display: none !important; }` so we also need the `!important` here to be able to override the default hidden behavior on the sphinx rendered scikit-learn.org. See: https://github.com/scikit-learn/scikit-learn/issues/21755 */display: inline-block !important;position: relative;}#sk-container-id-5 div.sk-text-repr-fallback {display: none;}</style><div id=\"sk-container-id-5\" class=\"sk-top-container\"><div class=\"sk-text-repr-fallback\"><pre>RandomForestClassifier()</pre><b>In a Jupyter environment, please rerun this cell to show the HTML representation or trust the notebook. <br />On GitHub, the HTML representation is unable to render, please try loading this page with nbviewer.org.</b></div><div class=\"sk-container\" hidden><div class=\"sk-item\"><div class=\"sk-estimator sk-toggleable\"><input class=\"sk-toggleable__control sk-hidden--visually\" id=\"sk-estimator-id-5\" type=\"checkbox\" checked><label for=\"sk-estimator-id-5\" class=\"sk-toggleable__label sk-toggleable__label-arrow\">RandomForestClassifier</label><div class=\"sk-toggleable__content\"><pre>RandomForestClassifier()</pre></div></div></div></div></div>"
      ],
      "text/plain": [
       "RandomForestClassifier()"
      ]
     },
     "execution_count": 63,
     "metadata": {},
     "output_type": "execute_result"
    }
   ],
   "source": [
    "from sklearn.ensemble import RandomForestClassifier\n",
    "classifier = RandomForestClassifier()\n",
    "classifier.fit(X_train_bow, y_train_bow)"
   ]
  },
  {
   "cell_type": "code",
   "execution_count": 64,
   "id": "9ae63d08",
   "metadata": {},
   "outputs": [],
   "source": [
    "y_test_pred = classifier.predict(X_test_bow)"
   ]
  },
  {
   "cell_type": "code",
   "execution_count": 65,
   "id": "51605f7a",
   "metadata": {},
   "outputs": [
    {
     "name": "stdout",
     "output_type": "stream",
     "text": [
      "0.8475345366542301\n",
      "              precision    recall  f1-score   support\n",
      "\n",
      "           0       0.85      0.85      0.85      4939\n",
      "           1       0.85      0.85      0.85      4978\n",
      "\n",
      "    accuracy                           0.85      9917\n",
      "   macro avg       0.85      0.85      0.85      9917\n",
      "weighted avg       0.85      0.85      0.85      9917\n",
      "\n"
     ]
    }
   ],
   "source": [
    "\n",
    "from sklearn.metrics import accuracy_score, classification_report\n",
    "\n",
    "print(accuracy_score(y_test_bow, y_test_pred))\n",
    "\n",
    "print(classification_report(y_test_bow, y_test_pred))"
   ]
  },
  {
   "cell_type": "markdown",
   "id": "f0593f36",
   "metadata": {},
   "source": [
    "\n",
    "**MultinomialNB (Naive Bayes)**\n",
    "\n",
    "MultinomialNB (Naive Bayes) is a machine learning algorithm used for classification tasks, particularly in natural language processing applications. It is based on the Bayes theorem and assumes that the features are conditionally independent given the class label. MultinomialNB is commonly used for text classification tasks, such as sentiment analysis and spam filtering. It works by computing the probability of each class given the input data and selecting the class with the highest probability as the predicted class. The algorithm models the probability distribution of the input features using a multinomial distribution, which assumes that the input features are counts of the frequency of occurrence of each term in a document or corpus. MultinomialNB is known for its simplicity, speed, and good performance in many text classification tasks, but may not be the best choice for data with complex dependencies between features."
   ]
  },
  {
   "cell_type": "code",
   "execution_count": 66,
   "id": "ee4f33cd",
   "metadata": {},
   "outputs": [
    {
     "data": {
      "text/html": [
       "<style>#sk-container-id-6 {color: black;background-color: white;}#sk-container-id-6 pre{padding: 0;}#sk-container-id-6 div.sk-toggleable {background-color: white;}#sk-container-id-6 label.sk-toggleable__label {cursor: pointer;display: block;width: 100%;margin-bottom: 0;padding: 0.3em;box-sizing: border-box;text-align: center;}#sk-container-id-6 label.sk-toggleable__label-arrow:before {content: \"▸\";float: left;margin-right: 0.25em;color: #696969;}#sk-container-id-6 label.sk-toggleable__label-arrow:hover:before {color: black;}#sk-container-id-6 div.sk-estimator:hover label.sk-toggleable__label-arrow:before {color: black;}#sk-container-id-6 div.sk-toggleable__content {max-height: 0;max-width: 0;overflow: hidden;text-align: left;background-color: #f0f8ff;}#sk-container-id-6 div.sk-toggleable__content pre {margin: 0.2em;color: black;border-radius: 0.25em;background-color: #f0f8ff;}#sk-container-id-6 input.sk-toggleable__control:checked~div.sk-toggleable__content {max-height: 200px;max-width: 100%;overflow: auto;}#sk-container-id-6 input.sk-toggleable__control:checked~label.sk-toggleable__label-arrow:before {content: \"▾\";}#sk-container-id-6 div.sk-estimator input.sk-toggleable__control:checked~label.sk-toggleable__label {background-color: #d4ebff;}#sk-container-id-6 div.sk-label input.sk-toggleable__control:checked~label.sk-toggleable__label {background-color: #d4ebff;}#sk-container-id-6 input.sk-hidden--visually {border: 0;clip: rect(1px 1px 1px 1px);clip: rect(1px, 1px, 1px, 1px);height: 1px;margin: -1px;overflow: hidden;padding: 0;position: absolute;width: 1px;}#sk-container-id-6 div.sk-estimator {font-family: monospace;background-color: #f0f8ff;border: 1px dotted black;border-radius: 0.25em;box-sizing: border-box;margin-bottom: 0.5em;}#sk-container-id-6 div.sk-estimator:hover {background-color: #d4ebff;}#sk-container-id-6 div.sk-parallel-item::after {content: \"\";width: 100%;border-bottom: 1px solid gray;flex-grow: 1;}#sk-container-id-6 div.sk-label:hover label.sk-toggleable__label {background-color: #d4ebff;}#sk-container-id-6 div.sk-serial::before {content: \"\";position: absolute;border-left: 1px solid gray;box-sizing: border-box;top: 0;bottom: 0;left: 50%;z-index: 0;}#sk-container-id-6 div.sk-serial {display: flex;flex-direction: column;align-items: center;background-color: white;padding-right: 0.2em;padding-left: 0.2em;position: relative;}#sk-container-id-6 div.sk-item {position: relative;z-index: 1;}#sk-container-id-6 div.sk-parallel {display: flex;align-items: stretch;justify-content: center;background-color: white;position: relative;}#sk-container-id-6 div.sk-item::before, #sk-container-id-6 div.sk-parallel-item::before {content: \"\";position: absolute;border-left: 1px solid gray;box-sizing: border-box;top: 0;bottom: 0;left: 50%;z-index: -1;}#sk-container-id-6 div.sk-parallel-item {display: flex;flex-direction: column;z-index: 1;position: relative;background-color: white;}#sk-container-id-6 div.sk-parallel-item:first-child::after {align-self: flex-end;width: 50%;}#sk-container-id-6 div.sk-parallel-item:last-child::after {align-self: flex-start;width: 50%;}#sk-container-id-6 div.sk-parallel-item:only-child::after {width: 0;}#sk-container-id-6 div.sk-dashed-wrapped {border: 1px dashed gray;margin: 0 0.4em 0.5em 0.4em;box-sizing: border-box;padding-bottom: 0.4em;background-color: white;}#sk-container-id-6 div.sk-label label {font-family: monospace;font-weight: bold;display: inline-block;line-height: 1.2em;}#sk-container-id-6 div.sk-label-container {text-align: center;}#sk-container-id-6 div.sk-container {/* jupyter's `normalize.less` sets `[hidden] { display: none; }` but bootstrap.min.css set `[hidden] { display: none !important; }` so we also need the `!important` here to be able to override the default hidden behavior on the sphinx rendered scikit-learn.org. See: https://github.com/scikit-learn/scikit-learn/issues/21755 */display: inline-block !important;position: relative;}#sk-container-id-6 div.sk-text-repr-fallback {display: none;}</style><div id=\"sk-container-id-6\" class=\"sk-top-container\"><div class=\"sk-text-repr-fallback\"><pre>MultinomialNB()</pre><b>In a Jupyter environment, please rerun this cell to show the HTML representation or trust the notebook. <br />On GitHub, the HTML representation is unable to render, please try loading this page with nbviewer.org.</b></div><div class=\"sk-container\" hidden><div class=\"sk-item\"><div class=\"sk-estimator sk-toggleable\"><input class=\"sk-toggleable__control sk-hidden--visually\" id=\"sk-estimator-id-6\" type=\"checkbox\" checked><label for=\"sk-estimator-id-6\" class=\"sk-toggleable__label sk-toggleable__label-arrow\">MultinomialNB</label><div class=\"sk-toggleable__content\"><pre>MultinomialNB()</pre></div></div></div></div></div>"
      ],
      "text/plain": [
       "MultinomialNB()"
      ]
     },
     "execution_count": 66,
     "metadata": {},
     "output_type": "execute_result"
    }
   ],
   "source": [
    "from sklearn.naive_bayes import MultinomialNB\n",
    "classifier = MultinomialNB()\n",
    "classifier.fit(X_train_bow, y_train_bow)"
   ]
  },
  {
   "cell_type": "code",
   "execution_count": 67,
   "id": "45f31f46",
   "metadata": {},
   "outputs": [],
   "source": [
    "y_test_pred = classifier.predict(X_test_bow)"
   ]
  },
  {
   "cell_type": "code",
   "execution_count": 68,
   "id": "5c27ab69",
   "metadata": {},
   "outputs": [
    {
     "name": "stdout",
     "output_type": "stream",
     "text": [
      "0.8559040032267823\n",
      "              precision    recall  f1-score   support\n",
      "\n",
      "           0       0.84      0.87      0.86      4939\n",
      "           1       0.87      0.84      0.85      4978\n",
      "\n",
      "    accuracy                           0.86      9917\n",
      "   macro avg       0.86      0.86      0.86      9917\n",
      "weighted avg       0.86      0.86      0.86      9917\n",
      "\n"
     ]
    }
   ],
   "source": [
    "from sklearn.metrics import accuracy_score, classification_report\n",
    "\n",
    "print(accuracy_score(y_test_bow, y_test_pred))\n",
    "\n",
    "print(classification_report(y_test_bow, y_test_pred))"
   ]
  },
  {
   "cell_type": "markdown",
   "id": "9df4ee26",
   "metadata": {},
   "source": [
    "**BernoulliNB (Naive Bayes)**\n",
    "\n",
    "\n",
    "BernoulliNB (Naive Bayes) is a machine learning algorithm used for classification tasks. It is similar to GaussianNB but is designed for binary or boolean features, where each feature takes only two values, 0 or 1. BernoulliNB works by computing the probability of each class given the input data and selecting the class with the highest probability as the predicted class. The algorithm models the probability distribution of the input features using a Bernoulli distribution, which assumes that each feature is a binary random variable with a certain probability of occurrence. BernoulliNB is known for its simplicity, speed, and good performance in many classification tasks, especially when the input features are binary or sparse. However, it may not perform well in cases where the features are highly correlated or have complex dependencies."
   ]
  },
  {
   "cell_type": "code",
   "execution_count": 69,
   "id": "c9c4cff1",
   "metadata": {},
   "outputs": [],
   "source": [
    "from sklearn.naive_bayes import BernoulliNB"
   ]
  },
  {
   "cell_type": "code",
   "execution_count": 70,
   "id": "3eed5fa9",
   "metadata": {},
   "outputs": [
    {
     "data": {
      "text/html": [
       "<style>#sk-container-id-7 {color: black;background-color: white;}#sk-container-id-7 pre{padding: 0;}#sk-container-id-7 div.sk-toggleable {background-color: white;}#sk-container-id-7 label.sk-toggleable__label {cursor: pointer;display: block;width: 100%;margin-bottom: 0;padding: 0.3em;box-sizing: border-box;text-align: center;}#sk-container-id-7 label.sk-toggleable__label-arrow:before {content: \"▸\";float: left;margin-right: 0.25em;color: #696969;}#sk-container-id-7 label.sk-toggleable__label-arrow:hover:before {color: black;}#sk-container-id-7 div.sk-estimator:hover label.sk-toggleable__label-arrow:before {color: black;}#sk-container-id-7 div.sk-toggleable__content {max-height: 0;max-width: 0;overflow: hidden;text-align: left;background-color: #f0f8ff;}#sk-container-id-7 div.sk-toggleable__content pre {margin: 0.2em;color: black;border-radius: 0.25em;background-color: #f0f8ff;}#sk-container-id-7 input.sk-toggleable__control:checked~div.sk-toggleable__content {max-height: 200px;max-width: 100%;overflow: auto;}#sk-container-id-7 input.sk-toggleable__control:checked~label.sk-toggleable__label-arrow:before {content: \"▾\";}#sk-container-id-7 div.sk-estimator input.sk-toggleable__control:checked~label.sk-toggleable__label {background-color: #d4ebff;}#sk-container-id-7 div.sk-label input.sk-toggleable__control:checked~label.sk-toggleable__label {background-color: #d4ebff;}#sk-container-id-7 input.sk-hidden--visually {border: 0;clip: rect(1px 1px 1px 1px);clip: rect(1px, 1px, 1px, 1px);height: 1px;margin: -1px;overflow: hidden;padding: 0;position: absolute;width: 1px;}#sk-container-id-7 div.sk-estimator {font-family: monospace;background-color: #f0f8ff;border: 1px dotted black;border-radius: 0.25em;box-sizing: border-box;margin-bottom: 0.5em;}#sk-container-id-7 div.sk-estimator:hover {background-color: #d4ebff;}#sk-container-id-7 div.sk-parallel-item::after {content: \"\";width: 100%;border-bottom: 1px solid gray;flex-grow: 1;}#sk-container-id-7 div.sk-label:hover label.sk-toggleable__label {background-color: #d4ebff;}#sk-container-id-7 div.sk-serial::before {content: \"\";position: absolute;border-left: 1px solid gray;box-sizing: border-box;top: 0;bottom: 0;left: 50%;z-index: 0;}#sk-container-id-7 div.sk-serial {display: flex;flex-direction: column;align-items: center;background-color: white;padding-right: 0.2em;padding-left: 0.2em;position: relative;}#sk-container-id-7 div.sk-item {position: relative;z-index: 1;}#sk-container-id-7 div.sk-parallel {display: flex;align-items: stretch;justify-content: center;background-color: white;position: relative;}#sk-container-id-7 div.sk-item::before, #sk-container-id-7 div.sk-parallel-item::before {content: \"\";position: absolute;border-left: 1px solid gray;box-sizing: border-box;top: 0;bottom: 0;left: 50%;z-index: -1;}#sk-container-id-7 div.sk-parallel-item {display: flex;flex-direction: column;z-index: 1;position: relative;background-color: white;}#sk-container-id-7 div.sk-parallel-item:first-child::after {align-self: flex-end;width: 50%;}#sk-container-id-7 div.sk-parallel-item:last-child::after {align-self: flex-start;width: 50%;}#sk-container-id-7 div.sk-parallel-item:only-child::after {width: 0;}#sk-container-id-7 div.sk-dashed-wrapped {border: 1px dashed gray;margin: 0 0.4em 0.5em 0.4em;box-sizing: border-box;padding-bottom: 0.4em;background-color: white;}#sk-container-id-7 div.sk-label label {font-family: monospace;font-weight: bold;display: inline-block;line-height: 1.2em;}#sk-container-id-7 div.sk-label-container {text-align: center;}#sk-container-id-7 div.sk-container {/* jupyter's `normalize.less` sets `[hidden] { display: none; }` but bootstrap.min.css set `[hidden] { display: none !important; }` so we also need the `!important` here to be able to override the default hidden behavior on the sphinx rendered scikit-learn.org. See: https://github.com/scikit-learn/scikit-learn/issues/21755 */display: inline-block !important;position: relative;}#sk-container-id-7 div.sk-text-repr-fallback {display: none;}</style><div id=\"sk-container-id-7\" class=\"sk-top-container\"><div class=\"sk-text-repr-fallback\"><pre>BernoulliNB()</pre><b>In a Jupyter environment, please rerun this cell to show the HTML representation or trust the notebook. <br />On GitHub, the HTML representation is unable to render, please try loading this page with nbviewer.org.</b></div><div class=\"sk-container\" hidden><div class=\"sk-item\"><div class=\"sk-estimator sk-toggleable\"><input class=\"sk-toggleable__control sk-hidden--visually\" id=\"sk-estimator-id-7\" type=\"checkbox\" checked><label for=\"sk-estimator-id-7\" class=\"sk-toggleable__label sk-toggleable__label-arrow\">BernoulliNB</label><div class=\"sk-toggleable__content\"><pre>BernoulliNB()</pre></div></div></div></div></div>"
      ],
      "text/plain": [
       "BernoulliNB()"
      ]
     },
     "execution_count": 70,
     "metadata": {},
     "output_type": "execute_result"
    }
   ],
   "source": [
    "classifier = BernoulliNB()\n",
    "classifier.fit(X_train_bow, y_train_bow)\n"
   ]
  },
  {
   "cell_type": "code",
   "execution_count": 71,
   "id": "761efa4d",
   "metadata": {},
   "outputs": [],
   "source": [
    "y_test_pred = classifier.predict(X_test_bow)"
   ]
  },
  {
   "cell_type": "code",
   "execution_count": 72,
   "id": "19c57931",
   "metadata": {},
   "outputs": [
    {
     "name": "stdout",
     "output_type": "stream",
     "text": [
      "0.85378642734698\n",
      "              precision    recall  f1-score   support\n",
      "\n",
      "           0       0.84      0.87      0.86      4939\n",
      "           1       0.87      0.83      0.85      4978\n",
      "\n",
      "    accuracy                           0.85      9917\n",
      "   macro avg       0.85      0.85      0.85      9917\n",
      "weighted avg       0.85      0.85      0.85      9917\n",
      "\n"
     ]
    }
   ],
   "source": [
    "from sklearn.metrics import accuracy_score, classification_report\n",
    "\n",
    "print(accuracy_score(y_test_bow, y_test_pred))\n",
    "\n",
    "print(classification_report(y_test_bow, y_test_pred))"
   ]
  },
  {
   "cell_type": "markdown",
   "id": "5c7453a9",
   "metadata": {},
   "source": [
    "**KNeighborsClassifier**\n",
    "\n",
    "\n",
    "KNeighborsClassifier is a machine learning algorithm used for classification tasks. It works by finding the k-nearest neighbors to the input data point in the feature space and classifying the input data based on the most common class among its k-nearest neighbors. The algorithm uses a distance metric, such as Euclidean or Manhattan distance, to measure the distance between input data points and the training data points. KNeighborsClassifier is a simple and effective algorithm, especially for low-dimensional data, and can handle multi-class classification tasks. However, the algorithm can be sensitive to the choice of k and the distance metric used, and can be computationally expensive for large datasets."
   ]
  },
  {
   "cell_type": "code",
   "execution_count": 73,
   "id": "e9d380f0",
   "metadata": {},
   "outputs": [
    {
     "data": {
      "text/html": [
       "<style>#sk-container-id-8 {color: black;background-color: white;}#sk-container-id-8 pre{padding: 0;}#sk-container-id-8 div.sk-toggleable {background-color: white;}#sk-container-id-8 label.sk-toggleable__label {cursor: pointer;display: block;width: 100%;margin-bottom: 0;padding: 0.3em;box-sizing: border-box;text-align: center;}#sk-container-id-8 label.sk-toggleable__label-arrow:before {content: \"▸\";float: left;margin-right: 0.25em;color: #696969;}#sk-container-id-8 label.sk-toggleable__label-arrow:hover:before {color: black;}#sk-container-id-8 div.sk-estimator:hover label.sk-toggleable__label-arrow:before {color: black;}#sk-container-id-8 div.sk-toggleable__content {max-height: 0;max-width: 0;overflow: hidden;text-align: left;background-color: #f0f8ff;}#sk-container-id-8 div.sk-toggleable__content pre {margin: 0.2em;color: black;border-radius: 0.25em;background-color: #f0f8ff;}#sk-container-id-8 input.sk-toggleable__control:checked~div.sk-toggleable__content {max-height: 200px;max-width: 100%;overflow: auto;}#sk-container-id-8 input.sk-toggleable__control:checked~label.sk-toggleable__label-arrow:before {content: \"▾\";}#sk-container-id-8 div.sk-estimator input.sk-toggleable__control:checked~label.sk-toggleable__label {background-color: #d4ebff;}#sk-container-id-8 div.sk-label input.sk-toggleable__control:checked~label.sk-toggleable__label {background-color: #d4ebff;}#sk-container-id-8 input.sk-hidden--visually {border: 0;clip: rect(1px 1px 1px 1px);clip: rect(1px, 1px, 1px, 1px);height: 1px;margin: -1px;overflow: hidden;padding: 0;position: absolute;width: 1px;}#sk-container-id-8 div.sk-estimator {font-family: monospace;background-color: #f0f8ff;border: 1px dotted black;border-radius: 0.25em;box-sizing: border-box;margin-bottom: 0.5em;}#sk-container-id-8 div.sk-estimator:hover {background-color: #d4ebff;}#sk-container-id-8 div.sk-parallel-item::after {content: \"\";width: 100%;border-bottom: 1px solid gray;flex-grow: 1;}#sk-container-id-8 div.sk-label:hover label.sk-toggleable__label {background-color: #d4ebff;}#sk-container-id-8 div.sk-serial::before {content: \"\";position: absolute;border-left: 1px solid gray;box-sizing: border-box;top: 0;bottom: 0;left: 50%;z-index: 0;}#sk-container-id-8 div.sk-serial {display: flex;flex-direction: column;align-items: center;background-color: white;padding-right: 0.2em;padding-left: 0.2em;position: relative;}#sk-container-id-8 div.sk-item {position: relative;z-index: 1;}#sk-container-id-8 div.sk-parallel {display: flex;align-items: stretch;justify-content: center;background-color: white;position: relative;}#sk-container-id-8 div.sk-item::before, #sk-container-id-8 div.sk-parallel-item::before {content: \"\";position: absolute;border-left: 1px solid gray;box-sizing: border-box;top: 0;bottom: 0;left: 50%;z-index: -1;}#sk-container-id-8 div.sk-parallel-item {display: flex;flex-direction: column;z-index: 1;position: relative;background-color: white;}#sk-container-id-8 div.sk-parallel-item:first-child::after {align-self: flex-end;width: 50%;}#sk-container-id-8 div.sk-parallel-item:last-child::after {align-self: flex-start;width: 50%;}#sk-container-id-8 div.sk-parallel-item:only-child::after {width: 0;}#sk-container-id-8 div.sk-dashed-wrapped {border: 1px dashed gray;margin: 0 0.4em 0.5em 0.4em;box-sizing: border-box;padding-bottom: 0.4em;background-color: white;}#sk-container-id-8 div.sk-label label {font-family: monospace;font-weight: bold;display: inline-block;line-height: 1.2em;}#sk-container-id-8 div.sk-label-container {text-align: center;}#sk-container-id-8 div.sk-container {/* jupyter's `normalize.less` sets `[hidden] { display: none; }` but bootstrap.min.css set `[hidden] { display: none !important; }` so we also need the `!important` here to be able to override the default hidden behavior on the sphinx rendered scikit-learn.org. See: https://github.com/scikit-learn/scikit-learn/issues/21755 */display: inline-block !important;position: relative;}#sk-container-id-8 div.sk-text-repr-fallback {display: none;}</style><div id=\"sk-container-id-8\" class=\"sk-top-container\"><div class=\"sk-text-repr-fallback\"><pre>KNeighborsClassifier()</pre><b>In a Jupyter environment, please rerun this cell to show the HTML representation or trust the notebook. <br />On GitHub, the HTML representation is unable to render, please try loading this page with nbviewer.org.</b></div><div class=\"sk-container\" hidden><div class=\"sk-item\"><div class=\"sk-estimator sk-toggleable\"><input class=\"sk-toggleable__control sk-hidden--visually\" id=\"sk-estimator-id-8\" type=\"checkbox\" checked><label for=\"sk-estimator-id-8\" class=\"sk-toggleable__label sk-toggleable__label-arrow\">KNeighborsClassifier</label><div class=\"sk-toggleable__content\"><pre>KNeighborsClassifier()</pre></div></div></div></div></div>"
      ],
      "text/plain": [
       "KNeighborsClassifier()"
      ]
     },
     "execution_count": 73,
     "metadata": {},
     "output_type": "execute_result"
    }
   ],
   "source": [
    "from sklearn.neighbors import KNeighborsClassifier\n",
    "classifier = KNeighborsClassifier()\n",
    "classifier.fit(X_train_bow, y_train_bow)"
   ]
  },
  {
   "cell_type": "code",
   "execution_count": 74,
   "id": "017a2693",
   "metadata": {},
   "outputs": [],
   "source": [
    "y_test_pred = classifier.predict(X_test_bow)"
   ]
  },
  {
   "cell_type": "code",
   "execution_count": 75,
   "id": "bbf85617",
   "metadata": {},
   "outputs": [
    {
     "name": "stdout",
     "output_type": "stream",
     "text": [
      "0.6110718967429666\n",
      "              precision    recall  f1-score   support\n",
      "\n",
      "           0       0.61      0.59      0.60      4939\n",
      "           1       0.61      0.64      0.62      4978\n",
      "\n",
      "    accuracy                           0.61      9917\n",
      "   macro avg       0.61      0.61      0.61      9917\n",
      "weighted avg       0.61      0.61      0.61      9917\n",
      "\n"
     ]
    }
   ],
   "source": [
    "from sklearn.metrics import accuracy_score, classification_report\n",
    "\n",
    "print(accuracy_score(y_test_bow, y_test_pred))\n",
    "\n",
    "print(classification_report(y_test_bow, y_test_pred))"
   ]
  },
  {
   "cell_type": "markdown",
   "id": "6abce444",
   "metadata": {},
   "source": [
    "**Gradient Boosting Classifier**\n",
    "\n",
    "\n",
    "Gradient Boosting Classifier is a machine learning algorithm used for classification tasks. It is a type of boosting algorithm that works by iteratively adding decision trees to an ensemble, with each new tree correcting the errors of the previous trees. GradientBoostingClassifier optimizes the loss function of the model using gradient descent to find the optimal parameters of each tree. It is a powerful algorithm that can handle complex interactions between features and is known for its high accuracy in many classification tasks. However, it can be sensitive to the choice of hyperparameters and may require careful tuning to achieve good performance. GradientBoostingClassifier is widely used in various fields such as finance, healthcare, and marketing."
   ]
  },
  {
   "cell_type": "code",
   "execution_count": 72,
   "id": "acea6fa1",
   "metadata": {},
   "outputs": [
    {
     "data": {
      "text/html": [
       "<style>#sk-container-id-8 {color: black;background-color: white;}#sk-container-id-8 pre{padding: 0;}#sk-container-id-8 div.sk-toggleable {background-color: white;}#sk-container-id-8 label.sk-toggleable__label {cursor: pointer;display: block;width: 100%;margin-bottom: 0;padding: 0.3em;box-sizing: border-box;text-align: center;}#sk-container-id-8 label.sk-toggleable__label-arrow:before {content: \"▸\";float: left;margin-right: 0.25em;color: #696969;}#sk-container-id-8 label.sk-toggleable__label-arrow:hover:before {color: black;}#sk-container-id-8 div.sk-estimator:hover label.sk-toggleable__label-arrow:before {color: black;}#sk-container-id-8 div.sk-toggleable__content {max-height: 0;max-width: 0;overflow: hidden;text-align: left;background-color: #f0f8ff;}#sk-container-id-8 div.sk-toggleable__content pre {margin: 0.2em;color: black;border-radius: 0.25em;background-color: #f0f8ff;}#sk-container-id-8 input.sk-toggleable__control:checked~div.sk-toggleable__content {max-height: 200px;max-width: 100%;overflow: auto;}#sk-container-id-8 input.sk-toggleable__control:checked~label.sk-toggleable__label-arrow:before {content: \"▾\";}#sk-container-id-8 div.sk-estimator input.sk-toggleable__control:checked~label.sk-toggleable__label {background-color: #d4ebff;}#sk-container-id-8 div.sk-label input.sk-toggleable__control:checked~label.sk-toggleable__label {background-color: #d4ebff;}#sk-container-id-8 input.sk-hidden--visually {border: 0;clip: rect(1px 1px 1px 1px);clip: rect(1px, 1px, 1px, 1px);height: 1px;margin: -1px;overflow: hidden;padding: 0;position: absolute;width: 1px;}#sk-container-id-8 div.sk-estimator {font-family: monospace;background-color: #f0f8ff;border: 1px dotted black;border-radius: 0.25em;box-sizing: border-box;margin-bottom: 0.5em;}#sk-container-id-8 div.sk-estimator:hover {background-color: #d4ebff;}#sk-container-id-8 div.sk-parallel-item::after {content: \"\";width: 100%;border-bottom: 1px solid gray;flex-grow: 1;}#sk-container-id-8 div.sk-label:hover label.sk-toggleable__label {background-color: #d4ebff;}#sk-container-id-8 div.sk-serial::before {content: \"\";position: absolute;border-left: 1px solid gray;box-sizing: border-box;top: 0;bottom: 0;left: 50%;z-index: 0;}#sk-container-id-8 div.sk-serial {display: flex;flex-direction: column;align-items: center;background-color: white;padding-right: 0.2em;padding-left: 0.2em;position: relative;}#sk-container-id-8 div.sk-item {position: relative;z-index: 1;}#sk-container-id-8 div.sk-parallel {display: flex;align-items: stretch;justify-content: center;background-color: white;position: relative;}#sk-container-id-8 div.sk-item::before, #sk-container-id-8 div.sk-parallel-item::before {content: \"\";position: absolute;border-left: 1px solid gray;box-sizing: border-box;top: 0;bottom: 0;left: 50%;z-index: -1;}#sk-container-id-8 div.sk-parallel-item {display: flex;flex-direction: column;z-index: 1;position: relative;background-color: white;}#sk-container-id-8 div.sk-parallel-item:first-child::after {align-self: flex-end;width: 50%;}#sk-container-id-8 div.sk-parallel-item:last-child::after {align-self: flex-start;width: 50%;}#sk-container-id-8 div.sk-parallel-item:only-child::after {width: 0;}#sk-container-id-8 div.sk-dashed-wrapped {border: 1px dashed gray;margin: 0 0.4em 0.5em 0.4em;box-sizing: border-box;padding-bottom: 0.4em;background-color: white;}#sk-container-id-8 div.sk-label label {font-family: monospace;font-weight: bold;display: inline-block;line-height: 1.2em;}#sk-container-id-8 div.sk-label-container {text-align: center;}#sk-container-id-8 div.sk-container {/* jupyter's `normalize.less` sets `[hidden] { display: none; }` but bootstrap.min.css set `[hidden] { display: none !important; }` so we also need the `!important` here to be able to override the default hidden behavior on the sphinx rendered scikit-learn.org. See: https://github.com/scikit-learn/scikit-learn/issues/21755 */display: inline-block !important;position: relative;}#sk-container-id-8 div.sk-text-repr-fallback {display: none;}</style><div id=\"sk-container-id-8\" class=\"sk-top-container\"><div class=\"sk-text-repr-fallback\"><pre>GradientBoostingClassifier()</pre><b>In a Jupyter environment, please rerun this cell to show the HTML representation or trust the notebook. <br />On GitHub, the HTML representation is unable to render, please try loading this page with nbviewer.org.</b></div><div class=\"sk-container\" hidden><div class=\"sk-item\"><div class=\"sk-estimator sk-toggleable\"><input class=\"sk-toggleable__control sk-hidden--visually\" id=\"sk-estimator-id-8\" type=\"checkbox\" checked><label for=\"sk-estimator-id-8\" class=\"sk-toggleable__label sk-toggleable__label-arrow\">GradientBoostingClassifier</label><div class=\"sk-toggleable__content\"><pre>GradientBoostingClassifier()</pre></div></div></div></div></div>"
      ],
      "text/plain": [
       "GradientBoostingClassifier()"
      ]
     },
     "execution_count": 72,
     "metadata": {},
     "output_type": "execute_result"
    }
   ],
   "source": [
    "from sklearn.ensemble import GradientBoostingClassifier\n",
    "classifier = GradientBoostingClassifier()\n",
    "classifier.fit(X_train_bow, y_train_bow)"
   ]
  },
  {
   "cell_type": "code",
   "execution_count": 73,
   "id": "88c1440c",
   "metadata": {},
   "outputs": [],
   "source": [
    "y_test_pred = classifier.predict(X_test_bow)"
   ]
  },
  {
   "cell_type": "code",
   "execution_count": 74,
   "id": "20419c3b",
   "metadata": {},
   "outputs": [
    {
     "name": "stdout",
     "output_type": "stream",
     "text": [
      "0.7920742159927397\n",
      "              precision    recall  f1-score   support\n",
      "\n",
      "           0       0.83      0.73      0.78      4939\n",
      "           1       0.76      0.85      0.80      4978\n",
      "\n",
      "    accuracy                           0.79      9917\n",
      "   macro avg       0.80      0.79      0.79      9917\n",
      "weighted avg       0.80      0.79      0.79      9917\n",
      "\n"
     ]
    }
   ],
   "source": [
    "from sklearn.metrics import accuracy_score, classification_report\n",
    "\n",
    "print(accuracy_score(y_test_bow, y_test_pred))\n",
    "\n",
    "print(classification_report(y_test_bow, y_test_pred))"
   ]
  },
  {
   "cell_type": "markdown",
   "id": "e143f33a",
   "metadata": {},
   "source": [
    "**AdaBoost Classifier**\n",
    "\n",
    "AdaBoostClassifier is a machine learning algorithm used for classification tasks. It is a type of boosting algorithm that works by iteratively adding weak classifiers to an ensemble, with each new classifier focused on classifying the misclassified samples of the previous classifiers. AdaBoostClassifier assigns a weight to each training sample, which is updated after each iteration based on the accuracy of the previous classifiers. The final prediction is determined by a weighted majority vote of the individual classifier predictions. AdaBoostClassifier is a powerful algorithm that can improve the performance of weak classifiers and is known for its ability to handle complex classification problems. However, it can be sensitive to noisy data and outliers and may require careful tuning of hyperparameters to achieve good performance. AdaBoostClassifier is widely used in various fields such as finance, healthcare, and marketing."
   ]
  },
  {
   "cell_type": "code",
   "execution_count": 75,
   "id": "cd6bfede",
   "metadata": {},
   "outputs": [
    {
     "data": {
      "text/html": [
       "<style>#sk-container-id-9 {color: black;background-color: white;}#sk-container-id-9 pre{padding: 0;}#sk-container-id-9 div.sk-toggleable {background-color: white;}#sk-container-id-9 label.sk-toggleable__label {cursor: pointer;display: block;width: 100%;margin-bottom: 0;padding: 0.3em;box-sizing: border-box;text-align: center;}#sk-container-id-9 label.sk-toggleable__label-arrow:before {content: \"▸\";float: left;margin-right: 0.25em;color: #696969;}#sk-container-id-9 label.sk-toggleable__label-arrow:hover:before {color: black;}#sk-container-id-9 div.sk-estimator:hover label.sk-toggleable__label-arrow:before {color: black;}#sk-container-id-9 div.sk-toggleable__content {max-height: 0;max-width: 0;overflow: hidden;text-align: left;background-color: #f0f8ff;}#sk-container-id-9 div.sk-toggleable__content pre {margin: 0.2em;color: black;border-radius: 0.25em;background-color: #f0f8ff;}#sk-container-id-9 input.sk-toggleable__control:checked~div.sk-toggleable__content {max-height: 200px;max-width: 100%;overflow: auto;}#sk-container-id-9 input.sk-toggleable__control:checked~label.sk-toggleable__label-arrow:before {content: \"▾\";}#sk-container-id-9 div.sk-estimator input.sk-toggleable__control:checked~label.sk-toggleable__label {background-color: #d4ebff;}#sk-container-id-9 div.sk-label input.sk-toggleable__control:checked~label.sk-toggleable__label {background-color: #d4ebff;}#sk-container-id-9 input.sk-hidden--visually {border: 0;clip: rect(1px 1px 1px 1px);clip: rect(1px, 1px, 1px, 1px);height: 1px;margin: -1px;overflow: hidden;padding: 0;position: absolute;width: 1px;}#sk-container-id-9 div.sk-estimator {font-family: monospace;background-color: #f0f8ff;border: 1px dotted black;border-radius: 0.25em;box-sizing: border-box;margin-bottom: 0.5em;}#sk-container-id-9 div.sk-estimator:hover {background-color: #d4ebff;}#sk-container-id-9 div.sk-parallel-item::after {content: \"\";width: 100%;border-bottom: 1px solid gray;flex-grow: 1;}#sk-container-id-9 div.sk-label:hover label.sk-toggleable__label {background-color: #d4ebff;}#sk-container-id-9 div.sk-serial::before {content: \"\";position: absolute;border-left: 1px solid gray;box-sizing: border-box;top: 0;bottom: 0;left: 50%;z-index: 0;}#sk-container-id-9 div.sk-serial {display: flex;flex-direction: column;align-items: center;background-color: white;padding-right: 0.2em;padding-left: 0.2em;position: relative;}#sk-container-id-9 div.sk-item {position: relative;z-index: 1;}#sk-container-id-9 div.sk-parallel {display: flex;align-items: stretch;justify-content: center;background-color: white;position: relative;}#sk-container-id-9 div.sk-item::before, #sk-container-id-9 div.sk-parallel-item::before {content: \"\";position: absolute;border-left: 1px solid gray;box-sizing: border-box;top: 0;bottom: 0;left: 50%;z-index: -1;}#sk-container-id-9 div.sk-parallel-item {display: flex;flex-direction: column;z-index: 1;position: relative;background-color: white;}#sk-container-id-9 div.sk-parallel-item:first-child::after {align-self: flex-end;width: 50%;}#sk-container-id-9 div.sk-parallel-item:last-child::after {align-self: flex-start;width: 50%;}#sk-container-id-9 div.sk-parallel-item:only-child::after {width: 0;}#sk-container-id-9 div.sk-dashed-wrapped {border: 1px dashed gray;margin: 0 0.4em 0.5em 0.4em;box-sizing: border-box;padding-bottom: 0.4em;background-color: white;}#sk-container-id-9 div.sk-label label {font-family: monospace;font-weight: bold;display: inline-block;line-height: 1.2em;}#sk-container-id-9 div.sk-label-container {text-align: center;}#sk-container-id-9 div.sk-container {/* jupyter's `normalize.less` sets `[hidden] { display: none; }` but bootstrap.min.css set `[hidden] { display: none !important; }` so we also need the `!important` here to be able to override the default hidden behavior on the sphinx rendered scikit-learn.org. See: https://github.com/scikit-learn/scikit-learn/issues/21755 */display: inline-block !important;position: relative;}#sk-container-id-9 div.sk-text-repr-fallback {display: none;}</style><div id=\"sk-container-id-9\" class=\"sk-top-container\"><div class=\"sk-text-repr-fallback\"><pre>AdaBoostClassifier()</pre><b>In a Jupyter environment, please rerun this cell to show the HTML representation or trust the notebook. <br />On GitHub, the HTML representation is unable to render, please try loading this page with nbviewer.org.</b></div><div class=\"sk-container\" hidden><div class=\"sk-item\"><div class=\"sk-estimator sk-toggleable\"><input class=\"sk-toggleable__control sk-hidden--visually\" id=\"sk-estimator-id-9\" type=\"checkbox\" checked><label for=\"sk-estimator-id-9\" class=\"sk-toggleable__label sk-toggleable__label-arrow\">AdaBoostClassifier</label><div class=\"sk-toggleable__content\"><pre>AdaBoostClassifier()</pre></div></div></div></div></div>"
      ],
      "text/plain": [
       "AdaBoostClassifier()"
      ]
     },
     "execution_count": 75,
     "metadata": {},
     "output_type": "execute_result"
    }
   ],
   "source": [
    "from sklearn.ensemble import AdaBoostClassifier\n",
    "classifier = AdaBoostClassifier()\n",
    "classifier.fit(X_train_bow, y_train_bow)"
   ]
  },
  {
   "cell_type": "code",
   "execution_count": 76,
   "id": "dd9a5773",
   "metadata": {},
   "outputs": [],
   "source": [
    "y_test_pred = classifier.predict(X_test_bow)"
   ]
  },
  {
   "cell_type": "code",
   "execution_count": 77,
   "id": "02e7c3fa",
   "metadata": {},
   "outputs": [
    {
     "name": "stdout",
     "output_type": "stream",
     "text": [
      "0.7868306947665624\n",
      "              precision    recall  f1-score   support\n",
      "\n",
      "           0       0.81      0.74      0.78      4939\n",
      "           1       0.76      0.83      0.80      4978\n",
      "\n",
      "    accuracy                           0.79      9917\n",
      "   macro avg       0.79      0.79      0.79      9917\n",
      "weighted avg       0.79      0.79      0.79      9917\n",
      "\n"
     ]
    }
   ],
   "source": [
    "from sklearn.metrics import accuracy_score, classification_report\n",
    "\n",
    "print(accuracy_score(y_test_bow, y_test_pred))\n",
    "\n",
    "print(classification_report(y_test_bow, y_test_pred))"
   ]
  },
  {
   "cell_type": "markdown",
   "id": "4b455e9a",
   "metadata": {},
   "source": [
    "**XGB Classifier**\n",
    "\n",
    "XGB Classifier (Extreme Gradient Boosting Classifier) is a machine learning algorithm used for classification tasks. It is a type of boosting algorithm that works by iteratively adding decision trees to an ensemble, with each new tree focused on reducing the errors of the previous trees. XGBClassifier optimizes the loss function of the model using gradient descent to find the optimal parameters of each tree. It also uses regularization techniques to prevent overfitting and improve generalization performance. XGBClassifier is known for its high accuracy and speed in many classification tasks, especially in large-scale and high-dimensional datasets. It can handle missing data and outliers and can automatically handle feature selection and feature engineering. However, it may require careful tuning of hyperparameters and can be computationally expensive for very large datasets. XGBClassifier is widely used in various fields such as finance, healthcare, and marketing."
   ]
  },
  {
   "cell_type": "code",
   "execution_count": 78,
   "id": "b196f870",
   "metadata": {},
   "outputs": [
    {
     "data": {
      "text/html": [
       "<style>#sk-container-id-10 {color: black;background-color: white;}#sk-container-id-10 pre{padding: 0;}#sk-container-id-10 div.sk-toggleable {background-color: white;}#sk-container-id-10 label.sk-toggleable__label {cursor: pointer;display: block;width: 100%;margin-bottom: 0;padding: 0.3em;box-sizing: border-box;text-align: center;}#sk-container-id-10 label.sk-toggleable__label-arrow:before {content: \"▸\";float: left;margin-right: 0.25em;color: #696969;}#sk-container-id-10 label.sk-toggleable__label-arrow:hover:before {color: black;}#sk-container-id-10 div.sk-estimator:hover label.sk-toggleable__label-arrow:before {color: black;}#sk-container-id-10 div.sk-toggleable__content {max-height: 0;max-width: 0;overflow: hidden;text-align: left;background-color: #f0f8ff;}#sk-container-id-10 div.sk-toggleable__content pre {margin: 0.2em;color: black;border-radius: 0.25em;background-color: #f0f8ff;}#sk-container-id-10 input.sk-toggleable__control:checked~div.sk-toggleable__content {max-height: 200px;max-width: 100%;overflow: auto;}#sk-container-id-10 input.sk-toggleable__control:checked~label.sk-toggleable__label-arrow:before {content: \"▾\";}#sk-container-id-10 div.sk-estimator input.sk-toggleable__control:checked~label.sk-toggleable__label {background-color: #d4ebff;}#sk-container-id-10 div.sk-label input.sk-toggleable__control:checked~label.sk-toggleable__label {background-color: #d4ebff;}#sk-container-id-10 input.sk-hidden--visually {border: 0;clip: rect(1px 1px 1px 1px);clip: rect(1px, 1px, 1px, 1px);height: 1px;margin: -1px;overflow: hidden;padding: 0;position: absolute;width: 1px;}#sk-container-id-10 div.sk-estimator {font-family: monospace;background-color: #f0f8ff;border: 1px dotted black;border-radius: 0.25em;box-sizing: border-box;margin-bottom: 0.5em;}#sk-container-id-10 div.sk-estimator:hover {background-color: #d4ebff;}#sk-container-id-10 div.sk-parallel-item::after {content: \"\";width: 100%;border-bottom: 1px solid gray;flex-grow: 1;}#sk-container-id-10 div.sk-label:hover label.sk-toggleable__label {background-color: #d4ebff;}#sk-container-id-10 div.sk-serial::before {content: \"\";position: absolute;border-left: 1px solid gray;box-sizing: border-box;top: 0;bottom: 0;left: 50%;z-index: 0;}#sk-container-id-10 div.sk-serial {display: flex;flex-direction: column;align-items: center;background-color: white;padding-right: 0.2em;padding-left: 0.2em;position: relative;}#sk-container-id-10 div.sk-item {position: relative;z-index: 1;}#sk-container-id-10 div.sk-parallel {display: flex;align-items: stretch;justify-content: center;background-color: white;position: relative;}#sk-container-id-10 div.sk-item::before, #sk-container-id-10 div.sk-parallel-item::before {content: \"\";position: absolute;border-left: 1px solid gray;box-sizing: border-box;top: 0;bottom: 0;left: 50%;z-index: -1;}#sk-container-id-10 div.sk-parallel-item {display: flex;flex-direction: column;z-index: 1;position: relative;background-color: white;}#sk-container-id-10 div.sk-parallel-item:first-child::after {align-self: flex-end;width: 50%;}#sk-container-id-10 div.sk-parallel-item:last-child::after {align-self: flex-start;width: 50%;}#sk-container-id-10 div.sk-parallel-item:only-child::after {width: 0;}#sk-container-id-10 div.sk-dashed-wrapped {border: 1px dashed gray;margin: 0 0.4em 0.5em 0.4em;box-sizing: border-box;padding-bottom: 0.4em;background-color: white;}#sk-container-id-10 div.sk-label label {font-family: monospace;font-weight: bold;display: inline-block;line-height: 1.2em;}#sk-container-id-10 div.sk-label-container {text-align: center;}#sk-container-id-10 div.sk-container {/* jupyter's `normalize.less` sets `[hidden] { display: none; }` but bootstrap.min.css set `[hidden] { display: none !important; }` so we also need the `!important` here to be able to override the default hidden behavior on the sphinx rendered scikit-learn.org. See: https://github.com/scikit-learn/scikit-learn/issues/21755 */display: inline-block !important;position: relative;}#sk-container-id-10 div.sk-text-repr-fallback {display: none;}</style><div id=\"sk-container-id-10\" class=\"sk-top-container\"><div class=\"sk-text-repr-fallback\"><pre>XGBClassifier(base_score=None, booster=None, callbacks=None,\n",
       "              colsample_bylevel=None, colsample_bynode=None,\n",
       "              colsample_bytree=None, early_stopping_rounds=None,\n",
       "              enable_categorical=False, eval_metric=None, feature_types=None,\n",
       "              gamma=None, gpu_id=None, grow_policy=None, importance_type=None,\n",
       "              interaction_constraints=None, learning_rate=None, max_bin=None,\n",
       "              max_cat_threshold=None, max_cat_to_onehot=None,\n",
       "              max_delta_step=None, max_depth=None, max_leaves=None,\n",
       "              min_child_weight=None, missing=nan, monotone_constraints=None,\n",
       "              n_estimators=100, n_jobs=None, num_parallel_tree=None,\n",
       "              predictor=None, random_state=None, ...)</pre><b>In a Jupyter environment, please rerun this cell to show the HTML representation or trust the notebook. <br />On GitHub, the HTML representation is unable to render, please try loading this page with nbviewer.org.</b></div><div class=\"sk-container\" hidden><div class=\"sk-item\"><div class=\"sk-estimator sk-toggleable\"><input class=\"sk-toggleable__control sk-hidden--visually\" id=\"sk-estimator-id-10\" type=\"checkbox\" checked><label for=\"sk-estimator-id-10\" class=\"sk-toggleable__label sk-toggleable__label-arrow\">XGBClassifier</label><div class=\"sk-toggleable__content\"><pre>XGBClassifier(base_score=None, booster=None, callbacks=None,\n",
       "              colsample_bylevel=None, colsample_bynode=None,\n",
       "              colsample_bytree=None, early_stopping_rounds=None,\n",
       "              enable_categorical=False, eval_metric=None, feature_types=None,\n",
       "              gamma=None, gpu_id=None, grow_policy=None, importance_type=None,\n",
       "              interaction_constraints=None, learning_rate=None, max_bin=None,\n",
       "              max_cat_threshold=None, max_cat_to_onehot=None,\n",
       "              max_delta_step=None, max_depth=None, max_leaves=None,\n",
       "              min_child_weight=None, missing=nan, monotone_constraints=None,\n",
       "              n_estimators=100, n_jobs=None, num_parallel_tree=None,\n",
       "              predictor=None, random_state=None, ...)</pre></div></div></div></div></div>"
      ],
      "text/plain": [
       "XGBClassifier(base_score=None, booster=None, callbacks=None,\n",
       "              colsample_bylevel=None, colsample_bynode=None,\n",
       "              colsample_bytree=None, early_stopping_rounds=None,\n",
       "              enable_categorical=False, eval_metric=None, feature_types=None,\n",
       "              gamma=None, gpu_id=None, grow_policy=None, importance_type=None,\n",
       "              interaction_constraints=None, learning_rate=None, max_bin=None,\n",
       "              max_cat_threshold=None, max_cat_to_onehot=None,\n",
       "              max_delta_step=None, max_depth=None, max_leaves=None,\n",
       "              min_child_weight=None, missing=nan, monotone_constraints=None,\n",
       "              n_estimators=100, n_jobs=None, num_parallel_tree=None,\n",
       "              predictor=None, random_state=None, ...)"
      ]
     },
     "execution_count": 78,
     "metadata": {},
     "output_type": "execute_result"
    }
   ],
   "source": [
    "import xgboost as xgb\n",
    "classifier = xgb.XGBClassifier()\n",
    "classifier.fit(X_train_bow, y_train_bow)"
   ]
  },
  {
   "cell_type": "code",
   "execution_count": 79,
   "id": "03b45780",
   "metadata": {},
   "outputs": [],
   "source": [
    "y_test_pred = classifier.predict(X_test_bow)"
   ]
  },
  {
   "cell_type": "code",
   "execution_count": 80,
   "id": "54e5e958",
   "metadata": {},
   "outputs": [
    {
     "name": "stdout",
     "output_type": "stream",
     "text": [
      "0.846324493294343\n",
      "              precision    recall  f1-score   support\n",
      "\n",
      "           0       0.86      0.82      0.84      4939\n",
      "           1       0.83      0.87      0.85      4978\n",
      "\n",
      "    accuracy                           0.85      9917\n",
      "   macro avg       0.85      0.85      0.85      9917\n",
      "weighted avg       0.85      0.85      0.85      9917\n",
      "\n"
     ]
    }
   ],
   "source": [
    "from sklearn.metrics import accuracy_score, classification_report\n",
    "\n",
    "print(accuracy_score(y_test_bow, y_test_pred))\n",
    "\n",
    "print(classification_report(y_test_bow, y_test_pred))"
   ]
  },
  {
   "cell_type": "markdown",
   "id": "3559761a",
   "metadata": {},
   "source": [
    "# In Bag of Words LogisticRegression is giving good accuracy with Instant time"
   ]
  },
  {
   "cell_type": "code",
   "execution_count": null,
   "id": "3a325c51",
   "metadata": {},
   "outputs": [],
   "source": []
  },
  {
   "cell_type": "code",
   "execution_count": null,
   "id": "f4e395e3",
   "metadata": {},
   "outputs": [],
   "source": []
  },
  {
   "cell_type": "code",
   "execution_count": null,
   "id": "637467b4",
   "metadata": {},
   "outputs": [],
   "source": []
  },
  {
   "cell_type": "markdown",
   "id": "82dfcd58",
   "metadata": {},
   "source": [
    "# Term Frequency Inverse Document Frequency"
   ]
  },
  {
   "cell_type": "code",
   "execution_count": null,
   "id": "e7740070",
   "metadata": {},
   "outputs": [],
   "source": []
  },
  {
   "attachments": {
    "image.png": {
     "image/png": "[encoded data removed]"
    }
   },
   "cell_type": "markdown",
   "id": "0f8971f7",
   "metadata": {},
   "source": [
    "**Term Frequency Inverse Document Frequency**\n",
    "\n",
    "\n",
    "In BOW approach all the words in the text are treated as equally important i.e. there's no notion of some words in the document being more important than others. TF-IDF, or term frequency-inverse document frequency, addresses this issue. It aims to quantify the importance of a given word relative to other words in the document and in the corpus.\n",
    "\n",
    "Let's now try to understand:\n",
    "\n",
    "![image.png](attachment:image.png)\n",
    " \n",
    " \n",
    "Advantages\n",
    "If the word is rare in the corpus, it will be given more importance. (i.e. IDF)\n",
    "If the word is more frequent in a document, it will be given more importance. (i.e. TF)\n",
    "Disadvantages\n",
    "Same as BOW"
   ]
  },
  {
   "cell_type": "code",
   "execution_count": 144,
   "id": "9bfcf2e9",
   "metadata": {},
   "outputs": [],
   "source": [
    "from sklearn.feature_extraction.text import TfidfVectorizer\n",
    "from sklearn.naive_bayes import MultinomialNB\n",
    "from sklearn.metrics import classification_report"
   ]
  },
  {
   "cell_type": "code",
   "execution_count": 145,
   "id": "e8c26a98",
   "metadata": {},
   "outputs": [],
   "source": [
    "df['GRAMS'] = df.review"
   ]
  },
  {
   "cell_type": "code",
   "execution_count": 146,
   "id": "b9cd9930",
   "metadata": {},
   "outputs": [
    {
     "data": {
      "text/html": [
       "<div>\n",
       "<style scoped>\n",
       "    .dataframe tbody tr th:only-of-type {\n",
       "        vertical-align: middle;\n",
       "    }\n",
       "\n",
       "    .dataframe tbody tr th {\n",
       "        vertical-align: top;\n",
       "    }\n",
       "\n",
       "    .dataframe thead th {\n",
       "        text-align: right;\n",
       "    }\n",
       "</style>\n",
       "<table border=\"1\" class=\"dataframe\">\n",
       "  <thead>\n",
       "    <tr style=\"text-align: right;\">\n",
       "      <th></th>\n",
       "      <th>review</th>\n",
       "      <th>sentiment</th>\n",
       "      <th>clean_text</th>\n",
       "      <th>GRAMS</th>\n",
       "    </tr>\n",
       "  </thead>\n",
       "  <tbody>\n",
       "    <tr>\n",
       "      <th>0</th>\n",
       "      <td>one reviewer mentioned watching oz episode you...</td>\n",
       "      <td>1</td>\n",
       "      <td>one reviewer mentioned watching oz episode you...</td>\n",
       "      <td>one reviewer mentioned watching oz episode you...</td>\n",
       "    </tr>\n",
       "    <tr>\n",
       "      <th>1</th>\n",
       "      <td>wonderful little production filming technique ...</td>\n",
       "      <td>1</td>\n",
       "      <td>wonderful little production filming technique ...</td>\n",
       "      <td>wonderful little production filming technique ...</td>\n",
       "    </tr>\n",
       "    <tr>\n",
       "      <th>2</th>\n",
       "      <td>thought wonderful way spend time hot summer we...</td>\n",
       "      <td>1</td>\n",
       "      <td>thought wonderful way spend time hot summer we...</td>\n",
       "      <td>thought wonderful way spend time hot summer we...</td>\n",
       "    </tr>\n",
       "    <tr>\n",
       "      <th>3</th>\n",
       "      <td>basically there family little boy jake think t...</td>\n",
       "      <td>0</td>\n",
       "      <td>basically there family little boy jake think t...</td>\n",
       "      <td>basically there family little boy jake think t...</td>\n",
       "    </tr>\n",
       "    <tr>\n",
       "      <th>4</th>\n",
       "      <td>petter matteis love time money visually stunni...</td>\n",
       "      <td>1</td>\n",
       "      <td>petter matteis love time money visually stunni...</td>\n",
       "      <td>petter matteis love time money visually stunni...</td>\n",
       "    </tr>\n",
       "  </tbody>\n",
       "</table>\n",
       "</div>"
      ],
      "text/plain": [
       "                                              review  sentiment  \\\n",
       "0  one reviewer mentioned watching oz episode you...          1   \n",
       "1  wonderful little production filming technique ...          1   \n",
       "2  thought wonderful way spend time hot summer we...          1   \n",
       "3  basically there family little boy jake think t...          0   \n",
       "4  petter matteis love time money visually stunni...          1   \n",
       "\n",
       "                                          clean_text  \\\n",
       "0  one reviewer mentioned watching oz episode you...   \n",
       "1  wonderful little production filming technique ...   \n",
       "2  thought wonderful way spend time hot summer we...   \n",
       "3  basically there family little boy jake think t...   \n",
       "4  petter matteis love time money visually stunni...   \n",
       "\n",
       "                                               GRAMS  \n",
       "0  one reviewer mentioned watching oz episode you...  \n",
       "1  wonderful little production filming technique ...  \n",
       "2  thought wonderful way spend time hot summer we...  \n",
       "3  basically there family little boy jake think t...  \n",
       "4  petter matteis love time money visually stunni...  "
      ]
     },
     "execution_count": 146,
     "metadata": {},
     "output_type": "execute_result"
    }
   ],
   "source": [
    "df.head()"
   ]
  },
  {
   "cell_type": "code",
   "execution_count": 147,
   "id": "bcbfc3ae",
   "metadata": {},
   "outputs": [],
   "source": [
    "X = df.GRAMS"
   ]
  },
  {
   "cell_type": "code",
   "execution_count": 148,
   "id": "f35a710a",
   "metadata": {},
   "outputs": [
    {
     "data": {
      "text/plain": [
       "0        one reviewer mentioned watching oz episode you...\n",
       "1        wonderful little production filming technique ...\n",
       "2        thought wonderful way spend time hot summer we...\n",
       "3        basically there family little boy jake think t...\n",
       "4        petter matteis love time money visually stunni...\n",
       "                               ...                        \n",
       "49995    thought movie right good job wasnt creative or...\n",
       "49996    bad plot bad dialogue bad acting idiotic direc...\n",
       "49997    catholic taught parochial elementary school nu...\n",
       "49998    im going disagree previous comment side maltin...\n",
       "49999    one expects star trek movie high art fan expec...\n",
       "Name: GRAMS, Length: 49582, dtype: object"
      ]
     },
     "execution_count": 148,
     "metadata": {},
     "output_type": "execute_result"
    }
   ],
   "source": [
    "X"
   ]
  },
  {
   "cell_type": "code",
   "execution_count": 149,
   "id": "5ba590ce",
   "metadata": {},
   "outputs": [],
   "source": [
    "y = df.sentiment"
   ]
  },
  {
   "cell_type": "code",
   "execution_count": 150,
   "id": "4bdf720a",
   "metadata": {},
   "outputs": [
    {
     "data": {
      "text/plain": [
       "0        1\n",
       "1        1\n",
       "2        1\n",
       "3        0\n",
       "4        1\n",
       "        ..\n",
       "49995    1\n",
       "49996    0\n",
       "49997    0\n",
       "49998    0\n",
       "49999    0\n",
       "Name: sentiment, Length: 49582, dtype: int64"
      ]
     },
     "execution_count": 150,
     "metadata": {},
     "output_type": "execute_result"
    }
   ],
   "source": [
    "y"
   ]
  },
  {
   "cell_type": "code",
   "execution_count": 151,
   "id": "79490228",
   "metadata": {},
   "outputs": [],
   "source": [
    "from sklearn.model_selection import train_test_split\n",
    "\n",
    "X_train_ngrams, X_test_ngrams, y_train_ngrams, y_test_ngrams = train_test_split(X, y, test_size=0.2, random_state=42)"
   ]
  },
  {
   "cell_type": "code",
   "execution_count": 152,
   "id": "8e4272b1",
   "metadata": {},
   "outputs": [],
   "source": [
    "from sklearn.feature_extraction.text import CountVectorizer\n",
    "\n",
    "vectorizer = CountVectorizer(ngram_range=(1,3))\n",
    "X_train_ngrams = vectorizer.fit_transform(X_train_ngrams)\n",
    "X_test_ngrams = vectorizer.transform(X_test_ngrams)"
   ]
  },
  {
   "cell_type": "markdown",
   "id": "fea658a5",
   "metadata": {},
   "source": [
    "**Logistic Regression**"
   ]
  },
  {
   "cell_type": "code",
   "execution_count": 67,
   "id": "616c957e",
   "metadata": {},
   "outputs": [
    {
     "name": "stdout",
     "output_type": "stream",
     "text": [
      "Test set accuracy: 0.893\n"
     ]
    },
    {
     "name": "stderr",
     "output_type": "stream",
     "text": [
      "C:\\Users\\ideapad\\anaconda3\\lib\\site-packages\\sklearn\\linear_model\\_logistic.py:458: ConvergenceWarning: lbfgs failed to converge (status=1):\n",
      "STOP: TOTAL NO. of ITERATIONS REACHED LIMIT.\n",
      "\n",
      "Increase the number of iterations (max_iter) or scale the data as shown in:\n",
      "    https://scikit-learn.org/stable/modules/preprocessing.html\n",
      "Please also refer to the documentation for alternative solver options:\n",
      "    https://scikit-learn.org/stable/modules/linear_model.html#logistic-regression\n",
      "  n_iter_i = _check_optimize_result(\n"
     ]
    }
   ],
   "source": [
    "from sklearn.linear_model import LogisticRegression\n",
    "\n",
    "# Train the model on the n-grams\n",
    "clf = LogisticRegression()\n",
    "clf.fit(X_train_ngrams, y_train_ngrams)\n",
    "\n",
    "# Evaluate the model on the test set\n",
    "y_test_pred = clf.predict(X_test_ngrams)\n",
    "accuracy = clf.score(X_test_ngrams, y_test_ngrams)\n",
    "print(f\"Test set accuracy: {accuracy:.3f}\")"
   ]
  },
  {
   "cell_type": "code",
   "execution_count": 68,
   "id": "c1d9b5d6",
   "metadata": {},
   "outputs": [
    {
     "name": "stdout",
     "output_type": "stream",
     "text": [
      "0.8930119995966522\n",
      "              precision    recall  f1-score   support\n",
      "\n",
      "           0       0.90      0.88      0.89      4939\n",
      "           1       0.88      0.91      0.89      4978\n",
      "\n",
      "    accuracy                           0.89      9917\n",
      "   macro avg       0.89      0.89      0.89      9917\n",
      "weighted avg       0.89      0.89      0.89      9917\n",
      "\n"
     ]
    }
   ],
   "source": [
    "from sklearn.metrics import accuracy_score, classification_report\n",
    "\n",
    "print(accuracy_score(y_test_ngrams, y_test_pred))\n",
    "\n",
    "print(classification_report(y_test_ngrams, y_test_pred))"
   ]
  },
  {
   "cell_type": "markdown",
   "id": "6bd4ed94",
   "metadata": {},
   "source": [
    "**MultinomialNB**"
   ]
  },
  {
   "cell_type": "code",
   "execution_count": 87,
   "id": "a05800ca",
   "metadata": {},
   "outputs": [
    {
     "name": "stdout",
     "output_type": "stream",
     "text": [
      "Test set accuracy: 0.885\n",
      "              precision    recall  f1-score   support\n",
      "\n",
      "           0       0.88      0.89      0.88      4939\n",
      "           1       0.89      0.88      0.88      4978\n",
      "\n",
      "    accuracy                           0.88      9917\n",
      "   macro avg       0.88      0.88      0.88      9917\n",
      "weighted avg       0.88      0.88      0.88      9917\n",
      "\n"
     ]
    }
   ],
   "source": [
    "from sklearn.naive_bayes import MultinomialNB\n",
    "\n",
    "# Train the model on the n-grams\n",
    "clf = MultinomialNB()\n",
    "clf.fit(X_train_ngrams, y_train_ngrams)\n",
    "\n",
    "# Evaluate the model on the test set\n",
    "y_test_pred = clf.predict(X_test_ngrams)\n",
    "accuracy = clf.score(X_test_ngrams, y_test_ngrams)\n",
    "print(f\"Test set accuracy: {accuracy:.3f}\")\n",
    "\n",
    "from sklearn.metrics import accuracy_score, classification_report\n",
    "\n",
    "print(classification_report(y_test_ngrams, y_test_pred))"
   ]
  },
  {
   "cell_type": "markdown",
   "id": "4b8dc344",
   "metadata": {},
   "source": [
    "**Random Forest Classifier**"
   ]
  },
  {
   "cell_type": "code",
   "execution_count": null,
   "id": "75fb7430",
   "metadata": {},
   "outputs": [],
   "source": [
    "from sklearn.ensemble import RandomForestClassifier\n",
    "\n",
    "# Train the model on the n-grams\n",
    "clf = RandomForestClassifier()\n",
    "clf.fit(X_train_ngrams, y_train_ngrams)\n",
    "\n",
    "# Evaluate the model on the test set\n",
    "y_test_pred = clf.predict(X_test_ngrams)\n",
    "accuracy = clf.score(X_test_ngrams, y_test_ngrams)\n",
    "print(f\"Test set accuracy: {accuracy:.3f}\")\n",
    "\n",
    "from sklearn.metrics import accuracy_score, classification_report\n",
    "\n",
    "print(classification_report(y_test_ngrams, y_test_pred))"
   ]
  },
  {
   "cell_type": "markdown",
   "id": "483b67c7",
   "metadata": {},
   "source": [
    "**Decision Tree Classifier**"
   ]
  },
  {
   "cell_type": "code",
   "execution_count": null,
   "id": "c8501d98",
   "metadata": {},
   "outputs": [],
   "source": [
    "from sklearn.tree import DecisionTreeClassifier\n",
    "\n",
    "# Train the model on the n-grams\n",
    "clf = DecisionTreeClassifier()\n",
    "clf.fit(X_train_ngrams, y_train_ngrams)\n",
    "\n",
    "# Evaluate the model on the test set\n",
    "y_test_pred = clf.predict(X_test_ngrams)\n",
    "accuracy = clf.score(X_test_ngrams, y_test_ngrams)\n",
    "print(f\"Test set accuracy: {accuracy:.3f}\")\n",
    "\n",
    "from sklearn.metrics import accuracy_score, classification_report\n",
    "\n",
    "print(classification_report(y_test_ngrams, y_test_pred))"
   ]
  },
  {
   "cell_type": "markdown",
   "id": "82c5ed1e",
   "metadata": {},
   "source": [
    "**Gradient Boosting Classifier**"
   ]
  },
  {
   "cell_type": "code",
   "execution_count": null,
   "id": "2aefe1a1",
   "metadata": {},
   "outputs": [],
   "source": [
    "from sklearn.ensemble import GradientBoostingClassifier\n",
    "\n",
    "# Train the model on the n-grams\n",
    "clf = GradientBoostingClassifier()\n",
    "clf.fit(X_train_ngrams, y_train_ngrams)\n",
    "\n",
    "# Evaluate the model on the test set\n",
    "y_test_pred = clf.predict(X_test_ngrams)\n",
    "accuracy = clf.score(X_test_ngrams, y_test_ngrams)\n",
    "print(f\"Test set accuracy: {accuracy:.3f}\")\n",
    "\n",
    "from sklearn.metrics import accuracy_score, classification_report\n",
    "\n",
    "print(classification_report(y_test_ngrams, y_test_pred))"
   ]
  },
  {
   "cell_type": "markdown",
   "id": "ff5b4bb3",
   "metadata": {},
   "source": [
    "**AdaBoost Classifier**"
   ]
  },
  {
   "cell_type": "code",
   "execution_count": null,
   "id": "1d2323df",
   "metadata": {},
   "outputs": [],
   "source": [
    "from sklearn.ensemble import AdaBoostClassifier\n",
    "\n",
    "# Train the model on the n-grams\n",
    "clf = AdaBoostClassifier()\n",
    "clf.fit(X_train_ngrams, y_train_ngrams)\n",
    "\n",
    "# Evaluate the model on the test set\n",
    "y_test_pred = clf.predict(X_test_ngrams)\n",
    "accuracy = clf.score(X_test_ngrams, y_test_ngrams)\n",
    "print(f\"Test set accuracy: {accuracy:.3f}\")\n",
    "\n",
    "from sklearn.metrics import accuracy_score, classification_report\n",
    "\n",
    "print(classification_report(y_test_ngrams, y_test_pred))"
   ]
  },
  {
   "cell_type": "markdown",
   "id": "e17e92c3",
   "metadata": {},
   "source": [
    "**XGBoost Classifier**"
   ]
  },
  {
   "cell_type": "code",
   "execution_count": null,
   "id": "86d68c7b",
   "metadata": {},
   "outputs": [],
   "source": [
    "\n",
    "import xgboost as xgb\n",
    "\n",
    "# Train the model on the n-grams\n",
    "clf = xgb.XGBClassifier()\n",
    "clf.fit(X_train_ngrams, y_train_ngrams)\n",
    "\n",
    "# Evaluate the model on the test set\n",
    "y_test_pred = clf.predict(X_test_ngrams)\n",
    "accuracy = clf.score(X_test_ngrams, y_test_ngrams)\n",
    "print(f\"Test set accuracy: {accuracy:.3f}\")\n",
    "\n",
    "from sklearn.metrics import accuracy_score, classification_report\n",
    "\n",
    "print(classification_report(y_test_ngrams, y_test_pred))"
   ]
  },
  {
   "cell_type": "code",
   "execution_count": null,
   "id": "9fe2d9d0",
   "metadata": {},
   "outputs": [],
   "source": []
  },
  {
   "cell_type": "code",
   "execution_count": null,
   "id": "bf0232bf",
   "metadata": {},
   "outputs": [],
   "source": []
  },
  {
   "cell_type": "code",
   "execution_count": null,
   "id": "625a4775",
   "metadata": {},
   "outputs": [],
   "source": []
  },
  {
   "cell_type": "markdown",
   "id": "4f5ac112",
   "metadata": {},
   "source": [
    "**Latent Space**\n",
    "\n",
    "A latent space, also known as a latent feature space or embedding space, is an embedding of a set of items within a manifold in which items which resemble each other more closely are positioned closer to one another in the latent space.\n",
    "\n",
    "**Word Embeddings (Word Vectors)**\n",
    "\n",
    "In natural language processing (NLP), word embedding is a term used for the representation of words for text analysis, typically in the form of a real-valued vector that encodes the meaning of the word such that the words that are closer in the vector space are expected to be similar in meaning. Word embeddings can be obtained using a set of language modeling and feature learning techniques where words or phrases from the vocabulary are mapped to vectors of real numbers.\n",
    "\n",
    "Methods to generate this mapping include neural networks, dimensionality reduction on the word co-occurrence matrix, probabilistic models, explainable knowledge base method, and explicit representation in terms of the context in which words appear.\n",
    "\n",
    "Traditionally, one of the main limitations of word embeddings (word vector space models in general) is that words with multiple meanings are conflated into a single representation (a single vector in the semantic space). In other words, polysemy and homonymy are not handled properly.\n",
    "\n",
    "Word2Vec\n",
    "\"You shall know the word by the company it keeps.\" by JR Firth\n",
    "\n",
    "Distributional Semantics (i.e. a word is characterized by the company it keeps)\n",
    "W2v works well because there is an idea of meaning distribution in the context.\n",
    "\n",
    "Algorithms to generate Word2Vec Embeddings\n",
    "\n",
    "SkipGram\n",
    "Continuous Bag of Words\n",
    "Issue\n",
    "Even if the word is having three different meaning, W2v will return the weighted average of all three as the output. Now the question is,\n",
    "\n",
    "Is it possible to segregate the three vectors to represent the words based in the context?\n",
    "Is it possible to disambiguate the word vectors based on the context?\n",
    "Word2Vec is not capturing the contextual information. This is where BERT comes handy."
   ]
  },
  {
   "cell_type": "code",
   "execution_count": 71,
   "id": "fbc12e7f",
   "metadata": {},
   "outputs": [
    {
     "name": "stdout",
     "output_type": "stream",
     "text": [
      "Requirement already satisfied: gensim in c:\\users\\ideapad\\anaconda3\\lib\\site-packages (4.3.0)\n",
      "Collecting gensim\n",
      "  Downloading gensim-4.3.1-cp310-cp310-win_amd64.whl (24.0 MB)\n",
      "     ---------------------------------------- 24.0/24.0 MB 4.2 MB/s eta 0:00:00\n",
      "Requirement already satisfied: numpy>=1.18.5 in c:\\users\\ideapad\\anaconda3\\lib\\site-packages (from gensim) (1.23.5)\n",
      "Requirement already satisfied: smart-open>=1.8.1 in c:\\users\\ideapad\\anaconda3\\lib\\site-packages (from gensim) (5.2.1)\n",
      "Requirement already satisfied: scipy>=1.7.0 in c:\\users\\ideapad\\anaconda3\\lib\\site-packages (from gensim) (1.10.0)\n",
      "Installing collected packages: gensim\n",
      "  Attempting uninstall: gensim\n",
      "    Found existing installation: gensim 4.3.0\n",
      "    Uninstalling gensim-4.3.0:\n",
      "      Successfully uninstalled gensim-4.3.0\n",
      "Successfully installed gensim-4.3.1\n",
      "Note: you may need to restart the kernel to use updated packages.\n"
     ]
    }
   ],
   "source": [
    "pip install --upgrade gensim"
   ]
  },
  {
   "cell_type": "code",
   "execution_count": 153,
   "id": "16940521",
   "metadata": {},
   "outputs": [
    {
     "name": "stdout",
     "output_type": "stream",
     "text": [
      "gensim version :  4.3.1\n"
     ]
    }
   ],
   "source": [
    "import gensim\n",
    "\n",
    "print(\"gensim version : \", gensim.__version__)"
   ]
  },
  {
   "cell_type": "code",
   "execution_count": 60,
   "id": "631bf351",
   "metadata": {},
   "outputs": [],
   "source": [
    "from gensim.models import Word2Vec"
   ]
  },
  {
   "cell_type": "code",
   "execution_count": 61,
   "id": "6b5e4052",
   "metadata": {},
   "outputs": [],
   "source": [
    "df['tokenised_sentences'] = df.review.apply(lambda x : x.split())"
   ]
  },
  {
   "cell_type": "code",
   "execution_count": 62,
   "id": "ce201dba",
   "metadata": {},
   "outputs": [],
   "source": [
    "# train model\n",
    "\n",
    "model = Word2Vec(list(df.tokenised_sentences), vector_size=100, min_count=1)"
   ]
  },
  {
   "cell_type": "code",
   "execution_count": 63,
   "id": "104dfa6d",
   "metadata": {},
   "outputs": [
    {
     "name": "stdout",
     "output_type": "stream",
     "text": [
      "Word2Vec<vocab=203586, vector_size=100, alpha=0.025>\n"
     ]
    }
   ],
   "source": [
    "print(model)"
   ]
  },
  {
   "cell_type": "code",
   "execution_count": 64,
   "id": "c69f23b5",
   "metadata": {},
   "outputs": [
    {
     "data": {
      "text/plain": [
       "49582"
      ]
     },
     "execution_count": 64,
     "metadata": {},
     "output_type": "execute_result"
    }
   ],
   "source": [
    "# Total Documents\n",
    "\n",
    "model.corpus_count"
   ]
  },
  {
   "cell_type": "code",
   "execution_count": 65,
   "id": "3056e02e",
   "metadata": {},
   "outputs": [
    {
     "name": "stdout",
     "output_type": "stream",
     "text": [
      "[-0.26207083  0.7223034  -0.01432159 -0.50564283 -0.35594425 -0.553433\n",
      "  0.21808168  0.84362996 -0.5382072  -0.6066464  -0.07808664 -0.3173889\n",
      "  0.1931239  -0.04034117  0.21059242 -0.4110812   0.29875034 -0.6322992\n",
      " -0.2702785  -0.30932644  0.02614106 -0.01208641  0.507076   -0.26182258\n",
      " -0.5367741   0.34802997  0.1251767  -0.45231742 -0.13653734  0.33049774\n",
      "  0.43048614 -0.04450234  0.02773081  0.02596193 -0.03257094  0.48451364\n",
      "  0.5468732   0.39476764 -0.14968957 -0.27230453  0.13983625 -0.01988788\n",
      "  0.0461325   0.08418711  0.30990615 -0.47561106 -0.37876514 -0.01386426\n",
      " -0.14856163 -0.1168834  -0.11509139 -0.5064927  -0.13584884  0.04501256\n",
      " -0.42963067  0.4183924   0.40514877 -0.01690827  0.08214913 -0.0423041\n",
      " -0.05339326  0.269902   -0.11362849 -0.41674963  0.05627399  0.19315228\n",
      " -0.01416448  0.36881173 -0.38916174 -0.30462298  0.24152151  0.33337158\n",
      "  0.44847116  0.08208382  0.1315218   0.45530093 -0.05304606  0.3324164\n",
      " -0.5306401   0.06659745 -0.28154793  0.30370933 -0.18753387  0.22257018\n",
      "  0.20405781  0.10126714 -0.220362    0.26046458 -0.22172004  0.4840202\n",
      "  0.7323584   0.24825633 -0.43460074  0.12964106  0.64076394  0.32971984\n",
      " -0.00176534 -0.5561114   0.2303855   0.16705929]\n",
      "(100,)\n"
     ]
    }
   ],
   "source": [
    "# access the 100 dimensional vector for one of the words\n",
    "\n",
    "print(model.wv.__getitem__('foolish'))\n",
    "\n",
    "print(model.wv.__getitem__('foolish').shape)"
   ]
  },
  {
   "cell_type": "code",
   "execution_count": 67,
   "id": "df257a03",
   "metadata": {},
   "outputs": [
    {
     "name": "stdout",
     "output_type": "stream",
     "text": [
      "[[ 1.8362365e+00 -1.1548115e+00 -5.6796622e-01 ... -6.4830616e-02\n",
      "   3.8143861e-01 -7.7012092e-01]\n",
      " [ 1.0719911e+00 -7.4609637e-01  1.7836919e-01 ...  8.1568038e-01\n",
      "  -8.5344422e-01 -3.7824184e-01]\n",
      " [ 1.9048986e+00  3.2454956e-01 -1.9198608e-01 ...  2.1799347e+00\n",
      "   9.3147659e-01 -8.2617128e-01]\n",
      " ...\n",
      " [ 1.1033059e-02  1.9939778e-02 -2.2497594e-03 ...  2.3545222e-03\n",
      "  -3.0235504e-04  1.2652064e-03]\n",
      " [-1.9600246e-02  1.1683275e-02  1.9828521e-02 ...  2.3179364e-03\n",
      "  -1.7069021e-02  2.7690077e-02]\n",
      " [-1.0943047e-02  2.0388147e-02  1.3369661e-02 ... -2.5068441e-02\n",
      "  -6.5760263e-03  1.2705567e-02]]\n"
     ]
    }
   ],
   "source": [
    "# Access the 100D vectors for all 6 words\n",
    "\n",
    "print(model.wv.__getitem__(model.wv.index_to_key))"
   ]
  },
  {
   "cell_type": "code",
   "execution_count": 68,
   "id": "c639c155",
   "metadata": {},
   "outputs": [],
   "source": [
    "# train word2vec model\n",
    "sentences = [text.split() for text in df['GRAMS'].tolist()]\n",
    "model = Word2Vec(sentences, vector_size=300, window=5, min_count=1, workers=4)\n",
    "\n",
    "\n",
    "# create document vectors\n",
    "def get_doc_vector(tokens):\n",
    "    vectors = []\n",
    "    for token in tokens:\n",
    "        if token in model.wv:\n",
    "            vectors.append(model.wv[token])\n",
    "    if len(vectors) > 0:\n",
    "        return np.mean(vectors, axis=0)\n",
    "    else:\n",
    "        return np.zeros(model.vector_size)\n",
    "\n",
    "df['doc_vector_w2v'] = df['GRAMS'].apply(lambda x: get_doc_vector(x.split()))\n",
    "\n",
    "# convert document vectors to numpy array\n",
    "vectors = np.stack(df['doc_vector_w2v'].values)\n",
    "vectors = vectors.astype(np.float64)"
   ]
  },
  {
   "cell_type": "code",
   "execution_count": 69,
   "id": "28de86ea",
   "metadata": {},
   "outputs": [
    {
     "data": {
      "text/html": [
       "<div>\n",
       "<style scoped>\n",
       "    .dataframe tbody tr th:only-of-type {\n",
       "        vertical-align: middle;\n",
       "    }\n",
       "\n",
       "    .dataframe tbody tr th {\n",
       "        vertical-align: top;\n",
       "    }\n",
       "\n",
       "    .dataframe thead th {\n",
       "        text-align: right;\n",
       "    }\n",
       "</style>\n",
       "<table border=\"1\" class=\"dataframe\">\n",
       "  <thead>\n",
       "    <tr style=\"text-align: right;\">\n",
       "      <th></th>\n",
       "      <th>review</th>\n",
       "      <th>sentiment</th>\n",
       "      <th>clean_text</th>\n",
       "      <th>GRAMS</th>\n",
       "      <th>tokenised_sentences</th>\n",
       "      <th>doc_vector_w2v</th>\n",
       "    </tr>\n",
       "  </thead>\n",
       "  <tbody>\n",
       "    <tr>\n",
       "      <th>0</th>\n",
       "      <td>one reviewer mentioned watching oz episode you...</td>\n",
       "      <td>1</td>\n",
       "      <td>one reviewer mentioned watching oz episode you...</td>\n",
       "      <td>one reviewer mentioned watching oz episode you...</td>\n",
       "      <td>[one, reviewer, mentioned, watching, oz, episo...</td>\n",
       "      <td>[0.048915178, 0.47394133, -0.024953146, 0.0335...</td>\n",
       "    </tr>\n",
       "    <tr>\n",
       "      <th>1</th>\n",
       "      <td>wonderful little production filming technique ...</td>\n",
       "      <td>1</td>\n",
       "      <td>wonderful little production filming technique ...</td>\n",
       "      <td>wonderful little production filming technique ...</td>\n",
       "      <td>[wonderful, little, production, filming, techn...</td>\n",
       "      <td>[-0.2685939, 0.27007356, -0.09775053, 0.128432...</td>\n",
       "    </tr>\n",
       "    <tr>\n",
       "      <th>2</th>\n",
       "      <td>thought wonderful way spend time hot summer we...</td>\n",
       "      <td>1</td>\n",
       "      <td>thought wonderful way spend time hot summer we...</td>\n",
       "      <td>thought wonderful way spend time hot summer we...</td>\n",
       "      <td>[thought, wonderful, way, spend, time, hot, su...</td>\n",
       "      <td>[-0.11369068, 0.2901203, 0.17621964, 0.1237306...</td>\n",
       "    </tr>\n",
       "    <tr>\n",
       "      <th>3</th>\n",
       "      <td>basically there family little boy jake think t...</td>\n",
       "      <td>0</td>\n",
       "      <td>basically there family little boy jake think t...</td>\n",
       "      <td>basically there family little boy jake think t...</td>\n",
       "      <td>[basically, there, family, little, boy, jake, ...</td>\n",
       "      <td>[-0.11817372, 0.6315114, 0.04626782, 0.1566619...</td>\n",
       "    </tr>\n",
       "    <tr>\n",
       "      <th>4</th>\n",
       "      <td>petter matteis love time money visually stunni...</td>\n",
       "      <td>1</td>\n",
       "      <td>petter matteis love time money visually stunni...</td>\n",
       "      <td>petter matteis love time money visually stunni...</td>\n",
       "      <td>[petter, matteis, love, time, money, visually,...</td>\n",
       "      <td>[0.0009595299, 0.3264597, 0.2392574, 0.2339540...</td>\n",
       "    </tr>\n",
       "  </tbody>\n",
       "</table>\n",
       "</div>"
      ],
      "text/plain": [
       "                                              review  sentiment  \\\n",
       "0  one reviewer mentioned watching oz episode you...          1   \n",
       "1  wonderful little production filming technique ...          1   \n",
       "2  thought wonderful way spend time hot summer we...          1   \n",
       "3  basically there family little boy jake think t...          0   \n",
       "4  petter matteis love time money visually stunni...          1   \n",
       "\n",
       "                                          clean_text  \\\n",
       "0  one reviewer mentioned watching oz episode you...   \n",
       "1  wonderful little production filming technique ...   \n",
       "2  thought wonderful way spend time hot summer we...   \n",
       "3  basically there family little boy jake think t...   \n",
       "4  petter matteis love time money visually stunni...   \n",
       "\n",
       "                                               GRAMS  \\\n",
       "0  one reviewer mentioned watching oz episode you...   \n",
       "1  wonderful little production filming technique ...   \n",
       "2  thought wonderful way spend time hot summer we...   \n",
       "3  basically there family little boy jake think t...   \n",
       "4  petter matteis love time money visually stunni...   \n",
       "\n",
       "                                 tokenised_sentences  \\\n",
       "0  [one, reviewer, mentioned, watching, oz, episo...   \n",
       "1  [wonderful, little, production, filming, techn...   \n",
       "2  [thought, wonderful, way, spend, time, hot, su...   \n",
       "3  [basically, there, family, little, boy, jake, ...   \n",
       "4  [petter, matteis, love, time, money, visually,...   \n",
       "\n",
       "                                      doc_vector_w2v  \n",
       "0  [0.048915178, 0.47394133, -0.024953146, 0.0335...  \n",
       "1  [-0.2685939, 0.27007356, -0.09775053, 0.128432...  \n",
       "2  [-0.11369068, 0.2901203, 0.17621964, 0.1237306...  \n",
       "3  [-0.11817372, 0.6315114, 0.04626782, 0.1566619...  \n",
       "4  [0.0009595299, 0.3264597, 0.2392574, 0.2339540...  "
      ]
     },
     "execution_count": 69,
     "metadata": {},
     "output_type": "execute_result"
    }
   ],
   "source": [
    "df.head()"
   ]
  },
  {
   "cell_type": "markdown",
   "id": "4fdef272",
   "metadata": {},
   "source": [
    "**Train Test Split**"
   ]
  },
  {
   "cell_type": "code",
   "execution_count": 70,
   "id": "23f54833",
   "metadata": {},
   "outputs": [],
   "source": [
    "X_train, X_test, y_train, y_test = train_test_split(vectors, df['sentiment'], test_size=0.2, random_state=42)"
   ]
  },
  {
   "cell_type": "markdown",
   "id": "6b8733d0",
   "metadata": {},
   "source": [
    "**Logistic Regression**"
   ]
  },
  {
   "cell_type": "code",
   "execution_count": 73,
   "id": "f392f50c",
   "metadata": {},
   "outputs": [
    {
     "name": "stdout",
     "output_type": "stream",
     "text": [
      "Accuracy: 0.8630634264394474\n",
      "              precision    recall  f1-score   support\n",
      "\n",
      "           0       0.87      0.86      0.86      4939\n",
      "           1       0.86      0.87      0.86      4978\n",
      "\n",
      "    accuracy                           0.86      9917\n",
      "   macro avg       0.86      0.86      0.86      9917\n",
      "weighted avg       0.86      0.86      0.86      9917\n",
      "\n"
     ]
    },
    {
     "name": "stderr",
     "output_type": "stream",
     "text": [
      "C:\\Users\\ideapad\\anaconda3\\lib\\site-packages\\sklearn\\linear_model\\_logistic.py:458: ConvergenceWarning: lbfgs failed to converge (status=1):\n",
      "STOP: TOTAL NO. of ITERATIONS REACHED LIMIT.\n",
      "\n",
      "Increase the number of iterations (max_iter) or scale the data as shown in:\n",
      "    https://scikit-learn.org/stable/modules/preprocessing.html\n",
      "Please also refer to the documentation for alternative solver options:\n",
      "    https://scikit-learn.org/stable/modules/linear_model.html#logistic-regression\n",
      "  n_iter_i = _check_optimize_result(\n"
     ]
    }
   ],
   "source": [
    "\n",
    "\n",
    "from sklearn.linear_model import LogisticRegression\n",
    "from sklearn.metrics import accuracy_score\n",
    "\n",
    "clf = LogisticRegression(random_state=42).fit(X_train, y_train)\n",
    "y_pred = clf.predict(X_test)\n",
    "\n",
    "# evaluate classifier\n",
    "accuracy = accuracy_score(y_test, y_pred)\n",
    "print('Accuracy:', accuracy)\n",
    "print(classification_report(y_test, y_pred))"
   ]
  },
  {
   "cell_type": "markdown",
   "id": "1947e949",
   "metadata": {},
   "source": [
    "**BernoulliNB (Naive Bayes)**"
   ]
  },
  {
   "cell_type": "code",
   "execution_count": 85,
   "id": "67386e7d",
   "metadata": {},
   "outputs": [
    {
     "name": "stdout",
     "output_type": "stream",
     "text": [
      "Accuracy: 0.7427649490773419\n",
      "              precision    recall  f1-score   support\n",
      "\n",
      "           0       0.73      0.78      0.75      4939\n",
      "           1       0.76      0.71      0.74      4978\n",
      "\n",
      "    accuracy                           0.74      9917\n",
      "   macro avg       0.74      0.74      0.74      9917\n",
      "weighted avg       0.74      0.74      0.74      9917\n",
      "\n"
     ]
    }
   ],
   "source": [
    "X_train, X_test, y_train, y_test = train_test_split(vectors, df['sentiment'], test_size=0.2, random_state=42)\n",
    "\n",
    "\n",
    "from sklearn.naive_bayes import BernoulliNB\n",
    "\n",
    "clf = BernoulliNB().fit(X_train, y_train)\n",
    "y_pred = clf.predict(X_test)\n",
    "\n",
    "# evaluate classifier\n",
    "accuracy = accuracy_score(y_test, y_pred)\n",
    "print('Accuracy:', accuracy)\n",
    "print(classification_report(y_test, y_pred))"
   ]
  },
  {
   "cell_type": "code",
   "execution_count": null,
   "id": "383831c3",
   "metadata": {},
   "outputs": [],
   "source": []
  },
  {
   "cell_type": "code",
   "execution_count": null,
   "id": "362edb5c",
   "metadata": {},
   "outputs": [],
   "source": []
  },
  {
   "cell_type": "code",
   "execution_count": null,
   "id": "ad2e5d9a",
   "metadata": {},
   "outputs": [],
   "source": []
  },
  {
   "cell_type": "code",
   "execution_count": null,
   "id": "ac800cb6",
   "metadata": {},
   "outputs": [],
   "source": []
  },
  {
   "cell_type": "code",
   "execution_count": null,
   "id": "f6f65b34",
   "metadata": {},
   "outputs": [],
   "source": []
  },
  {
   "cell_type": "code",
   "execution_count": null,
   "id": "8b537f32",
   "metadata": {},
   "outputs": [],
   "source": []
  },
  {
   "cell_type": "markdown",
   "id": "cb380cbf",
   "metadata": {},
   "source": [
    "**Deep Learning**\n",
    "\n",
    "\n",
    "\n",
    "Deep learning is a subset of machine learning that is based on artificial neural networks that simulate the way the human brain works. It involves training a model on a large dataset to learn complex representations of data, with the aim of achieving high accuracy on a given task, such as image or speech recognition, natural language processing, and decision making. Deep learning models typically have multiple layers of artificial neurons, which are trained using backpropagation to adjust the weights and biases in order to minimize the error between the predicted output and the actual output. The main advantage of deep learning is its ability to automatically extract features from raw data, making it possible to solve a wide range of complex problems with high accuracy."
   ]
  },
  {
   "cell_type": "code",
   "execution_count": null,
   "id": "7aa710d6",
   "metadata": {},
   "outputs": [],
   "source": [
    "df.head()"
   ]
  },
  {
   "cell_type": "markdown",
   "id": "50c86aa5",
   "metadata": {},
   "source": [
    "**An Artificial Neural Network (ANN)**\n",
    "\n",
    "\n",
    "An Artificial Neural Network (ANN) classifier is a type of machine learning model that learns to map input data to output classes by training on a set of labeled examples. It consists of multiple layers of interconnected nodes (neurons), each performing a linear or nonlinear operation on its input and passing the result to the next layer. The first layer receives the input data, and the final layer produces the output class predictions. During training, the model adjusts the weights of the connections between the neurons to minimize the difference between its predictions and the true labels of the training examples. ANN classifiers are widely used for tasks such as image classification, natural language processing, and speech recognition."
   ]
  },
  {
   "cell_type": "code",
   "execution_count": 160,
   "id": "7ac060b4",
   "metadata": {},
   "outputs": [
    {
     "name": "stdout",
     "output_type": "stream",
     "text": [
      "Epoch 1/10\n",
      "1240/1240 [==============================] - 6s 4ms/step - loss: 0.4288 - accuracy: 0.8279 - val_loss: 0.2862 - val_accuracy: 0.8827\n",
      "Epoch 2/10\n",
      "1240/1240 [==============================] - 5s 4ms/step - loss: 0.2423 - accuracy: 0.9043 - val_loss: 0.2721 - val_accuracy: 0.8913\n",
      "Epoch 3/10\n",
      "1240/1240 [==============================] - 5s 4ms/step - loss: 0.2052 - accuracy: 0.9215 - val_loss: 0.2758 - val_accuracy: 0.8918\n",
      "Epoch 4/10\n",
      "1240/1240 [==============================] - 5s 4ms/step - loss: 0.1843 - accuracy: 0.9310 - val_loss: 0.2899 - val_accuracy: 0.8902\n",
      "Epoch 5/10\n",
      "1240/1240 [==============================] - 5s 4ms/step - loss: 0.1673 - accuracy: 0.9387 - val_loss: 0.3059 - val_accuracy: 0.8850\n",
      "Epoch 6/10\n",
      "1240/1240 [==============================] - 5s 4ms/step - loss: 0.1550 - accuracy: 0.9433 - val_loss: 0.3196 - val_accuracy: 0.8847\n",
      "Epoch 7/10\n",
      "1240/1240 [==============================] - 5s 4ms/step - loss: 0.1452 - accuracy: 0.9475 - val_loss: 0.3428 - val_accuracy: 0.8794\n",
      "Epoch 8/10\n",
      "1240/1240 [==============================] - 5s 4ms/step - loss: 0.1368 - accuracy: 0.9518 - val_loss: 0.3554 - val_accuracy: 0.8794\n",
      "Epoch 9/10\n",
      "1240/1240 [==============================] - 5s 4ms/step - loss: 0.1291 - accuracy: 0.9554 - val_loss: 0.3742 - val_accuracy: 0.8756\n",
      "Epoch 10/10\n",
      "1240/1240 [==============================] - 5s 4ms/step - loss: 0.1218 - accuracy: 0.9577 - val_loss: 0.3909 - val_accuracy: 0.8726\n",
      "1/1 [==============================] - 0s 57ms/step\n"
     ]
    }
   ],
   "source": [
    "import tensorflow as tf\n",
    "from tensorflow import keras\n",
    "from tensorflow.keras.layers import Embedding, Dense, GlobalAveragePooling1D\n",
    "\n",
    "# Convert the tokenized text data to sequences of integers\n",
    "\n",
    "tokenizer = keras.preprocessing.text.Tokenizer(num_words=10000)\n",
    "tokenizer.fit_on_texts(df['GRAMS'])\n",
    "sequences = tokenizer.texts_to_sequences(df['GRAMS'])\n",
    "\n",
    "# Pad sequences to have same length\n",
    "\n",
    "padded_sequences = keras.preprocessing.sequence.pad_sequences(sequences, maxlen=200)\n",
    "\n",
    "# Convert target labels to binary format\n",
    "\n",
    "targets = np.array(df['sentiment'])\n",
    "targets = np.where(targets==1, 1, 0)\n",
    "\n",
    "# Define the model architecture\n",
    "\n",
    "model = keras.Sequential([\n",
    "    Embedding(10000, 16, input_length=200),\n",
    "    GlobalAveragePooling1D(),\n",
    "    Dense(16, activation='relu'),\n",
    "    Dense(1, activation='sigmoid')\n",
    "])\n",
    "\n",
    "# Compile the model\n",
    "\n",
    "model.compile(optimizer='adam', loss='binary_crossentropy', metrics=['accuracy'])\n",
    "\n",
    "# Train the model\n",
    "\n",
    "model.fit(padded_sequences, targets, epochs=10, validation_split=0.2)\n",
    "\n",
    "# Evaluate the model on test data\n",
    "\n",
    "test_sequences = tokenizer.texts_to_sequences(['your test data goes here'])\n",
    "padded_test_sequences = keras.preprocessing.sequence.pad_sequences(test_sequences, maxlen=200)\n",
    "predictions = model.predict(padded_test_sequences)"
   ]
  },
  {
   "cell_type": "code",
   "execution_count": 159,
   "id": "12f6216c",
   "metadata": {},
   "outputs": [
    {
     "name": "stdout",
     "output_type": "stream",
     "text": [
      "Collecting tensorflow\n",
      "  Downloading tensorflow-2.12.0-cp310-cp310-win_amd64.whl (1.9 kB)\n",
      "Collecting tensorflow-intel==2.12.0\n",
      "  Downloading tensorflow_intel-2.12.0-cp310-cp310-win_amd64.whl (272.8 MB)\n",
      "     -------------------------------------- 272.8/272.8 MB 2.0 MB/s eta 0:00:00\n",
      "Collecting google-pasta>=0.1.1\n",
      "  Downloading google_pasta-0.2.0-py3-none-any.whl (57 kB)\n",
      "     ---------------------------------------- 57.5/57.5 kB 3.1 MB/s eta 0:00:00\n",
      "Collecting grpcio<2.0,>=1.24.3\n",
      "  Downloading grpcio-1.54.2-cp310-cp310-win_amd64.whl (4.1 MB)\n",
      "     ---------------------------------------- 4.1/4.1 MB 2.4 MB/s eta 0:00:00\n",
      "Requirement already satisfied: wrapt<1.15,>=1.11.0 in c:\\users\\ideapad\\anaconda3\\lib\\site-packages (from tensorflow-intel==2.12.0->tensorflow) (1.14.1)\n",
      "Collecting tensorboard<2.13,>=2.12\n",
      "  Downloading tensorboard-2.12.3-py3-none-any.whl (5.6 MB)\n",
      "     ---------------------------------------- 5.6/5.6 MB 1.5 MB/s eta 0:00:00\n",
      "Requirement already satisfied: h5py>=2.9.0 in c:\\users\\ideapad\\anaconda3\\lib\\site-packages (from tensorflow-intel==2.12.0->tensorflow) (3.7.0)\n",
      "Requirement already satisfied: packaging in c:\\users\\ideapad\\anaconda3\\lib\\site-packages (from tensorflow-intel==2.12.0->tensorflow) (22.0)\n",
      "Collecting termcolor>=1.1.0\n",
      "  Downloading termcolor-2.3.0-py3-none-any.whl (6.9 kB)\n",
      "Collecting flatbuffers>=2.0\n",
      "  Downloading flatbuffers-23.5.9-py2.py3-none-any.whl (26 kB)\n",
      "Collecting tensorflow-io-gcs-filesystem>=0.23.1\n",
      "  Downloading tensorflow_io_gcs_filesystem-0.31.0-cp310-cp310-win_amd64.whl (1.5 MB)\n",
      "     ---------------------------------------- 1.5/1.5 MB 2.4 MB/s eta 0:00:00\n",
      "Requirement already satisfied: typing-extensions>=3.6.6 in c:\\users\\ideapad\\anaconda3\\lib\\site-packages (from tensorflow-intel==2.12.0->tensorflow) (4.4.0)\n",
      "Requirement already satisfied: setuptools in c:\\users\\ideapad\\anaconda3\\lib\\site-packages (from tensorflow-intel==2.12.0->tensorflow) (65.6.3)\n",
      "Collecting keras<2.13,>=2.12.0\n",
      "  Downloading keras-2.12.0-py2.py3-none-any.whl (1.7 MB)\n",
      "     ---------------------------------------- 1.7/1.7 MB 2.3 MB/s eta 0:00:00\n",
      "Collecting tensorflow-estimator<2.13,>=2.12.0\n",
      "  Downloading tensorflow_estimator-2.12.0-py2.py3-none-any.whl (440 kB)\n",
      "     -------------------------------------- 440.7/440.7 kB 2.1 MB/s eta 0:00:00\n",
      "Collecting absl-py>=1.0.0\n",
      "  Downloading absl_py-1.4.0-py3-none-any.whl (126 kB)\n",
      "     -------------------------------------- 126.5/126.5 kB 2.5 MB/s eta 0:00:00\n",
      "Collecting jax>=0.3.15\n",
      "  Downloading jax-0.4.10.tar.gz (1.3 MB)\n",
      "     ---------------------------------------- 1.3/1.3 MB 2.5 MB/s eta 0:00:00\n",
      "  Installing build dependencies: started\n",
      "  Installing build dependencies: finished with status 'done'\n",
      "  Getting requirements to build wheel: started\n",
      "  Getting requirements to build wheel: finished with status 'done'\n",
      "  Preparing metadata (pyproject.toml): started\n",
      "  Preparing metadata (pyproject.toml): finished with status 'done'\n",
      "Collecting libclang>=13.0.0\n",
      "  Downloading libclang-16.0.0-py2.py3-none-win_amd64.whl (24.4 MB)\n",
      "     ---------------------------------------- 24.4/24.4 MB 2.1 MB/s eta 0:00:00\n",
      "Collecting astunparse>=1.6.0\n",
      "  Downloading astunparse-1.6.3-py2.py3-none-any.whl (12 kB)\n",
      "Requirement already satisfied: numpy<1.24,>=1.22 in c:\\users\\ideapad\\anaconda3\\lib\\site-packages (from tensorflow-intel==2.12.0->tensorflow) (1.23.5)\n",
      "Collecting opt-einsum>=2.3.2\n",
      "  Downloading opt_einsum-3.3.0-py3-none-any.whl (65 kB)\n",
      "     ---------------------------------------- 65.5/65.5 kB 1.2 MB/s eta 0:00:00\n",
      "Requirement already satisfied: six>=1.12.0 in c:\\users\\ideapad\\anaconda3\\lib\\site-packages (from tensorflow-intel==2.12.0->tensorflow) (1.16.0)\n",
      "Collecting gast<=0.4.0,>=0.2.1\n",
      "  Downloading gast-0.4.0-py3-none-any.whl (9.8 kB)\n",
      "Requirement already satisfied: protobuf!=4.21.0,!=4.21.1,!=4.21.2,!=4.21.3,!=4.21.4,!=4.21.5,<5.0.0dev,>=3.20.3 in c:\\users\\ideapad\\anaconda3\\lib\\site-packages (from tensorflow-intel==2.12.0->tensorflow) (4.22.4)\n",
      "Requirement already satisfied: wheel<1.0,>=0.23.0 in c:\\users\\ideapad\\anaconda3\\lib\\site-packages (from astunparse>=1.6.0->tensorflow-intel==2.12.0->tensorflow) (0.38.4)\n",
      "Collecting ml-dtypes>=0.1.0\n",
      "  Downloading ml_dtypes-0.1.0-cp310-cp310-win_amd64.whl (120 kB)\n",
      "     -------------------------------------- 120.4/120.4 kB 7.3 MB/s eta 0:00:00\n",
      "Requirement already satisfied: scipy>=1.7 in c:\\users\\ideapad\\anaconda3\\lib\\site-packages (from jax>=0.3.15->tensorflow-intel==2.12.0->tensorflow) (1.10.0)\n",
      "Collecting google-auth-oauthlib<1.1,>=0.5\n",
      "  Downloading google_auth_oauthlib-1.0.0-py2.py3-none-any.whl (18 kB)\n",
      "Requirement already satisfied: werkzeug>=1.0.1 in c:\\users\\ideapad\\anaconda3\\lib\\site-packages (from tensorboard<2.13,>=2.12->tensorflow-intel==2.12.0->tensorflow) (2.2.2)\n",
      "Requirement already satisfied: requests<3,>=2.21.0 in c:\\users\\ideapad\\anaconda3\\lib\\site-packages (from tensorboard<2.13,>=2.12->tensorflow-intel==2.12.0->tensorflow) (2.28.1)\n",
      "Collecting tensorboard-data-server<0.8.0,>=0.7.0\n",
      "  Downloading tensorboard_data_server-0.7.0-py3-none-any.whl (2.4 kB)\n",
      "Collecting google-auth<3,>=1.6.3\n",
      "  Downloading google_auth-2.18.0-py2.py3-none-any.whl (178 kB)\n",
      "     -------------------------------------- 178.9/178.9 kB 1.3 MB/s eta 0:00:00\n",
      "Requirement already satisfied: markdown>=2.6.8 in c:\\users\\ideapad\\anaconda3\\lib\\site-packages (from tensorboard<2.13,>=2.12->tensorflow-intel==2.12.0->tensorflow) (3.4.1)\n",
      "Requirement already satisfied: urllib3<2.0 in c:\\users\\ideapad\\anaconda3\\lib\\site-packages (from google-auth<3,>=1.6.3->tensorboard<2.13,>=2.12->tensorflow-intel==2.12.0->tensorflow) (1.26.14)\n",
      "Collecting rsa<5,>=3.1.4\n",
      "  Downloading rsa-4.9-py3-none-any.whl (34 kB)\n",
      "Collecting cachetools<6.0,>=2.0.0\n",
      "  Using cached cachetools-5.3.0-py3-none-any.whl (9.3 kB)\n",
      "Requirement already satisfied: pyasn1-modules>=0.2.1 in c:\\users\\ideapad\\anaconda3\\lib\\site-packages (from google-auth<3,>=1.6.3->tensorboard<2.13,>=2.12->tensorflow-intel==2.12.0->tensorflow) (0.2.8)\n",
      "Collecting requests-oauthlib>=0.7.0\n",
      "  Downloading requests_oauthlib-1.3.1-py2.py3-none-any.whl (23 kB)\n",
      "Requirement already satisfied: certifi>=2017.4.17 in c:\\users\\ideapad\\anaconda3\\lib\\site-packages (from requests<3,>=2.21.0->tensorboard<2.13,>=2.12->tensorflow-intel==2.12.0->tensorflow) (2022.12.7)\n",
      "Requirement already satisfied: charset-normalizer<3,>=2 in c:\\users\\ideapad\\anaconda3\\lib\\site-packages (from requests<3,>=2.21.0->tensorboard<2.13,>=2.12->tensorflow-intel==2.12.0->tensorflow) (2.0.4)\n",
      "Requirement already satisfied: idna<4,>=2.5 in c:\\users\\ideapad\\anaconda3\\lib\\site-packages (from requests<3,>=2.21.0->tensorboard<2.13,>=2.12->tensorflow-intel==2.12.0->tensorflow) (3.4)\n",
      "Requirement already satisfied: MarkupSafe>=2.1.1 in c:\\users\\ideapad\\anaconda3\\lib\\site-packages (from werkzeug>=1.0.1->tensorboard<2.13,>=2.12->tensorflow-intel==2.12.0->tensorflow) (2.1.1)\n",
      "Requirement already satisfied: pyasn1<0.5.0,>=0.4.6 in c:\\users\\ideapad\\anaconda3\\lib\\site-packages (from pyasn1-modules>=0.2.1->google-auth<3,>=1.6.3->tensorboard<2.13,>=2.12->tensorflow-intel==2.12.0->tensorflow) (0.4.8)\n",
      "Requirement already satisfied: oauthlib>=3.0.0 in c:\\users\\ideapad\\anaconda3\\lib\\site-packages (from requests-oauthlib>=0.7.0->google-auth-oauthlib<1.1,>=0.5->tensorboard<2.13,>=2.12->tensorflow-intel==2.12.0->tensorflow) (3.2.2)\n",
      "Building wheels for collected packages: jax\n",
      "  Building wheel for jax (pyproject.toml): started\n",
      "  Building wheel for jax (pyproject.toml): finished with status 'done'\n",
      "  Created wheel for jax: filename=jax-0.4.10-py3-none-any.whl size=1480617 sha256=c6312450c43aadeed571a20df375a5600cc6812678076a7ad6633df8601df1e8\n",
      "  Stored in directory: c:\\users\\ideapad\\appdata\\local\\pip\\cache\\wheels\\f8\\55\\5b\\9dde9a2af48db48d64b8cc3877f0670cf11c5d78de392c3f05\n",
      "Successfully built jax\n",
      "Installing collected packages: libclang, flatbuffers, termcolor, tensorflow-io-gcs-filesystem, tensorflow-estimator, tensorboard-data-server, rsa, opt-einsum, ml-dtypes, keras, grpcio, google-pasta, gast, cachetools, astunparse, absl-py, requests-oauthlib, jax, google-auth, google-auth-oauthlib, tensorboard, tensorflow-intel, tensorflow\n",
      "Successfully installed absl-py-1.4.0 astunparse-1.6.3 cachetools-5.3.0 flatbuffers-23.5.9 gast-0.4.0 google-auth-2.18.0 google-auth-oauthlib-1.0.0 google-pasta-0.2.0 grpcio-1.54.2 jax-0.4.10 keras-2.12.0 libclang-16.0.0 ml-dtypes-0.1.0 opt-einsum-3.3.0 requests-oauthlib-1.3.1 rsa-4.9 tensorboard-2.12.3 tensorboard-data-server-0.7.0 tensorflow-2.12.0 tensorflow-estimator-2.12.0 tensorflow-intel-2.12.0 tensorflow-io-gcs-filesystem-0.31.0 termcolor-2.3.0\n",
      "Note: you may need to restart the kernel to use updated packages.\n"
     ]
    }
   ],
   "source": [
    "pip install tensorflow"
   ]
  },
  {
   "cell_type": "markdown",
   "id": "261debc0",
   "metadata": {},
   "source": [
    "**Recurrent Neural Networks (RNNs)**\n",
    "\n",
    "Recurrent Neural Networks (RNNs) are a type of neural network designed for processing sequential data. They are characterized by having a hidden state that is updated at each time step based on the current input and the previous hidden state. RNNs are capable of processing input sequences of variable length, making them useful for tasks such as language modeling, machine translation, and speech recognition. However, they suffer from the vanishing gradient problem, which can make it difficult to train them on long sequences. To overcome this problem, variants of RNNs such as Long Short-Term Memory (LSTM) and Gated Recurrent Unit (GRU) have been developed, which incorporate additional mechanisms to control the flow of information through the network."
   ]
  },
  {
   "cell_type": "markdown",
   "id": "90e6c053",
   "metadata": {},
   "source": [
    "**LSTM (Long Short-Term Memory)**\n",
    "\n",
    "\n",
    "LSTM (Long Short-Term Memory) is a type of recurrent neural network (RNN) that is designed to avoid the vanishing gradient problem. LSTMs are used for modeling sequential data such as time series, speech, and text. LSTMs have a unique memory cell that can maintain information over long periods of time, and they use gates to control the flow of information into and out of the cell. These gates allow the LSTM to selectively forget or remember information from previous time steps, and they also allow the LSTM to add new information to the memory cell. LSTMs have shown to be effective for a wide range of tasks, including language modeling, machine translation, speech recognition, and image captioning."
   ]
  },
  {
   "cell_type": "code",
   "execution_count": 161,
   "id": "1e1c587c",
   "metadata": {},
   "outputs": [
    {
     "name": "stdout",
     "output_type": "stream",
     "text": [
      "Epoch 1/10\n",
      "1240/1240 [==============================] - 127s 102ms/step - loss: 0.3548 - accuracy: 0.8404 - val_loss: 0.3014 - val_accuracy: 0.8840\n",
      "Epoch 2/10\n",
      "1240/1240 [==============================] - 117s 94ms/step - loss: 0.2255 - accuracy: 0.9141 - val_loss: 0.2870 - val_accuracy: 0.8848\n",
      "Epoch 3/10\n",
      "1240/1240 [==============================] - 137s 111ms/step - loss: 0.1869 - accuracy: 0.9294 - val_loss: 0.3421 - val_accuracy: 0.8761\n",
      "Epoch 4/10\n",
      "1240/1240 [==============================] - 140s 113ms/step - loss: 0.1550 - accuracy: 0.9433 - val_loss: 0.3457 - val_accuracy: 0.8693\n",
      "Epoch 5/10\n",
      "1240/1240 [==============================] - 126s 102ms/step - loss: 0.1320 - accuracy: 0.9525 - val_loss: 0.3997 - val_accuracy: 0.8741\n",
      "Epoch 6/10\n",
      "1240/1240 [==============================] - 121s 98ms/step - loss: 0.1070 - accuracy: 0.9633 - val_loss: 0.4284 - val_accuracy: 0.8695\n",
      "Epoch 7/10\n",
      "1240/1240 [==============================] - 116s 94ms/step - loss: 0.0911 - accuracy: 0.9700 - val_loss: 0.4746 - val_accuracy: 0.8675\n",
      "Epoch 8/10\n",
      "1240/1240 [==============================] - 115s 93ms/step - loss: 0.0730 - accuracy: 0.9758 - val_loss: 0.5017 - val_accuracy: 0.8631\n",
      "Epoch 9/10\n",
      "1240/1240 [==============================] - 113s 91ms/step - loss: 0.0703 - accuracy: 0.9768 - val_loss: 0.4862 - val_accuracy: 0.8597\n",
      "Epoch 10/10\n",
      "1240/1240 [==============================] - 119s 96ms/step - loss: 0.0599 - accuracy: 0.9808 - val_loss: 0.5617 - val_accuracy: 0.8565\n",
      "1/1 [==============================] - 0s 266ms/step\n"
     ]
    }
   ],
   "source": [
    "import tensorflow as tf\n",
    "from tensorflow import keras\n",
    "from tensorflow.keras.layers import Embedding, LSTM, Dense\n",
    "\n",
    "# Convert the tokenized text data to sequences of integers\n",
    "\n",
    "tokenizer = keras.preprocessing.text.Tokenizer(num_words=10000)\n",
    "tokenizer.fit_on_texts(df['GRAMS'])\n",
    "sequences = tokenizer.texts_to_sequences(df['GRAMS'])\n",
    "\n",
    "# Pad sequences to have same length\n",
    "\n",
    "padded_sequences = keras.preprocessing.sequence.pad_sequences(sequences, maxlen=200)\n",
    "\n",
    "# Convert target labels to binary format\n",
    "\n",
    "targets = np.array(df['sentiment'])\n",
    "targets = np.where(targets==1, 1, 0)\n",
    "\n",
    "# Define the model architecture\n",
    "\n",
    "model = keras.Sequential([\n",
    "    Embedding(10000, 16, input_length=200),\n",
    "    LSTM(16),\n",
    "    Dense(1, activation='sigmoid')\n",
    "])\n",
    "\n",
    "# Compile the model\n",
    "\n",
    "model.compile(optimizer='adam', loss='binary_crossentropy', metrics=['accuracy'])\n",
    "\n",
    "# Train the model\n",
    "\n",
    "model.fit(padded_sequences, targets, epochs=10, validation_split=0.2)\n",
    "\n",
    "# Evaluate the model on test data\n",
    "\n",
    "test_sequences = tokenizer.texts_to_sequences(['your test data goes here'])\n",
    "padded_test_sequences = keras.preprocessing.sequence.pad_sequences(test_sequences, maxlen=200)\n",
    "predictions = model.predict(padded_test_sequences)"
   ]
  },
  {
   "cell_type": "markdown",
   "id": "a0014c2b",
   "metadata": {},
   "source": [
    "**Gated Recurrent Unit (GRU)**\n",
    "\n",
    "Gated Recurrent Unit (GRU) is a type of recurrent neural network (RNN) architecture that is similar to LSTM but has fewer parameters, making it faster to train and less prone to overfitting. GRUs also use gating mechanisms to control the flow of information, but unlike LSTMs, they have only two gates: reset and update gates. The reset gate helps the network decide how to combine the new input with the previous hidden state, while the update gate helps the network decide how much of the previous hidden state to keep and how much to discard. Overall, GRUs have shown promising results in various natural language processing (NLP) tasks such as language translation and text classification."
   ]
  },
  {
   "cell_type": "code",
   "execution_count": 162,
   "id": "a1572552",
   "metadata": {},
   "outputs": [
    {
     "name": "stdout",
     "output_type": "stream",
     "text": [
      "Epoch 1/10\n",
      "1240/1240 [==============================] - 121s 96ms/step - loss: 0.3720 - accuracy: 0.8269 - val_loss: 0.2915 - val_accuracy: 0.8793\n",
      "Epoch 2/10\n",
      "1240/1240 [==============================] - 119s 96ms/step - loss: 0.2302 - accuracy: 0.9110 - val_loss: 0.2904 - val_accuracy: 0.8864\n",
      "Epoch 3/10\n",
      "1240/1240 [==============================] - 122s 99ms/step - loss: 0.1923 - accuracy: 0.9287 - val_loss: 0.3162 - val_accuracy: 0.8812\n",
      "Epoch 4/10\n",
      "1240/1240 [==============================] - 119s 96ms/step - loss: 0.1615 - accuracy: 0.9424 - val_loss: 0.3482 - val_accuracy: 0.8807\n",
      "Epoch 5/10\n",
      "1240/1240 [==============================] - 123s 99ms/step - loss: 0.1335 - accuracy: 0.9545 - val_loss: 0.3751 - val_accuracy: 0.8721\n",
      "Epoch 6/10\n",
      "1240/1240 [==============================] - 124s 100ms/step - loss: 0.1134 - accuracy: 0.9614 - val_loss: 0.3964 - val_accuracy: 0.8708\n",
      "Epoch 7/10\n",
      "1240/1240 [==============================] - 124s 100ms/step - loss: 0.0937 - accuracy: 0.9693 - val_loss: 0.4278 - val_accuracy: 0.8703\n",
      "Epoch 8/10\n",
      "1240/1240 [==============================] - 118s 95ms/step - loss: 0.0791 - accuracy: 0.9749 - val_loss: 0.4387 - val_accuracy: 0.8683\n",
      "Epoch 9/10\n",
      "1240/1240 [==============================] - 131s 105ms/step - loss: 0.0690 - accuracy: 0.9782 - val_loss: 0.5028 - val_accuracy: 0.8691\n",
      "Epoch 10/10\n",
      "1240/1240 [==============================] - 126s 101ms/step - loss: 0.0535 - accuracy: 0.9844 - val_loss: 0.5306 - val_accuracy: 0.8657\n",
      "1/1 [==============================] - 0s 199ms/step\n"
     ]
    }
   ],
   "source": [
    "import pandas as pd\n",
    "import numpy as np\n",
    "import tensorflow as tf\n",
    "from tensorflow import keras\n",
    "from tensorflow.keras.layers import Embedding, GRU, Dense\n",
    "\n",
    "# Convert the tokenized text data to sequences of integers\n",
    "\n",
    "tokenizer = keras.preprocessing.text.Tokenizer(num_words=10000)\n",
    "tokenizer.fit_on_texts(df['GRAMS'])\n",
    "sequences = tokenizer.texts_to_sequences(df['GRAMS'])\n",
    "\n",
    "# Pad sequences to have same length\n",
    "\n",
    "padded_sequences = keras.preprocessing.sequence.pad_sequences(sequences, maxlen=200)\n",
    "\n",
    "# Convert target labels to binary format\n",
    "\n",
    "targets = np.array(df['sentiment'])\n",
    "targets = np.where(targets==1, 1, 0)\n",
    "\n",
    "# Define the model architecture\n",
    "\n",
    "model = keras.Sequential([\n",
    "    Embedding(10000, 16, input_length=200),\n",
    "    GRU(16),\n",
    "    Dense(1, activation='sigmoid')\n",
    "])\n",
    "\n",
    "# Compile the model\n",
    "\n",
    "model.compile(optimizer='adam', loss='binary_crossentropy', metrics=['accuracy'])\n",
    "\n",
    "# Train the model\n",
    "\n",
    "model.fit(padded_sequences, targets, epochs=10, validation_split=0.2)\n",
    "\n",
    "# Evaluate the model on test data\n",
    "\n",
    "test_sequences = tokenizer.texts_to_sequences(['your test data goes here'])\n",
    "padded_test_sequences = keras.preprocessing.sequence.pad_sequences(test_sequences, maxlen=200)\n",
    "predictions = model.predict(padded_test_sequences)"
   ]
  },
  {
   "cell_type": "code",
   "execution_count": null,
   "id": "f30627e9",
   "metadata": {},
   "outputs": [],
   "source": [
    "\n"
   ]
  }
 ],
 "metadata": {
  "kernelspec": {
   "display_name": "Python 3 (ipykernel)",
   "language": "python",
   "name": "python3"
  },
  "language_info": {
   "codemirror_mode": {
    "name": "ipython",
    "version": 3
   },
   "file_extension": ".py",
   "mimetype": "text/x-python",
   "name": "python",
   "nbconvert_exporter": "python",
   "pygments_lexer": "ipython3",
   "version": "3.10.9"
  }
 },
 "nbformat": 4,
 "nbformat_minor": 5
}
